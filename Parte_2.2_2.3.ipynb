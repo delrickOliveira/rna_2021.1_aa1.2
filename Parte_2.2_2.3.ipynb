{
 "cells": [
  {
   "cell_type": "markdown",
   "id": "24732523",
   "metadata": {},
   "source": [
    "# Atividade 2.2\n",
    "\n"
   ]
  },
  {
   "cell_type": "markdown",
   "id": "e2e0e4a1",
   "metadata": {},
   "source": [
    "### Importanto bibliotecas e acessando a Base de Dados"
   ]
  },
  {
   "cell_type": "markdown",
   "id": "5fa47f91",
   "metadata": {},
   "source": [
    "! Base de Dados do dia: 11/10/2021"
   ]
  },
  {
   "cell_type": "code",
   "execution_count": 2,
   "id": "2018a6d8",
   "metadata": {},
   "outputs": [
    {
     "name": "stderr",
     "output_type": "stream",
     "text": [
      "C:\\Users\\sabrj\\anaconda3\\lib\\site-packages\\IPython\\core\\interactiveshell.py:3165: DtypeWarning: Columns (0,6,7,8,9,10,11,12,13,14,15,16,17,18,19,22,23,24,26,27,28,29,30,31,32,33,34) have mixed types.Specify dtype option on import or set low_memory=False.\n",
      "  has_raised = await self.run_ast_nodes(code_ast.body, cell_name,\n"
     ]
    }
   ],
   "source": [
    "\n",
    "\n",
    "import pandas as pd\n",
    "import numpy as np\n",
    "import matplotlib.pyplot as plt\n",
    "\n",
    "\n",
    "### Abrindo o DataSet\n",
    "#### Modificações Iniciais da Base\n",
    "\n",
    "data = pd.read_csv('Manaus.csv',sep=';', header=None, skiprows=0)"
   ]
  },
  {
   "cell_type": "code",
   "execution_count": 3,
   "id": "a3d729ae",
   "metadata": {},
   "outputs": [],
   "source": [
    "data.columns = data.iloc[0]"
   ]
  },
  {
   "cell_type": "code",
   "execution_count": 3,
   "id": "b84e01f0",
   "metadata": {},
   "outputs": [],
   "source": []
  },
  {
   "cell_type": "code",
   "execution_count": 4,
   "id": "e4ead6a8",
   "metadata": {},
   "outputs": [],
   "source": [
    "data = data.drop(0)"
   ]
  },
  {
   "cell_type": "code",
   "execution_count": 5,
   "id": "87b69900",
   "metadata": {},
   "outputs": [
    {
     "data": {
      "text/plain": "0      _dt_evolucao   _dt_notificacao      _dt_sintomas _classificacao  \\\n1  25/01/2020 00:00  03/01/2020 00:00  01/01/2020 00:00     Descartado   \n2  03/01/2020 00:00  03/01/2020 00:00  01/01/2020 00:00     Descartado   \n3  05/01/2020 00:00  03/01/2020 00:00  03/01/2020 00:00     Descartado   \n4  16/01/2020 00:00  08/01/2020 00:00  04/01/2020 00:00     Descartado   \n5  11/01/2020 00:00  08/01/2020 00:00  05/01/2020 00:00     Descartado   \n\n0  _conclusao  _origem _comorb_cardio _comorb_cromossomica _comorb_diabetes  \\\n1  Recuperado  SIVEP,             NaN                  NaN              NaN   \n2       Óbito  SIVEP,             NaN                  NaN              NaN   \n3       Óbito  SIVEP,             NaN                  NaN              NaN   \n4       Óbito  SIVEP,             NaN                  NaN              NaN   \n5  Recuperado  SIVEP,             NaN                  NaN              NaN   \n\n0 _comorb_hemato  ... _sintoma_tosse _sintoma_outros                  _srag  \\\n1            NaN  ...            Sim             Sim  SRAG não especificado   \n2            NaN  ...            Sim             Sim            Influenza B   \n3            NaN  ...            Sim             Sim  SRAG não especificado   \n4            NaN  ...            Sim             Sim  SRAG não especificado   \n5            NaN  ...            Sim             Sim  SRAG não especificado   \n\n0 _teste_anticorpo _teste_antigeno _teste_pcr         _bairro    _bairro_mapa  \\\n1              NaN             NaN        NaN          TARUMA          TARUMÃ   \n2              NaN             NaN        NaN      TARUMA-ACU      TARUMÃ-AÇÚ   \n3              NaN             NaN        NaN  JORGE TEIXEIRA  JORGE TEIXEIRA   \n4              NaN             NaN        NaN          FLORES          FLORES   \n5              NaN             NaN        NaN  CIDADE DE DEUS  CIDADE DE DEUS   \n\n0 _distrito        _taxa  \n1     OESTE  0,243042897  \n2     OESTE  0,684931507  \n3     LESTE  0,073137374  \n4       SUL  0,198306463  \n5     NORTE  0,117699678  \n\n[5 rows x 39 columns]",
      "text/html": "<div>\n<style scoped>\n    .dataframe tbody tr th:only-of-type {\n        vertical-align: middle;\n    }\n\n    .dataframe tbody tr th {\n        vertical-align: top;\n    }\n\n    .dataframe thead th {\n        text-align: right;\n    }\n</style>\n<table border=\"1\" class=\"dataframe\">\n  <thead>\n    <tr style=\"text-align: right;\">\n      <th></th>\n      <th>_dt_evolucao</th>\n      <th>_dt_notificacao</th>\n      <th>_dt_sintomas</th>\n      <th>_classificacao</th>\n      <th>_conclusao</th>\n      <th>_origem</th>\n      <th>_comorb_cardio</th>\n      <th>_comorb_cromossomica</th>\n      <th>_comorb_diabetes</th>\n      <th>_comorb_hemato</th>\n      <th>...</th>\n      <th>_sintoma_tosse</th>\n      <th>_sintoma_outros</th>\n      <th>_srag</th>\n      <th>_teste_anticorpo</th>\n      <th>_teste_antigeno</th>\n      <th>_teste_pcr</th>\n      <th>_bairro</th>\n      <th>_bairro_mapa</th>\n      <th>_distrito</th>\n      <th>_taxa</th>\n    </tr>\n  </thead>\n  <tbody>\n    <tr>\n      <th>1</th>\n      <td>25/01/2020 00:00</td>\n      <td>03/01/2020 00:00</td>\n      <td>01/01/2020 00:00</td>\n      <td>Descartado</td>\n      <td>Recuperado</td>\n      <td>SIVEP,</td>\n      <td>NaN</td>\n      <td>NaN</td>\n      <td>NaN</td>\n      <td>NaN</td>\n      <td>...</td>\n      <td>Sim</td>\n      <td>Sim</td>\n      <td>SRAG não especificado</td>\n      <td>NaN</td>\n      <td>NaN</td>\n      <td>NaN</td>\n      <td>TARUMA</td>\n      <td>TARUMÃ</td>\n      <td>OESTE</td>\n      <td>0,243042897</td>\n    </tr>\n    <tr>\n      <th>2</th>\n      <td>03/01/2020 00:00</td>\n      <td>03/01/2020 00:00</td>\n      <td>01/01/2020 00:00</td>\n      <td>Descartado</td>\n      <td>Óbito</td>\n      <td>SIVEP,</td>\n      <td>NaN</td>\n      <td>NaN</td>\n      <td>NaN</td>\n      <td>NaN</td>\n      <td>...</td>\n      <td>Sim</td>\n      <td>Sim</td>\n      <td>Influenza B</td>\n      <td>NaN</td>\n      <td>NaN</td>\n      <td>NaN</td>\n      <td>TARUMA-ACU</td>\n      <td>TARUMÃ-AÇÚ</td>\n      <td>OESTE</td>\n      <td>0,684931507</td>\n    </tr>\n    <tr>\n      <th>3</th>\n      <td>05/01/2020 00:00</td>\n      <td>03/01/2020 00:00</td>\n      <td>03/01/2020 00:00</td>\n      <td>Descartado</td>\n      <td>Óbito</td>\n      <td>SIVEP,</td>\n      <td>NaN</td>\n      <td>NaN</td>\n      <td>NaN</td>\n      <td>NaN</td>\n      <td>...</td>\n      <td>Sim</td>\n      <td>Sim</td>\n      <td>SRAG não especificado</td>\n      <td>NaN</td>\n      <td>NaN</td>\n      <td>NaN</td>\n      <td>JORGE TEIXEIRA</td>\n      <td>JORGE TEIXEIRA</td>\n      <td>LESTE</td>\n      <td>0,073137374</td>\n    </tr>\n    <tr>\n      <th>4</th>\n      <td>16/01/2020 00:00</td>\n      <td>08/01/2020 00:00</td>\n      <td>04/01/2020 00:00</td>\n      <td>Descartado</td>\n      <td>Óbito</td>\n      <td>SIVEP,</td>\n      <td>NaN</td>\n      <td>NaN</td>\n      <td>NaN</td>\n      <td>NaN</td>\n      <td>...</td>\n      <td>Sim</td>\n      <td>Sim</td>\n      <td>SRAG não especificado</td>\n      <td>NaN</td>\n      <td>NaN</td>\n      <td>NaN</td>\n      <td>FLORES</td>\n      <td>FLORES</td>\n      <td>SUL</td>\n      <td>0,198306463</td>\n    </tr>\n    <tr>\n      <th>5</th>\n      <td>11/01/2020 00:00</td>\n      <td>08/01/2020 00:00</td>\n      <td>05/01/2020 00:00</td>\n      <td>Descartado</td>\n      <td>Recuperado</td>\n      <td>SIVEP,</td>\n      <td>NaN</td>\n      <td>NaN</td>\n      <td>NaN</td>\n      <td>NaN</td>\n      <td>...</td>\n      <td>Sim</td>\n      <td>Sim</td>\n      <td>SRAG não especificado</td>\n      <td>NaN</td>\n      <td>NaN</td>\n      <td>NaN</td>\n      <td>CIDADE DE DEUS</td>\n      <td>CIDADE DE DEUS</td>\n      <td>NORTE</td>\n      <td>0,117699678</td>\n    </tr>\n  </tbody>\n</table>\n<p>5 rows × 39 columns</p>\n</div>"
     },
     "execution_count": 5,
     "metadata": {},
     "output_type": "execute_result"
    }
   ],
   "source": [
    "data.head()"
   ]
  },
  {
   "cell_type": "code",
   "execution_count": 6,
   "id": "e4dee3ac",
   "metadata": {},
   "outputs": [
    {
     "name": "stdout",
     "output_type": "stream",
     "text": [
      "<class 'pandas.core.frame.DataFrame'>\n",
      "Int64Index: 243984 entries, 1 to 243984\n",
      "Data columns (total 39 columns):\n",
      " #   Column                Non-Null Count   Dtype \n",
      "---  ------                --------------   ----- \n",
      " 0   _dt_evolucao          119011 non-null  object\n",
      " 1   _dt_notificacao       243913 non-null  object\n",
      " 2   _dt_sintomas          235760 non-null  object\n",
      " 3   _classificacao        243984 non-null  object\n",
      " 4   _conclusao            180928 non-null  object\n",
      " 5   _origem               243984 non-null  object\n",
      " 6   _comorb_cardio        13686 non-null   object\n",
      " 7   _comorb_cromossomica  527 non-null     object\n",
      " 8   _comorb_diabetes      9981 non-null    object\n",
      " 9   _comorb_hemato        175 non-null     object\n",
      " 10  _comorb_hepatica      135 non-null     object\n",
      " 11  _comorb_imuno         1805 non-null    object\n",
      " 12  _comorb_neurologica   542 non-null     object\n",
      " 13  _comorb_obessidade    573 non-null     object\n",
      " 14  _comorb_renal         1098 non-null    object\n",
      " 15  _comorb_respiratoria  5722 non-null    object\n",
      " 16  _criterio             13084 non-null   object\n",
      " 17  _etnia                42 non-null      object\n",
      " 18  _evolução             21578 non-null   object\n",
      " 19  _idade                243913 non-null  object\n",
      " 20  _faixa etária         243913 non-null  object\n",
      " 21  _gestante             1775 non-null    object\n",
      " 22  _profiss_saude        16590 non-null   object\n",
      " 23  _raca                 213506 non-null  object\n",
      " 24  _se_notificacao       243913 non-null  object\n",
      " 25  _sexo                 243497 non-null  object\n",
      " 26  _sintoma_dispneia     59038 non-null   object\n",
      " 27  _sintoma_febre        107189 non-null  object\n",
      " 28  _sintoma_garganta     73809 non-null   object\n",
      " 29  _sintoma_tosse        112833 non-null  object\n",
      " 30  _sintoma_outros       97691 non-null   object\n",
      " 31  _srag                 14092 non-null   object\n",
      " 32  _teste_anticorpo      138919 non-null  object\n",
      " 33  _teste_antigeno       23196 non-null   object\n",
      " 34  _teste_pcr            58306 non-null   object\n",
      " 35  _bairro               240419 non-null  object\n",
      " 36  _bairro_mapa          230641 non-null  object\n",
      " 37  _distrito             230641 non-null  object\n",
      " 38  _taxa                 230641 non-null  object\n",
      "dtypes: object(39)\n",
      "memory usage: 74.5+ MB\n"
     ]
    }
   ],
   "source": [
    "data.info()"
   ]
  },
  {
   "cell_type": "markdown",
   "id": "ca1be728",
   "metadata": {},
   "source": [
    "#### Removendo Casos que não são confirmados"
   ]
  },
  {
   "cell_type": "code",
   "execution_count": 7,
   "id": "cf0dea07",
   "metadata": {},
   "outputs": [
    {
     "data": {
      "text/plain": "Int64Index([     1,      2,      3,      4,      5,      6,      7,      8,\n                 9,     10,\n            ...\n            243970, 243972, 243973, 243975, 243976, 243977, 243979, 243981,\n            243982, 243984],\n           dtype='int64', length=163564)"
     },
     "execution_count": 7,
     "metadata": {},
     "output_type": "execute_result"
    }
   ],
   "source": [
    "x = data.loc[data['_classificacao']!='Confirmado']\n",
    "\n",
    "x.index"
   ]
  },
  {
   "cell_type": "code",
   "execution_count": 8,
   "id": "97bc0688",
   "metadata": {},
   "outputs": [],
   "source": [
    "data = data.drop(x.index)"
   ]
  },
  {
   "cell_type": "code",
   "execution_count": 9,
   "id": "e2d68355",
   "metadata": {},
   "outputs": [
    {
     "data": {
      "text/plain": "Confirmado    80420\nName: _classificacao, dtype: int64"
     },
     "execution_count": 9,
     "metadata": {},
     "output_type": "execute_result"
    }
   ],
   "source": [
    "data['_classificacao'].value_counts()"
   ]
  },
  {
   "cell_type": "code",
   "execution_count": 9,
   "id": "9a91754b",
   "metadata": {},
   "outputs": [],
   "source": []
  },
  {
   "cell_type": "code",
   "execution_count": 10,
   "id": "d5ccae5c",
   "metadata": {},
   "outputs": [],
   "source": [
    "data = data.drop(columns=['_comorb_cardio','_comorb_cromossomica','_comorb_diabetes','_comorb_hemato','_comorb_hepatica','_comorb_imuno','_comorb_neurologica','_comorb_obessidade','_comorb_renal','_comorb_respiratoria',\n",
    "'_sintoma_dispneia','_sintoma_febre','_sintoma_garganta','_sintoma_tosse','_sintoma_outros','_etnia','_evolução','_profiss_saude','_dt_evolucao','_dt_sintomas','_gestante','_raca'])"
   ]
  },
  {
   "cell_type": "code",
   "execution_count": 11,
   "id": "3e6147c3",
   "metadata": {},
   "outputs": [
    {
     "data": {
      "text/plain": "0     _dt_notificacao _classificacao  _conclusao           _origem  \\\n131  23/02/2020 00:00     Confirmado  Recuperado        SIVEP, GAL   \n145  28/02/2020 00:00     Confirmado  Recuperado        SIVEP, GAL   \n154  02/03/2020 00:00     Confirmado  Recuperado  SIVEP, eSUS VE,    \n159  02/03/2020 00:00     Confirmado  Recuperado  SIVEP, eSUS VE,    \n197  11/03/2020 00:00     Confirmado  Recuperado        SIVEP, GAL   \n\n0       _criterio _idade _faixa etária _se_notificacao _sexo  \\\n131  Laboratorial     12     10a - 14a               9     F   \n145  Laboratorial     39     30a - 39a               9     F   \n154  Laboratorial      2       1a - 4a              10     F   \n159  Laboratorial     71     70a - 79a              10     F   \n197       Clínico     46     40a - 49a              11     F   \n\n0                           _srag _teste_anticorpo _teste_antigeno _teste_pcr  \\\n131         SRAG não especificado              NaN             NaN          1   \n145  Vírus Sincicial Respiratório              NaN             NaN          1   \n154         SRAG não especificado                1             NaN        NaN   \n159         SRAG não especificado                2             NaN        NaN   \n197         SRAG não especificado              NaN             NaN          2   \n\n0                _bairro         _bairro_mapa _distrito        _taxa  \n131            MAUAZINHO            MAUAZINHO     LESTE   0,35040998  \n145          NOVO ALEIXO          NOVO ALEIXO     NORTE  0,085452557  \n154  PRACA 14 DE JANEIRO  PRAÇA 14 DE JANEIRO       SUL  0,861920359  \n159               FLORES               FLORES       SUL  0,198306463  \n197          CIDADE NOVA          CIDADE NOVA     NORTE  0,068152389  ",
      "text/html": "<div>\n<style scoped>\n    .dataframe tbody tr th:only-of-type {\n        vertical-align: middle;\n    }\n\n    .dataframe tbody tr th {\n        vertical-align: top;\n    }\n\n    .dataframe thead th {\n        text-align: right;\n    }\n</style>\n<table border=\"1\" class=\"dataframe\">\n  <thead>\n    <tr style=\"text-align: right;\">\n      <th></th>\n      <th>_dt_notificacao</th>\n      <th>_classificacao</th>\n      <th>_conclusao</th>\n      <th>_origem</th>\n      <th>_criterio</th>\n      <th>_idade</th>\n      <th>_faixa etária</th>\n      <th>_se_notificacao</th>\n      <th>_sexo</th>\n      <th>_srag</th>\n      <th>_teste_anticorpo</th>\n      <th>_teste_antigeno</th>\n      <th>_teste_pcr</th>\n      <th>_bairro</th>\n      <th>_bairro_mapa</th>\n      <th>_distrito</th>\n      <th>_taxa</th>\n    </tr>\n  </thead>\n  <tbody>\n    <tr>\n      <th>131</th>\n      <td>23/02/2020 00:00</td>\n      <td>Confirmado</td>\n      <td>Recuperado</td>\n      <td>SIVEP, GAL</td>\n      <td>Laboratorial</td>\n      <td>12</td>\n      <td>10a - 14a</td>\n      <td>9</td>\n      <td>F</td>\n      <td>SRAG não especificado</td>\n      <td>NaN</td>\n      <td>NaN</td>\n      <td>1</td>\n      <td>MAUAZINHO</td>\n      <td>MAUAZINHO</td>\n      <td>LESTE</td>\n      <td>0,35040998</td>\n    </tr>\n    <tr>\n      <th>145</th>\n      <td>28/02/2020 00:00</td>\n      <td>Confirmado</td>\n      <td>Recuperado</td>\n      <td>SIVEP, GAL</td>\n      <td>Laboratorial</td>\n      <td>39</td>\n      <td>30a - 39a</td>\n      <td>9</td>\n      <td>F</td>\n      <td>Vírus Sincicial Respiratório</td>\n      <td>NaN</td>\n      <td>NaN</td>\n      <td>1</td>\n      <td>NOVO ALEIXO</td>\n      <td>NOVO ALEIXO</td>\n      <td>NORTE</td>\n      <td>0,085452557</td>\n    </tr>\n    <tr>\n      <th>154</th>\n      <td>02/03/2020 00:00</td>\n      <td>Confirmado</td>\n      <td>Recuperado</td>\n      <td>SIVEP, eSUS VE,</td>\n      <td>Laboratorial</td>\n      <td>2</td>\n      <td>1a - 4a</td>\n      <td>10</td>\n      <td>F</td>\n      <td>SRAG não especificado</td>\n      <td>1</td>\n      <td>NaN</td>\n      <td>NaN</td>\n      <td>PRACA 14 DE JANEIRO</td>\n      <td>PRAÇA 14 DE JANEIRO</td>\n      <td>SUL</td>\n      <td>0,861920359</td>\n    </tr>\n    <tr>\n      <th>159</th>\n      <td>02/03/2020 00:00</td>\n      <td>Confirmado</td>\n      <td>Recuperado</td>\n      <td>SIVEP, eSUS VE,</td>\n      <td>Laboratorial</td>\n      <td>71</td>\n      <td>70a - 79a</td>\n      <td>10</td>\n      <td>F</td>\n      <td>SRAG não especificado</td>\n      <td>2</td>\n      <td>NaN</td>\n      <td>NaN</td>\n      <td>FLORES</td>\n      <td>FLORES</td>\n      <td>SUL</td>\n      <td>0,198306463</td>\n    </tr>\n    <tr>\n      <th>197</th>\n      <td>11/03/2020 00:00</td>\n      <td>Confirmado</td>\n      <td>Recuperado</td>\n      <td>SIVEP, GAL</td>\n      <td>Clínico</td>\n      <td>46</td>\n      <td>40a - 49a</td>\n      <td>11</td>\n      <td>F</td>\n      <td>SRAG não especificado</td>\n      <td>NaN</td>\n      <td>NaN</td>\n      <td>2</td>\n      <td>CIDADE NOVA</td>\n      <td>CIDADE NOVA</td>\n      <td>NORTE</td>\n      <td>0,068152389</td>\n    </tr>\n  </tbody>\n</table>\n</div>"
     },
     "execution_count": 11,
     "metadata": {},
     "output_type": "execute_result"
    }
   ],
   "source": [
    "data.head()"
   ]
  },
  {
   "cell_type": "code",
   "execution_count": 12,
   "id": "3a19f5f6",
   "metadata": {},
   "outputs": [],
   "source": [
    "#data.dropna(subset=['_dt_notificacao','_classificacao','_conclusao','_origem','_criterio','_idade','_faixa etária','_se_notificacao','_sexo','_srag','_teste_anticorpo','_teste_antigeno','_teste_pcr','_bairro','_bairro_mapa','_distrito','_taxa'],inplace=True)"
   ]
  },
  {
   "cell_type": "code",
   "execution_count": 12,
   "id": "9f0a554c",
   "metadata": {},
   "outputs": [],
   "source": []
  },
  {
   "cell_type": "code",
   "execution_count": 13,
   "id": "69b9acb4",
   "metadata": {},
   "outputs": [
    {
     "name": "stdout",
     "output_type": "stream",
     "text": [
      "<class 'pandas.core.frame.DataFrame'>\n",
      "Int64Index: 80420 entries, 131 to 243983\n",
      "Data columns (total 17 columns):\n",
      " #   Column            Non-Null Count  Dtype \n",
      "---  ------            --------------  ----- \n",
      " 0   _dt_notificacao   80395 non-null  object\n",
      " 1   _classificacao    80420 non-null  object\n",
      " 2   _conclusao        42774 non-null  object\n",
      " 3   _origem           80420 non-null  object\n",
      " 4   _criterio         8842 non-null   object\n",
      " 5   _idade            80395 non-null  object\n",
      " 6   _faixa etária     80395 non-null  object\n",
      " 7   _se_notificacao   80395 non-null  object\n",
      " 8   _sexo             80301 non-null  object\n",
      " 9   _srag             9095 non-null   object\n",
      " 10  _teste_anticorpo  52177 non-null  object\n",
      " 11  _teste_antigeno   8342 non-null   object\n",
      " 12  _teste_pcr        23308 non-null  object\n",
      " 13  _bairro           79649 non-null  object\n",
      " 14  _bairro_mapa      76699 non-null  object\n",
      " 15  _distrito         76699 non-null  object\n",
      " 16  _taxa             76699 non-null  object\n",
      "dtypes: object(17)\n",
      "memory usage: 11.0+ MB\n"
     ]
    }
   ],
   "source": [
    "data.info()"
   ]
  },
  {
   "cell_type": "markdown",
   "id": "13ce0d85",
   "metadata": {},
   "source": [
    "###### REMOVENDO LINHAS SEM BAIRROS IDENTIFICADOS "
   ]
  },
  {
   "cell_type": "code",
   "execution_count": 14,
   "id": "2ad646c8",
   "metadata": {},
   "outputs": [
    {
     "data": {
      "text/plain": "131       False\n145       False\n154       False\n159       False\n197       False\n          ...  \n243971     True\n243974    False\n243978    False\n243980    False\n243983    False\nName: _bairro, Length: 80420, dtype: bool"
     },
     "execution_count": 14,
     "metadata": {},
     "output_type": "execute_result"
    }
   ],
   "source": [
    "nan_value = float(\"NaN\")\n",
    "data['_bairro'].replace(\"\", nan_value, inplace=True)\n",
    "data['_bairro'].isnull()"
   ]
  },
  {
   "cell_type": "code",
   "execution_count": 15,
   "id": "e7019afe",
   "metadata": {},
   "outputs": [
    {
     "data": {
      "text/plain": "CIDADE NOVA            4767\nFLORES                 3007\nSAO JOSE OPERARIO      2637\nNOVO ALEIXO            2366\nALVORADA               2314\n                       ... \nSANTANA DE BARRA          1\nPARQUE X DE NOVEMBR       1\nCJ CIDADE NOVA            1\nSAO  GERALDO              1\nCIDADE NOVA 0I            1\nName: _bairro, Length: 2629, dtype: int64"
     },
     "execution_count": 15,
     "metadata": {},
     "output_type": "execute_result"
    }
   ],
   "source": [
    "data.dropna(subset = [\"_bairro\"], inplace=True)\n",
    "bairros = data['_bairro'].value_counts()\n",
    "bairros"
   ]
  },
  {
   "cell_type": "code",
   "execution_count": 16,
   "id": "270bf471",
   "metadata": {},
   "outputs": [
    {
     "data": {
      "text/plain": "131       False\n145       False\n154       False\n159       False\n197       False\n          ...  \n243924    False\n243974    False\n243978    False\n243980    False\n243983    False\nName: _sexo, Length: 79649, dtype: bool"
     },
     "execution_count": 16,
     "metadata": {},
     "output_type": "execute_result"
    }
   ],
   "source": [
    "nan_value = float(\"NaN\")\n",
    "data['_sexo'].replace(\"\", nan_value, inplace=True)\n",
    "data['_sexo'].isnull()"
   ]
  },
  {
   "cell_type": "code",
   "execution_count": 17,
   "id": "c38149dd",
   "metadata": {},
   "outputs": [
    {
     "data": {
      "text/plain": "F    43805\nM    35725\nName: _sexo, dtype: int64"
     },
     "execution_count": 17,
     "metadata": {},
     "output_type": "execute_result"
    }
   ],
   "source": [
    "data.dropna(subset = [\"_sexo\"], inplace=True)\n",
    "data['_sexo'].value_counts()"
   ]
  },
  {
   "cell_type": "code",
   "execution_count": 18,
   "id": "1dc3728c",
   "metadata": {},
   "outputs": [
    {
     "data": {
      "text/plain": "131       False\n145       False\n154       False\n159       False\n197       False\n          ...  \n243924    False\n243974    False\n243978    False\n243980    False\n243983    False\nName: _idade, Length: 79530, dtype: bool"
     },
     "execution_count": 18,
     "metadata": {},
     "output_type": "execute_result"
    }
   ],
   "source": [
    "nan_value = float(\"NaN\")\n",
    "data['_idade'].replace(\"\", nan_value, inplace=True)\n",
    "data['_idade'].isnull()"
   ]
  },
  {
   "cell_type": "code",
   "execution_count": 19,
   "id": "1c34f7b3",
   "metadata": {},
   "outputs": [
    {
     "data": {
      "text/plain": "38.0     2041\n40.0     1986\n41.0     1934\n37.0     1931\n39.0     1931\n         ... \n351.0       1\n360.0       1\n102         1\n101         1\n130.0       1\nName: _idade, Length: 219, dtype: int64"
     },
     "execution_count": 19,
     "metadata": {},
     "output_type": "execute_result"
    }
   ],
   "source": [
    "data.dropna(subset = [\"_idade\"], inplace=True)\n",
    "data['_idade'].value_counts()"
   ]
  },
  {
   "cell_type": "code",
   "execution_count": 20,
   "id": "ee369cbf",
   "metadata": {},
   "outputs": [
    {
     "data": {
      "text/plain": "'nan_value = float(\"NaN\")\\ndata[\\'_conclusao\\'].replace(\"\", nan_value, inplace=True)\\ndata[\\'_conclusao\\'].isnull()\\ndata.dropna(subset = [\\'_conclusao\\'], inplace=True)'"
     },
     "execution_count": 20,
     "metadata": {},
     "output_type": "execute_result"
    }
   ],
   "source": [
    "'''nan_value = float(\"NaN\")\n",
    "data['_conclusao'].replace(\"\", nan_value, inplace=True)\n",
    "data['_conclusao'].isnull()\n",
    "data.dropna(subset = ['_conclusao'], inplace=True)'''"
   ]
  },
  {
   "cell_type": "code",
   "execution_count": 20,
   "id": "70d65092",
   "metadata": {},
   "outputs": [],
   "source": []
  },
  {
   "cell_type": "markdown",
   "id": "5cb6668c",
   "metadata": {},
   "source": [
    "### Atividade 2.2.1 Ordem com 10 Bairros com mais casos confirmados"
   ]
  },
  {
   "cell_type": "code",
   "execution_count": 21,
   "id": "b9789ede",
   "metadata": {},
   "outputs": [
    {
     "data": {
      "text/plain": "CIDADE NOVA            4767\nFLORES                 3007\nSAO JOSE OPERARIO      2637\nNOVO ALEIXO            2366\nALVORADA               2314\n                       ... \nSANTANA DE BARRA          1\nPARQUE X DE NOVEMBR       1\nCJ CIDADE NOVA            1\nSAO  GERALDO              1\nCIDADE NOVA 0I            1\nName: _bairro, Length: 2629, dtype: int64"
     },
     "execution_count": 21,
     "metadata": {},
     "output_type": "execute_result"
    }
   ],
   "source": [
    "outro_bairros=bairros[11:].sum()\n",
    "bairros"
   ]
  },
  {
   "cell_type": "code",
   "execution_count": 22,
   "id": "a123b07f",
   "metadata": {},
   "outputs": [],
   "source": [
    "locais = bairros[0:10].to_frame()"
   ]
  },
  {
   "cell_type": "code",
   "execution_count": 23,
   "id": "1d209ed1",
   "metadata": {},
   "outputs": [],
   "source": [
    "locais.loc['Outros'] = [outro_bairros]"
   ]
  },
  {
   "cell_type": "code",
   "execution_count": 24,
   "id": "f1d93b2a",
   "metadata": {},
   "outputs": [
    {
     "data": {
      "text/plain": "                   _bairro\nCIDADE NOVA           4767\nFLORES                3007\nSAO JOSE OPERARIO     2637\nNOVO ALEIXO           2366\nALVORADA              2314\nJORGE TEIXEIRA        2294\nCENTRO                2210\nCOMPENSA              2200\nCOROADO               2067\nALEIXO                2007\nOutros               51927",
      "text/html": "<div>\n<style scoped>\n    .dataframe tbody tr th:only-of-type {\n        vertical-align: middle;\n    }\n\n    .dataframe tbody tr th {\n        vertical-align: top;\n    }\n\n    .dataframe thead th {\n        text-align: right;\n    }\n</style>\n<table border=\"1\" class=\"dataframe\">\n  <thead>\n    <tr style=\"text-align: right;\">\n      <th></th>\n      <th>_bairro</th>\n    </tr>\n  </thead>\n  <tbody>\n    <tr>\n      <th>CIDADE NOVA</th>\n      <td>4767</td>\n    </tr>\n    <tr>\n      <th>FLORES</th>\n      <td>3007</td>\n    </tr>\n    <tr>\n      <th>SAO JOSE OPERARIO</th>\n      <td>2637</td>\n    </tr>\n    <tr>\n      <th>NOVO ALEIXO</th>\n      <td>2366</td>\n    </tr>\n    <tr>\n      <th>ALVORADA</th>\n      <td>2314</td>\n    </tr>\n    <tr>\n      <th>JORGE TEIXEIRA</th>\n      <td>2294</td>\n    </tr>\n    <tr>\n      <th>CENTRO</th>\n      <td>2210</td>\n    </tr>\n    <tr>\n      <th>COMPENSA</th>\n      <td>2200</td>\n    </tr>\n    <tr>\n      <th>COROADO</th>\n      <td>2067</td>\n    </tr>\n    <tr>\n      <th>ALEIXO</th>\n      <td>2007</td>\n    </tr>\n    <tr>\n      <th>Outros</th>\n      <td>51927</td>\n    </tr>\n  </tbody>\n</table>\n</div>"
     },
     "execution_count": 24,
     "metadata": {},
     "output_type": "execute_result"
    }
   ],
   "source": [
    "locais"
   ]
  },
  {
   "cell_type": "code",
   "execution_count": 25,
   "id": "d3197e60",
   "metadata": {},
   "outputs": [],
   "source": [
    "n_casos = locais['_bairro'].values.tolist()"
   ]
  },
  {
   "cell_type": "code",
   "execution_count": 26,
   "id": "7fbccfed",
   "metadata": {},
   "outputs": [],
   "source": [
    "nome_locais = locais.index.tolist()"
   ]
  },
  {
   "cell_type": "code",
   "execution_count": 27,
   "id": "dd602641",
   "metadata": {},
   "outputs": [
    {
     "data": {
      "text/plain": "<Figure size 432x288 with 1 Axes>",
      "image/png": "[encoded data removed]"
     },
     "metadata": {},
     "output_type": "display_data"
    }
   ],
   "source": [
    "\n",
    "cores=['gold', 'red', 'blue', 'magenta', 'green','lightskyblue', 'yellowgreen']\n",
    "\n",
    "# Atribuindo um título ao gráfico\n",
    "plt.title('Bairros com mais casos confirmados')\n",
    "\n",
    "plt.pie(n_casos, labels=nome_locais, colors=cores, autopct='%1.1f%%', shadow=True, startangle=90)\n",
    "\n",
    "#Adiciona Legenda\n",
    "plt.legend(nome_locais, bbox_to_anchor=(1.3, 1.1))\n",
    "\n",
    "#Centraliza o gráfico\n",
    "plt.axis('equal')\n",
    "\n",
    "#Ajusta o espaçamento para evitar o recorte do rótulo\n",
    "plt.tight_layout()\n",
    "\n",
    "plt.show()"
   ]
  },
  {
   "cell_type": "markdown",
   "id": "5d6d6bff",
   "metadata": {},
   "source": [
    "### 2.2.1 - Distribuição dos 10 bairros com mais casos confirmados, incluindo demais bairros"
   ]
  },
  {
   "cell_type": "markdown",
   "id": "c4e72c0b",
   "metadata": {},
   "source": [
    "## ----------------------------------------------------------------------------------------------------------\n",
    "## Atividade 2.2.2"
   ]
  },
  {
   "cell_type": "code",
   "execution_count": 28,
   "id": "d3a3de8d",
   "metadata": {},
   "outputs": [
    {
     "data": {
      "text/plain": "F    43798\nM    35707\nName: _sexo, dtype: int64"
     },
     "execution_count": 28,
     "metadata": {},
     "output_type": "execute_result"
    }
   ],
   "source": [
    "data['_sexo'].value_counts()"
   ]
  },
  {
   "cell_type": "code",
   "execution_count": 29,
   "id": "eec44710",
   "metadata": {},
   "outputs": [
    {
     "data": {
      "text/plain": "131       F\n145       F\n154       F\n159       F\n197       F\n         ..\n243924    M\n243974    M\n243978    F\n243980    F\n243983    F\nName: _sexo, Length: 79505, dtype: object"
     },
     "execution_count": 29,
     "metadata": {},
     "output_type": "execute_result"
    }
   ],
   "source": [
    "data['_sexo']"
   ]
  },
  {
   "cell_type": "code",
   "execution_count": 30,
   "id": "6ce6a8aa",
   "metadata": {},
   "outputs": [
    {
     "name": "stdout",
     "output_type": "stream",
     "text": [
      "<class 'pandas.core.frame.DataFrame'>\n",
      "Int64Index: 79505 entries, 131 to 243983\n",
      "Data columns (total 17 columns):\n",
      " #   Column            Non-Null Count  Dtype \n",
      "---  ------            --------------  ----- \n",
      " 0   _dt_notificacao   79505 non-null  object\n",
      " 1   _classificacao    79505 non-null  object\n",
      " 2   _conclusao        42685 non-null  object\n",
      " 3   _origem           79505 non-null  object\n",
      " 4   _criterio         8823 non-null   object\n",
      " 5   _idade            79505 non-null  object\n",
      " 6   _faixa etária     79505 non-null  object\n",
      " 7   _se_notificacao   79505 non-null  object\n",
      " 8   _sexo             79505 non-null  object\n",
      " 9   _srag             9074 non-null   object\n",
      " 10  _teste_anticorpo  51969 non-null  object\n",
      " 11  _teste_antigeno   8331 non-null   object\n",
      " 12  _teste_pcr        22621 non-null  object\n",
      " 13  _bairro           79505 non-null  object\n",
      " 14  _bairro_mapa      76559 non-null  object\n",
      " 15  _distrito         76559 non-null  object\n",
      " 16  _taxa             76559 non-null  object\n",
      "dtypes: object(17)\n",
      "memory usage: 10.9+ MB\n"
     ]
    }
   ],
   "source": [
    "data.info()\n"
   ]
  },
  {
   "cell_type": "markdown",
   "id": "e43cc5ed",
   "metadata": {},
   "source": [
    "        Modificamos o Dtpye da Coluna '_idade', de 'objet' para 'float', para aplicarmos o BoxPlot"
   ]
  },
  {
   "cell_type": "code",
   "execution_count": 31,
   "id": "603006d3",
   "metadata": {},
   "outputs": [],
   "source": [
    "data['_idade'] = data['_idade'].astype(float, errors = 'raise')"
   ]
  },
  {
   "cell_type": "code",
   "execution_count": 32,
   "id": "572fcac9",
   "metadata": {},
   "outputs": [
    {
     "data": {
      "text/plain": "<AxesSubplot:title={'center':'_idade'}, xlabel='_sexo'>"
     },
     "execution_count": 32,
     "metadata": {},
     "output_type": "execute_result"
    },
    {
     "data": {
      "text/plain": "<Figure size 504x648 with 1 Axes>",
      "image/png": "[encoded data removed]"
     },
     "metadata": {
      "needs_background": "light"
     },
     "output_type": "display_data"
    }
   ],
   "source": [
    "data.boxplot(column=['_idade'],by='_sexo',figsize=(7,9))"
   ]
  },
  {
   "cell_type": "code",
   "execution_count": 33,
   "id": "c8115b65",
   "metadata": {},
   "outputs": [],
   "source": [
    "x = data.loc[data['_idade']>=150]"
   ]
  },
  {
   "cell_type": "code",
   "execution_count": 34,
   "id": "58bde7c2",
   "metadata": {},
   "outputs": [
    {
     "data": {
      "text/plain": "Int64Index([23222, 59745, 83433], dtype='int64')"
     },
     "execution_count": 34,
     "metadata": {},
     "output_type": "execute_result"
    }
   ],
   "source": [
    "x.index"
   ]
  },
  {
   "cell_type": "markdown",
   "id": "758716fb",
   "metadata": {},
   "source": [
    "Podemos considerar remover estes dados do dataset([23222,59745,83433]), pois estes estão com dados incorretos."
   ]
  },
  {
   "cell_type": "markdown",
   "id": "bc3c249e",
   "metadata": {},
   "source": [
    "#### Como podemos ver, há muitos outliners, principalmente entre as idades próximas a 80 e 100 anos."
   ]
  },
  {
   "cell_type": "markdown",
   "id": "b14544d5",
   "metadata": {},
   "source": [
    "# -----------------------------------------------------------------------------------------"
   ]
  },
  {
   "cell_type": "markdown",
   "id": "a5578a22",
   "metadata": {},
   "source": [
    "## Atividade 2.2.3 "
   ]
  },
  {
   "cell_type": "code",
   "execution_count": 35,
   "id": "d81a8b82",
   "metadata": {},
   "outputs": [
    {
     "name": "stdout",
     "output_type": "stream",
     "text": [
      "<class 'pandas.core.frame.DataFrame'>\n",
      "Int64Index: 79505 entries, 131 to 243983\n",
      "Data columns (total 17 columns):\n",
      " #   Column            Non-Null Count  Dtype  \n",
      "---  ------            --------------  -----  \n",
      " 0   _dt_notificacao   79505 non-null  object \n",
      " 1   _classificacao    79505 non-null  object \n",
      " 2   _conclusao        42685 non-null  object \n",
      " 3   _origem           79505 non-null  object \n",
      " 4   _criterio         8823 non-null   object \n",
      " 5   _idade            79505 non-null  float64\n",
      " 6   _faixa etária     79505 non-null  object \n",
      " 7   _se_notificacao   79505 non-null  object \n",
      " 8   _sexo             79505 non-null  object \n",
      " 9   _srag             9074 non-null   object \n",
      " 10  _teste_anticorpo  51969 non-null  object \n",
      " 11  _teste_antigeno   8331 non-null   object \n",
      " 12  _teste_pcr        22621 non-null  object \n",
      " 13  _bairro           79505 non-null  object \n",
      " 14  _bairro_mapa      76559 non-null  object \n",
      " 15  _distrito         76559 non-null  object \n",
      " 16  _taxa             76559 non-null  object \n",
      "dtypes: float64(1), object(16)\n",
      "memory usage: 10.9+ MB\n"
     ]
    }
   ],
   "source": [
    "data.info()"
   ]
  },
  {
   "cell_type": "code",
   "execution_count": 36,
   "id": "e3e3eece",
   "metadata": {},
   "outputs": [],
   "source": [
    "data['_dt_notificacao']=pd.to_datetime(data['_dt_notificacao'])\n"
   ]
  },
  {
   "cell_type": "code",
   "execution_count": 37,
   "id": "6eb226a0",
   "metadata": {},
   "outputs": [
    {
     "data": {
      "text/plain": "<AxesSubplot:title={'center':'Casos novos confirmados nos últimos 10 dias'}>"
     },
     "execution_count": 37,
     "metadata": {},
     "output_type": "execute_result"
    },
    {
     "data": {
      "text/plain": "<Figure size 432x288 with 1 Axes>",
      "image/png": "[encoded data removed]"
     },
     "metadata": {
      "needs_background": "light"
     },
     "output_type": "display_data"
    }
   ],
   "source": [
    "data['_dt_notificacao'].value_counts().sort_index()[-10:].plot.bar(title = 'Casos novos confirmados nos últimos 10 dias')"
   ]
  },
  {
   "cell_type": "code",
   "execution_count": 38,
   "id": "fb2f2dd4",
   "metadata": {},
   "outputs": [
    {
     "data": {
      "text/plain": "290.5"
     },
     "execution_count": 38,
     "metadata": {},
     "output_type": "execute_result"
    }
   ],
   "source": [
    "data['_dt_notificacao'].value_counts().sort_index()[-10:].mean()"
   ]
  },
  {
   "cell_type": "markdown",
   "id": "5130d1bc",
   "metadata": {},
   "source": [
    "#### Com o gráfico, verificamos a quantidade de novos casos, nos útimos 10 dias do DataSet, com uma média de 290 casos nesse intervalo."
   ]
  },
  {
   "cell_type": "markdown",
   "id": "995d7226",
   "metadata": {},
   "source": [
    "# -----------------------------------------------------------------------------------------"
   ]
  },
  {
   "cell_type": "markdown",
   "id": "cad560db",
   "metadata": {},
   "source": [
    "## Atividade 2.2.4"
   ]
  },
  {
   "cell_type": "code",
   "execution_count": 39,
   "id": "beac4f5f",
   "metadata": {},
   "outputs": [
    {
     "data": {
      "text/plain": "<AxesSubplot:title={'center':'Casos recuperados nos últimos 10 dias'}>"
     },
     "execution_count": 39,
     "metadata": {},
     "output_type": "execute_result"
    },
    {
     "data": {
      "text/plain": "<Figure size 432x288 with 1 Axes>",
      "image/png": "[encoded data removed]"
     },
     "metadata": {
      "needs_background": "light"
     },
     "output_type": "display_data"
    }
   ],
   "source": [
    "recuperados = data.loc[data['_conclusao']=='Recuperado']\n",
    "recuperados['_dt_notificacao'].value_counts().sort_index()[-10:].plot.bar(title = 'Casos recuperados nos últimos 10 dias')"
   ]
  },
  {
   "cell_type": "code",
   "execution_count": 40,
   "id": "6cc540e9",
   "metadata": {},
   "outputs": [
    {
     "data": {
      "text/plain": "128.9"
     },
     "execution_count": 40,
     "metadata": {},
     "output_type": "execute_result"
    }
   ],
   "source": [
    "recuperados['_dt_notificacao'].value_counts().sort_index()[-10:].mean()"
   ]
  },
  {
   "cell_type": "markdown",
   "id": "bdb5cb61",
   "metadata": {},
   "source": [
    "#### Com o gráfico, verificamos a quantidade dos ultimos casos recuperados, nos útimos 10 dias disponiveis no DataSet, com uma média de 129 recuperados nesse intervalo."
   ]
  },
  {
   "cell_type": "markdown",
   "id": "d76c42a1",
   "metadata": {},
   "source": [
    "# ------------------------------------------------------------------------------------------------------"
   ]
  },
  {
   "cell_type": "markdown",
   "id": "9d137486",
   "metadata": {
    "pycharm": {
     "name": "#%% md\n"
    }
   },
   "source": [
    "## Atividade 2.2.5\n",
    "<h4> Construa um histograma que denote a quantidade percentual de casos por grupo etário, con-\n",
    "siderando que cada grupo contempla uma década (0 a 10 anos, 11 a 20 anos, etc.). </h4>"
   ]
  },
  {
   "cell_type": "markdown",
   "id": "608b1e1d",
   "metadata": {
    "pycharm": {
     "name": "#%% md\n"
    }
   },
   "source": [
    "Para a averiguação do resultado do histograma será preenchida a coluna da faixa etária\n",
    "com o resultado da função cut do pandas colocando como bins os valores que iniciam\n",
    "os intervalos sugeridos, ignorando o membro a direita dos grupos.\n",
    "> Ex: `[0,11]` irá colocar em um grupo `{0,1,2,3,4,5,6,7,8,9,10}`"
   ]
  },
  {
   "cell_type": "code",
   "execution_count": 97,
   "id": "91529c46",
   "metadata": {},
   "outputs": [
    {
     "name": "stdout",
     "output_type": "stream",
     "text": [
      "O total de registros é 79500\n",
      "\n",
      "_faixa etária\n",
      "0 a 10 anos        2551\n",
      "11 a 20 anos       3873\n",
      "21 a 30 anos      12231\n",
      "31 a 40 anos      18917\n",
      "41 a 50 anos      18200\n",
      "51 a 60 anos      12310\n",
      "61 a 70 anos       6808\n",
      "71 a 80 anos       3114\n",
      "81 a 90 anos       1219\n",
      "91 a 100 anos       259\n",
      "101 a 110 anos       11\n",
      "111 a 120 anos        7\n",
      "Name: _dt_notificacao, dtype: int64\n",
      "\n",
      "2551 representa 0.03 do total\n",
      "3873 representa 0.05 do total\n",
      "12231 representa 0.15 do total\n",
      "18917 representa 0.24 do total\n",
      "18200 representa 0.23 do total\n",
      "12310 representa 0.15 do total\n",
      "6808 representa 0.09 do total\n",
      "3114 representa 0.04 do total\n",
      "1219 representa 0.02 do total\n",
      "259 representa 0.00 do total\n",
      "11 representa 0.00 do total\n",
      "7 representa 0.00 do total\n"
     ]
    }
   ],
   "source": [
    "bins = [0]\n",
    "labels = []\n",
    "max_age = 130\n",
    "\n",
    "#conversão da coluna idade para tipo inteiro\n",
    "data['_idade'] = data['_idade'].astype(int)\n",
    "filtered_data = data[data['_idade'] <= max_age]\n",
    "int_age = filtered_data['_idade']\n",
    "\n",
    "#construção da lista de bins\n",
    "for i in range(11,max_age,10):\n",
    "        bins.append(i)\n",
    "\n",
    "#construção da lista de labels a partir dos valores dos bins\n",
    "for i in bins[:-1]:\n",
    "    if i == 0:\n",
    "        labels.append(\"{} a {} anos\".format(i, i+10))\n",
    "    else:\n",
    "        labels.append(\"{} a {} anos\".format(i, i+9))\n",
    "\n",
    "#substituindo os valores da coluna existente de faixa etária pelos valores desejados\n",
    "data['_faixa etária'] = pd.cut(int_age , bins=bins, labels=labels, right=False)\n",
    "\n",
    "#agrupando os dados pelas faixas etárias semelhantes\n",
    "age_range_group = data.groupby(\"_faixa etária\")['_dt_notificacao'].count()\n",
    "\n",
    "total_qtd = age_range_group.sum()\n",
    "print(\"O total de registros é {}\".format(total_qtd), end=\"\\n\\n\")\n",
    "print(age_range_group,end=\"\\n\\n\")\n",
    "for i in age_range_group:\n",
    "    print(\"{} representa {:.2f} do total\".format(i, i/total_qtd))"
   ]
  },
  {
   "cell_type": "markdown",
   "id": "312bef82",
   "metadata": {
    "pycharm": {
     "name": "#%% md\n"
    }
   },
   "source": [
    "<h4>Aqui está a construção do histograma a partir da coluna de idade<h4>"
   ]
  },
  {
   "cell_type": "code",
   "execution_count": 98,
   "id": "76872849",
   "metadata": {
    "pycharm": {
     "name": "#%%\n"
    }
   },
   "outputs": [
    {
     "data": {
      "text/plain": "<Figure size 432x288 with 1 Axes>",
      "image/png": "[encoded data removed]"
     },
     "metadata": {
      "needs_background": "light"
     },
     "output_type": "display_data"
    }
   ],
   "source": [
    "from matplotlib.ticker import PercentFormatter\n",
    "\n",
    "\n",
    "plt.hist(int_age, bins=bins, color='#0504aa',alpha=0.7, rwidth=0.85, density=True)\n",
    "plt.gca().yaxis.set_major_formatter(PercentFormatter(0.1))\n",
    "plt.xticks(np.arange(0, bins[-1], 10))\n",
    "plt.yticks(np.arange(0,0.03,0.005))\n",
    "plt.show()"
   ]
  },
  {
   "cell_type": "markdown",
   "id": "00b15cb8",
   "metadata": {},
   "source": [
    "## Atividade 2.2.6"
   ]
  },
  {
   "cell_type": "code",
   "execution_count": 43,
   "id": "85ffdc33",
   "metadata": {},
   "outputs": [
    {
     "data": {
      "text/plain": "<Figure size 1080x432 with 1 Axes>",
      "image/png": "[encoded data removed]"
     },
     "metadata": {
      "needs_background": "light"
     },
     "output_type": "display_data"
    }
   ],
   "source": [
    "xxx = data['_dt_notificacao'].value_counts().sort_index().cumsum().plot(title = 'Casos Acumulados',figsize=(15,6))"
   ]
  },
  {
   "cell_type": "markdown",
   "id": "15c9785b",
   "metadata": {},
   "source": [
    "#### Acumulado de casos confirmados"
   ]
  },
  {
   "cell_type": "markdown",
   "id": "516d41c2",
   "metadata": {},
   "source": [
    "# ---------------------------------------------------------------------------------------"
   ]
  },
  {
   "cell_type": "markdown",
   "id": "42dc505a",
   "metadata": {
    "pycharm": {
     "name": "#%% md\n"
    }
   },
   "source": [
    "#### Atividade 2.2.7\n",
    "\n",
    "Faça um gráfico do tipo scatterplot que denote a idade versus o número total de casos registrado\n",
    "para aquela idade. Aproveite o processamento efetuado para o cálculo da correlação. É possível\n",
    "observar alguma tendência?\n"
   ]
  },
  {
   "cell_type": "markdown",
   "source": [
    "Para essa questão será aproveitado o processamento feito na questão 5"
   ],
   "metadata": {
    "collapsed": false,
    "pycharm": {
     "name": "#%% md\n"
    }
   }
  },
  {
   "cell_type": "code",
   "source": [
    "#Valores de idades únicas\n",
    "ages = int_age.sort_values().unique()\n",
    "\n",
    "#Agrupamento e contagem de quantitativo por idade\n",
    "age_group_count = filtered_data.groupby(\"_idade\")['_dt_notificacao'].count()\n",
    "print(\"Quantidade de casos por idade\")\n",
    "print(age_group_count.sort_values(ascending=False).to_string())\n",
    "plt.xticks(np.arange(0,ages[-1]+1,10))\n",
    "plt.scatter(ages, age_group_count)"
   ],
   "metadata": {
    "collapsed": false,
    "pycharm": {
     "name": "#%%\n"
    }
   },
   "execution_count": 115,
   "outputs": [
    {
     "name": "stdout",
     "output_type": "stream",
     "text": [
      "_idade\n",
      "38     2154\n",
      "40     2106\n",
      "39     2051\n",
      "41     2038\n",
      "37     2021\n",
      "42     2016\n",
      "43     1966\n",
      "35     1948\n",
      "44     1883\n",
      "36     1867\n",
      "45     1845\n",
      "46     1816\n",
      "34     1807\n",
      "48     1699\n",
      "32     1691\n",
      "47     1689\n",
      "49     1682\n",
      "33     1671\n",
      "31     1601\n",
      "50     1566\n",
      "51     1491\n",
      "52     1439\n",
      "29     1431\n",
      "28     1403\n",
      "53     1402\n",
      "30     1381\n",
      "27     1352\n",
      "55     1316\n",
      "26     1312\n",
      "25     1285\n",
      "54     1271\n",
      "56     1225\n",
      "24     1185\n",
      "57     1167\n",
      "58     1089\n",
      "23     1062\n",
      "59      971\n",
      "22      961\n",
      "60      939\n",
      "61      879\n",
      "21      859\n",
      "63      796\n",
      "62      794\n",
      "20      789\n",
      "64      730\n",
      "0       708\n",
      "65      687\n",
      "66      684\n",
      "67      650\n",
      "19      590\n",
      "69      553\n",
      "70      521\n",
      "68      514\n",
      "71      450\n",
      "18      435\n",
      "72      435\n",
      "17      398\n",
      "73      348\n",
      "16      341\n",
      "75      337\n",
      "1       333\n",
      "15      326\n",
      "74      322\n",
      "76      296\n",
      "14      284\n",
      "77      262\n",
      "13      255\n",
      "12      232\n",
      "78      229\n",
      "11      223\n",
      "80      218\n",
      "79      217\n",
      "2       210\n",
      "10      197\n",
      "7       175\n",
      "82      174\n",
      "81      172\n",
      "5       170\n",
      "3       165\n",
      "4       159\n",
      "9       157\n",
      "83      154\n",
      "84      148\n",
      "6       143\n",
      "8       134\n",
      "85      121\n",
      "86      111\n",
      "87      105\n",
      "89       86\n",
      "88       78\n",
      "90       70\n",
      "91       69\n",
      "92       54\n",
      "95       28\n",
      "93       25\n",
      "96       25\n",
      "94       24\n",
      "98       12\n",
      "97       10\n",
      "99       10\n",
      "120       3\n",
      "106       2\n",
      "105       2\n",
      "104       2\n",
      "102       2\n",
      "101       2\n",
      "100       2\n",
      "109       1\n",
      "112       1\n",
      "114       1\n",
      "118       1\n",
      "119       1\n",
      "130       1\n"
     ]
    },
    {
     "data": {
      "text/plain": "<matplotlib.collections.PathCollection at 0x28d1a017220>"
     },
     "execution_count": 115,
     "metadata": {},
     "output_type": "execute_result"
    },
    {
     "data": {
      "text/plain": "<Figure size 432x288 with 1 Axes>",
      "image/png": "[encoded data removed]"
     },
     "metadata": {
      "needs_background": "light"
     },
     "output_type": "display_data"
    }
   ]
  },
  {
   "cell_type": "markdown",
   "source": [
    "Foi observado que a faixa etária entre 30 e 60 anos é a que contém mais casos"
   ],
   "metadata": {
    "collapsed": false,
    "pycharm": {
     "name": "#%% md\n"
    }
   }
  }
 ],
 "metadata": {
  "kernelspec": {
   "name": "python3",
   "language": "python",
   "display_name": "Python 3"
  },
  "language_info": {
   "codemirror_mode": {
    "name": "ipython",
    "version": 3
   },
   "file_extension": ".py",
   "mimetype": "text/x-python",
   "name": "python",
   "nbconvert_exporter": "python",
   "pygments_lexer": "ipython3",
   "version": "3.8.8"
  }
 },
 "nbformat": 4,
 "nbformat_minor": 5
}