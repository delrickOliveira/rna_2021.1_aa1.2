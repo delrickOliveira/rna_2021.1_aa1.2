{
 "metadata": {
  "language_info": {
   "codemirror_mode": {
    "name": "ipython",
    "version": 3
   },
   "file_extension": ".py",
   "mimetype": "text/x-python",
   "name": "python",
   "nbconvert_exporter": "python",
   "pygments_lexer": "ipython3",
   "version": "3.7.6"
  },
  "orig_nbformat": 2,
  "kernelspec": {
   "name": "python37664bitanaconda3virtualenvc4f10d036b4248298dfa9162fbf8c7a8",
   "display_name": "Python 3.7.6 64-bit ('anaconda3': virtualenv)",
   "language": "python"
  }
 },
 "nbformat": 4,
 "nbformat_minor": 2,
 "cells": [
  {
   "cell_type": "code",
   "execution_count": 392,
   "metadata": {},
   "outputs": [],
   "source": [
    "import pandas as pd\n",
    "import numpy as np"
   ]
  },
  {
   "cell_type": "code",
   "execution_count": 393,
   "metadata": {},
   "outputs": [],
   "source": [
    "df = pd.read_csv(\"Manaus.csv\", sep = \";\", low_memory = False)\n",
    "#Filtrando apenas os casos confirmados.\n",
    "filtro  = df['_classificacao'] == \"Confirmado\"\n",
    "confirmados = df[filtro]\n",
    "df = confirmados "
   ]
  },
  {
   "source": [
    "#Filtrando apenas os casos confirmados."
   ],
   "cell_type": "markdown",
   "metadata": {}
  },
  {
   "cell_type": "code",
   "execution_count": 394,
   "metadata": {},
   "outputs": [
    {
     "output_type": "execute_result",
     "data": {
      "text/plain": [
       "            _dt_evolucao   _dt_notificacao      _dt_sintomas _classificacao  \\\n",
       "130     02/03/2020 00:00  23/02/2020 00:00  15/02/2020 00:00     Confirmado   \n",
       "144     01/03/2020 00:00  28/02/2020 00:00  26/02/2020 00:00     Confirmado   \n",
       "153     05/04/2020 00:00  02/03/2020 00:00  23/02/2020 00:00     Confirmado   \n",
       "158     14/03/2020 00:00  02/03/2020 00:00  29/02/2020 00:00     Confirmado   \n",
       "196     14/03/2020 00:00  11/03/2020 00:00  09/03/2020 00:00     Confirmado   \n",
       "...                  ...               ...               ...            ...   \n",
       "243970               NaN  31/03/2020 00:00  28/03/2020 00:00     Confirmado   \n",
       "243973               NaN  07/04/2020 00:00  30/03/2020 00:00     Confirmado   \n",
       "243977               NaN  15/04/2020 00:00  07/04/2020 00:00     Confirmado   \n",
       "243979               NaN  20/04/2020 00:00  01/04/2020 00:00     Confirmado   \n",
       "243982               NaN  22/04/2020 00:00  13/04/2020 00:00     Confirmado   \n",
       "\n",
       "        _conclusao           _origem _comorb_cardio _comorb_cromossomica  \\\n",
       "130     Recuperado        SIVEP, GAL            NaN                  NaN   \n",
       "144     Recuperado        SIVEP, GAL            NaN                  NaN   \n",
       "153     Recuperado  SIVEP, eSUS VE,             NaN                  NaN   \n",
       "158     Recuperado  SIVEP, eSUS VE,             Sim                  NaN   \n",
       "196     Recuperado        SIVEP, GAL            NaN                  NaN   \n",
       "...            ...               ...            ...                  ...   \n",
       "243970         NaN               GAL            NaN                  NaN   \n",
       "243973         NaN               GAL            NaN                  NaN   \n",
       "243977         NaN               GAL            NaN                  NaN   \n",
       "243979         NaN               GAL            NaN                  NaN   \n",
       "243982         NaN               GAL            NaN                  NaN   \n",
       "\n",
       "       _comorb_diabetes _comorb_hemato  ... _sintoma_tosse _sintoma_outros  \\\n",
       "130                 NaN            NaN  ...            Sim             Sim   \n",
       "144                 NaN            NaN  ...            Sim             Sim   \n",
       "153                 NaN            NaN  ...            Sim             Sim   \n",
       "158                 NaN            NaN  ...            Sim             Sim   \n",
       "196                 NaN            NaN  ...            Sim             Sim   \n",
       "...                 ...            ...  ...            ...             ...   \n",
       "243970              NaN            NaN  ...            NaN             NaN   \n",
       "243973              NaN            NaN  ...            NaN             NaN   \n",
       "243977              NaN            NaN  ...            NaN             NaN   \n",
       "243979              NaN            NaN  ...            NaN             NaN   \n",
       "243982              NaN            NaN  ...            NaN             NaN   \n",
       "\n",
       "                               _srag _teste_anticorpo _teste_antigeno  \\\n",
       "130            SRAG não especificado              NaN             NaN   \n",
       "144     Vírus Sincicial Respiratório              NaN             NaN   \n",
       "153            SRAG não especificado              1.0             NaN   \n",
       "158            SRAG não especificado              2.0             NaN   \n",
       "196            SRAG não especificado              NaN             NaN   \n",
       "...                              ...              ...             ...   \n",
       "243970                           NaN              NaN             NaN   \n",
       "243973                           NaN              NaN             NaN   \n",
       "243977                           NaN              NaN             NaN   \n",
       "243979                           NaN              NaN             NaN   \n",
       "243982                           NaN              NaN             NaN   \n",
       "\n",
       "       _teste_pcr              _bairro         _bairro_mapa _distrito  \\\n",
       "130           1.0            MAUAZINHO            MAUAZINHO     LESTE   \n",
       "144           1.0          NOVO ALEIXO          NOVO ALEIXO     NORTE   \n",
       "153           NaN  PRACA 14 DE JANEIRO  PRAÇA 14 DE JANEIRO       SUL   \n",
       "158           NaN               FLORES               FLORES       SUL   \n",
       "196           2.0          CIDADE NOVA          CIDADE NOVA     NORTE   \n",
       "...           ...                  ...                  ...       ...   \n",
       "243970        1.0                  NaN                  NaN       NaN   \n",
       "243973        1.0          NOVO ISRAEL          NOVO ISRAEL     NORTE   \n",
       "243977        1.0       Nova Esperança       NOVA ESPERANÇA     OESTE   \n",
       "243979        1.0         Adrianópolis         ADRIANÓPOLIS       SUL   \n",
       "243982        1.0               FLORES               FLORES       SUL   \n",
       "\n",
       "              _taxa  \n",
       "130      0,35040998  \n",
       "144     0,085452557  \n",
       "153     0,861920359  \n",
       "158     0,198306463  \n",
       "196     0,068152389  \n",
       "...             ...  \n",
       "243970          NaN  \n",
       "243973  0,490725292  \n",
       "243977  0,466526709  \n",
       "243979   0,99960016  \n",
       "243982  0,198306463  \n",
       "\n",
       "[80420 rows x 39 columns]"
      ],
      "text/html": "<div>\n<style scoped>\n    .dataframe tbody tr th:only-of-type {\n        vertical-align: middle;\n    }\n\n    .dataframe tbody tr th {\n        vertical-align: top;\n    }\n\n    .dataframe thead th {\n        text-align: right;\n    }\n</style>\n<table border=\"1\" class=\"dataframe\">\n  <thead>\n    <tr style=\"text-align: right;\">\n      <th></th>\n      <th>_dt_evolucao</th>\n      <th>_dt_notificacao</th>\n      <th>_dt_sintomas</th>\n      <th>_classificacao</th>\n      <th>_conclusao</th>\n      <th>_origem</th>\n      <th>_comorb_cardio</th>\n      <th>_comorb_cromossomica</th>\n      <th>_comorb_diabetes</th>\n      <th>_comorb_hemato</th>\n      <th>...</th>\n      <th>_sintoma_tosse</th>\n      <th>_sintoma_outros</th>\n      <th>_srag</th>\n      <th>_teste_anticorpo</th>\n      <th>_teste_antigeno</th>\n      <th>_teste_pcr</th>\n      <th>_bairro</th>\n      <th>_bairro_mapa</th>\n      <th>_distrito</th>\n      <th>_taxa</th>\n    </tr>\n  </thead>\n  <tbody>\n    <tr>\n      <th>130</th>\n      <td>02/03/2020 00:00</td>\n      <td>23/02/2020 00:00</td>\n      <td>15/02/2020 00:00</td>\n      <td>Confirmado</td>\n      <td>Recuperado</td>\n      <td>SIVEP, GAL</td>\n      <td>NaN</td>\n      <td>NaN</td>\n      <td>NaN</td>\n      <td>NaN</td>\n      <td>...</td>\n      <td>Sim</td>\n      <td>Sim</td>\n      <td>SRAG não especificado</td>\n      <td>NaN</td>\n      <td>NaN</td>\n      <td>1.0</td>\n      <td>MAUAZINHO</td>\n      <td>MAUAZINHO</td>\n      <td>LESTE</td>\n      <td>0,35040998</td>\n    </tr>\n    <tr>\n      <th>144</th>\n      <td>01/03/2020 00:00</td>\n      <td>28/02/2020 00:00</td>\n      <td>26/02/2020 00:00</td>\n      <td>Confirmado</td>\n      <td>Recuperado</td>\n      <td>SIVEP, GAL</td>\n      <td>NaN</td>\n      <td>NaN</td>\n      <td>NaN</td>\n      <td>NaN</td>\n      <td>...</td>\n      <td>Sim</td>\n      <td>Sim</td>\n      <td>Vírus Sincicial Respiratório</td>\n      <td>NaN</td>\n      <td>NaN</td>\n      <td>1.0</td>\n      <td>NOVO ALEIXO</td>\n      <td>NOVO ALEIXO</td>\n      <td>NORTE</td>\n      <td>0,085452557</td>\n    </tr>\n    <tr>\n      <th>153</th>\n      <td>05/04/2020 00:00</td>\n      <td>02/03/2020 00:00</td>\n      <td>23/02/2020 00:00</td>\n      <td>Confirmado</td>\n      <td>Recuperado</td>\n      <td>SIVEP, eSUS VE,</td>\n      <td>NaN</td>\n      <td>NaN</td>\n      <td>NaN</td>\n      <td>NaN</td>\n      <td>...</td>\n      <td>Sim</td>\n      <td>Sim</td>\n      <td>SRAG não especificado</td>\n      <td>1.0</td>\n      <td>NaN</td>\n      <td>NaN</td>\n      <td>PRACA 14 DE JANEIRO</td>\n      <td>PRAÇA 14 DE JANEIRO</td>\n      <td>SUL</td>\n      <td>0,861920359</td>\n    </tr>\n    <tr>\n      <th>158</th>\n      <td>14/03/2020 00:00</td>\n      <td>02/03/2020 00:00</td>\n      <td>29/02/2020 00:00</td>\n      <td>Confirmado</td>\n      <td>Recuperado</td>\n      <td>SIVEP, eSUS VE,</td>\n      <td>Sim</td>\n      <td>NaN</td>\n      <td>NaN</td>\n      <td>NaN</td>\n      <td>...</td>\n      <td>Sim</td>\n      <td>Sim</td>\n      <td>SRAG não especificado</td>\n      <td>2.0</td>\n      <td>NaN</td>\n      <td>NaN</td>\n      <td>FLORES</td>\n      <td>FLORES</td>\n      <td>SUL</td>\n      <td>0,198306463</td>\n    </tr>\n    <tr>\n      <th>196</th>\n      <td>14/03/2020 00:00</td>\n      <td>11/03/2020 00:00</td>\n      <td>09/03/2020 00:00</td>\n      <td>Confirmado</td>\n      <td>Recuperado</td>\n      <td>SIVEP, GAL</td>\n      <td>NaN</td>\n      <td>NaN</td>\n      <td>NaN</td>\n      <td>NaN</td>\n      <td>...</td>\n      <td>Sim</td>\n      <td>Sim</td>\n      <td>SRAG não especificado</td>\n      <td>NaN</td>\n      <td>NaN</td>\n      <td>2.0</td>\n      <td>CIDADE NOVA</td>\n      <td>CIDADE NOVA</td>\n      <td>NORTE</td>\n      <td>0,068152389</td>\n    </tr>\n    <tr>\n      <th>...</th>\n      <td>...</td>\n      <td>...</td>\n      <td>...</td>\n      <td>...</td>\n      <td>...</td>\n      <td>...</td>\n      <td>...</td>\n      <td>...</td>\n      <td>...</td>\n      <td>...</td>\n      <td>...</td>\n      <td>...</td>\n      <td>...</td>\n      <td>...</td>\n      <td>...</td>\n      <td>...</td>\n      <td>...</td>\n      <td>...</td>\n      <td>...</td>\n      <td>...</td>\n      <td>...</td>\n    </tr>\n    <tr>\n      <th>243970</th>\n      <td>NaN</td>\n      <td>31/03/2020 00:00</td>\n      <td>28/03/2020 00:00</td>\n      <td>Confirmado</td>\n      <td>NaN</td>\n      <td>GAL</td>\n      <td>NaN</td>\n      <td>NaN</td>\n      <td>NaN</td>\n      <td>NaN</td>\n      <td>...</td>\n      <td>NaN</td>\n      <td>NaN</td>\n      <td>NaN</td>\n      <td>NaN</td>\n      <td>NaN</td>\n      <td>1.0</td>\n      <td>NaN</td>\n      <td>NaN</td>\n      <td>NaN</td>\n      <td>NaN</td>\n    </tr>\n    <tr>\n      <th>243973</th>\n      <td>NaN</td>\n      <td>07/04/2020 00:00</td>\n      <td>30/03/2020 00:00</td>\n      <td>Confirmado</td>\n      <td>NaN</td>\n      <td>GAL</td>\n      <td>NaN</td>\n      <td>NaN</td>\n      <td>NaN</td>\n      <td>NaN</td>\n      <td>...</td>\n      <td>NaN</td>\n      <td>NaN</td>\n      <td>NaN</td>\n      <td>NaN</td>\n      <td>NaN</td>\n      <td>1.0</td>\n      <td>NOVO ISRAEL</td>\n      <td>NOVO ISRAEL</td>\n      <td>NORTE</td>\n      <td>0,490725292</td>\n    </tr>\n    <tr>\n      <th>243977</th>\n      <td>NaN</td>\n      <td>15/04/2020 00:00</td>\n      <td>07/04/2020 00:00</td>\n      <td>Confirmado</td>\n      <td>NaN</td>\n      <td>GAL</td>\n      <td>NaN</td>\n      <td>NaN</td>\n      <td>NaN</td>\n      <td>NaN</td>\n      <td>...</td>\n      <td>NaN</td>\n      <td>NaN</td>\n      <td>NaN</td>\n      <td>NaN</td>\n      <td>NaN</td>\n      <td>1.0</td>\n      <td>Nova Esperança</td>\n      <td>NOVA ESPERANÇA</td>\n      <td>OESTE</td>\n      <td>0,466526709</td>\n    </tr>\n    <tr>\n      <th>243979</th>\n      <td>NaN</td>\n      <td>20/04/2020 00:00</td>\n      <td>01/04/2020 00:00</td>\n      <td>Confirmado</td>\n      <td>NaN</td>\n      <td>GAL</td>\n      <td>NaN</td>\n      <td>NaN</td>\n      <td>NaN</td>\n      <td>NaN</td>\n      <td>...</td>\n      <td>NaN</td>\n      <td>NaN</td>\n      <td>NaN</td>\n      <td>NaN</td>\n      <td>NaN</td>\n      <td>1.0</td>\n      <td>Adrianópolis</td>\n      <td>ADRIANÓPOLIS</td>\n      <td>SUL</td>\n      <td>0,99960016</td>\n    </tr>\n    <tr>\n      <th>243982</th>\n      <td>NaN</td>\n      <td>22/04/2020 00:00</td>\n      <td>13/04/2020 00:00</td>\n      <td>Confirmado</td>\n      <td>NaN</td>\n      <td>GAL</td>\n      <td>NaN</td>\n      <td>NaN</td>\n      <td>NaN</td>\n      <td>NaN</td>\n      <td>...</td>\n      <td>NaN</td>\n      <td>NaN</td>\n      <td>NaN</td>\n      <td>NaN</td>\n      <td>NaN</td>\n      <td>1.0</td>\n      <td>FLORES</td>\n      <td>FLORES</td>\n      <td>SUL</td>\n      <td>0,198306463</td>\n    </tr>\n  </tbody>\n</table>\n<p>80420 rows × 39 columns</p>\n</div>"
     },
     "metadata": {},
     "execution_count": 394
    }
   ],
   "source": [
    "df"
   ]
  },
  {
   "source": [
    "1. Quantos atributos descrevem cada exemplo? Quais são eles?"
   ],
   "cell_type": "markdown",
   "metadata": {}
  },
  {
   "cell_type": "code",
   "execution_count": 395,
   "metadata": {},
   "outputs": [
    {
     "output_type": "stream",
     "name": "stdout",
     "text": [
      "Cada exemplo possui 39 atributos ,são eles: \n_dt_evolucao\n_dt_notificacao\n_dt_sintomas\n_classificacao\n_conclusao\n_origem\n_comorb_cardio\n_comorb_cromossomica\n_comorb_diabetes\n_comorb_hemato\n_comorb_hepatica\n_comorb_imuno\n_comorb_neurologica\n_comorb_obessidade\n_comorb_renal\n_comorb_respiratoria\n_criterio\n_etnia\n_evolução\n_idade\n_faixa etária\n_gestante\n_profiss_saude\n_raca\n_se_notificacao\n_sexo\n_sintoma_dispneia\n_sintoma_febre\n_sintoma_garganta\n_sintoma_tosse\n_sintoma_outros\n_srag\n_teste_anticorpo\n_teste_antigeno\n_teste_pcr\n_bairro\n_bairro_mapa\n_distrito\n_taxa\n\n"
     ]
    }
   ],
   "source": [
    "qtd_atributos =    len(df.columns)\n",
    "atributos     =    list(df.columns)\n",
    "lst_atributos = \"\"\n",
    "for i in atributos:\n",
    "    lst_atributos += i + \"\\n\"\n",
    "\n",
    "print(\"Cada exemplo possui \"+str(qtd_atributos)+\" atributos ,são eles: \\n\"+lst_atributos )"
   ]
  },
  {
   "source": [
    "2. Quantos casos confirmados há em Manaus, cumulativamente?"
   ],
   "cell_type": "markdown",
   "metadata": {}
  },
  {
   "cell_type": "code",
   "execution_count": 396,
   "metadata": {},
   "outputs": [
    {
     "output_type": "stream",
     "name": "stdout",
     "text": [
      "Existem 80420 casos confirmados.\n"
     ]
    }
   ],
   "source": [
    "casos_confirmados = len(df)\n",
    "casos_confirmados\n",
    "print(\"Existem \"+str(casos_confirmados)+\" casos confirmados.\")"
   ]
  },
  {
   "source": [
    "3-  A qual período de tempo a base de dados se refere, isto é, qual o registro mais antigo e qual o\n",
    "mais recente? Leve em conta a data de notificação."
   ],
   "cell_type": "markdown",
   "metadata": {}
  },
  {
   "cell_type": "code",
   "execution_count": 397,
   "metadata": {},
   "outputs": [
    {
     "output_type": "stream",
     "name": "stdout",
     "text": [
      "A base de dados está compreendida entre as datas, 2020-01-04 00:00:00 e 2020-12-29 00:00:00\n"
     ]
    }
   ],
   "source": [
    "df['_dt_notificacao'] = pd.to_datetime(df['_dt_notificacao'])\n",
    "dt_antiga             = df['_dt_notificacao'].min()\n",
    "dt_recente            = df['_dt_notificacao'].max()\n",
    "print(\"A base de dados está compreendida entre as datas, \"+str(dt_antiga)+\" e \"+str(dt_recente))\n"
   ]
  },
  {
   "source": [
    "Para fins da análise considerada no escopo deste projeto, vamos excluir todos os atributos relativos\n",
    "às comorbidades, sintomas, etnia, profissão, outras datas que não a de notificação, origem e outros\n",
    "que não estiverem envolvidos no contexto do trabalho solicitado. Estes atributos serão considerados\n",
    "irrelevantes para fins de simplificação. Exclua todas as linhas em que houver dados faltantes para os\n",
    "atributos remanescentes."
   ],
   "cell_type": "markdown",
   "metadata": {}
  },
  {
   "cell_type": "code",
   "execution_count": 398,
   "metadata": {},
   "outputs": [],
   "source": [
    "df = df.drop(df.filter(regex='comorb|sintoma|etnia|profissão|dt_evolucao|dt_sintomas|origem|raca|gestante|srag|_profiss_saude|criterio|evolução|faixa_etaria|taxa|faixa|se_notificacao').columns, axis=1).dropna()\n"
   ]
  },
  {
   "source": [
    "1. Quantos exemplos e atributos há na base de dados após a limpeza e organização?"
   ],
   "cell_type": "markdown",
   "metadata": {}
  },
  {
   "cell_type": "code",
   "execution_count": 399,
   "metadata": {},
   "outputs": [
    {
     "output_type": "stream",
     "name": "stdout",
     "text": [
      "Existem 240 exemplos e , 11 atributos\n"
     ]
    }
   ],
   "source": [
    "exemplos  = len(df)\n",
    "atributos = len(df.columns)\n",
    "print(\"Existem \"+str(exemplos)+\" exemplos e , \"+str(atributos)+\" atributos\")"
   ]
  },
  {
   "cell_type": "code",
   "execution_count": 400,
   "metadata": {},
   "outputs": [
    {
     "output_type": "execute_result",
     "data": {
      "text/plain": [
       "       _dt_notificacao _classificacao  _conclusao  _idade _sexo  \\\n",
       "7388        2020-05-05     Confirmado  Recuperado    58.0     M   \n",
       "8372        2020-06-07     Confirmado  Recuperado    64.0     F   \n",
       "10784       2020-06-04     Confirmado  Recuperado    34.0     F   \n",
       "11131       2020-10-15     Confirmado  Recuperado    47.0     F   \n",
       "12229       2020-11-16     Confirmado  Recuperado    74.0     F   \n",
       "...                ...            ...         ...     ...   ...   \n",
       "223293      2020-10-31     Confirmado  Recuperado    38.0     M   \n",
       "223296      2020-06-11     Confirmado  Recuperado    40.0     F   \n",
       "223299      2020-01-10     Confirmado  Recuperado    54.0     F   \n",
       "223302      2020-02-10     Confirmado  Recuperado    31.0     M   \n",
       "225114      2020-02-10     Confirmado  Recuperado    52.0     F   \n",
       "\n",
       "        _teste_anticorpo  _teste_antigeno  _teste_pcr             _bairro  \\\n",
       "7388                 1.0              1.0         2.0         NOVA CIDADE   \n",
       "8372                 4.0              1.0         3.0  GILBERTO MESTRINHO   \n",
       "10784                1.0              2.0         3.0       SAO FRANCISCO   \n",
       "11131                3.0              1.0         1.0           LAGO AZUL   \n",
       "12229                1.0              1.0         2.0              FLORES   \n",
       "...                  ...              ...         ...                 ...   \n",
       "223293               2.0              1.0         4.0            ALVORADA   \n",
       "223296               3.0              1.0         1.0              CENTRO   \n",
       "223299               1.0              1.0         1.0              TARUMA   \n",
       "223302               2.0              1.0         1.0                 PAZ   \n",
       "225114               2.0              2.0         4.0         CIDADE NOVA   \n",
       "\n",
       "              _bairro_mapa _distrito  \n",
       "7388           NOVA CIDADE     NORTE  \n",
       "8372    GILBERTO MESTRINHO     LESTE  \n",
       "10784        SÃO FRANCISCO       SUL  \n",
       "11131            LAGO AZUL     NORTE  \n",
       "12229               FLORES       SUL  \n",
       "...                    ...       ...  \n",
       "223293            ALVORADA     OESTE  \n",
       "223296              CENTRO       SUL  \n",
       "223299              TARUMÃ     OESTE  \n",
       "223302              DA PAZ     OESTE  \n",
       "225114         CIDADE NOVA     NORTE  \n",
       "\n",
       "[240 rows x 11 columns]"
      ],
      "text/html": "<div>\n<style scoped>\n    .dataframe tbody tr th:only-of-type {\n        vertical-align: middle;\n    }\n\n    .dataframe tbody tr th {\n        vertical-align: top;\n    }\n\n    .dataframe thead th {\n        text-align: right;\n    }\n</style>\n<table border=\"1\" class=\"dataframe\">\n  <thead>\n    <tr style=\"text-align: right;\">\n      <th></th>\n      <th>_dt_notificacao</th>\n      <th>_classificacao</th>\n      <th>_conclusao</th>\n      <th>_idade</th>\n      <th>_sexo</th>\n      <th>_teste_anticorpo</th>\n      <th>_teste_antigeno</th>\n      <th>_teste_pcr</th>\n      <th>_bairro</th>\n      <th>_bairro_mapa</th>\n      <th>_distrito</th>\n    </tr>\n  </thead>\n  <tbody>\n    <tr>\n      <th>7388</th>\n      <td>2020-05-05</td>\n      <td>Confirmado</td>\n      <td>Recuperado</td>\n      <td>58.0</td>\n      <td>M</td>\n      <td>1.0</td>\n      <td>1.0</td>\n      <td>2.0</td>\n      <td>NOVA CIDADE</td>\n      <td>NOVA CIDADE</td>\n      <td>NORTE</td>\n    </tr>\n    <tr>\n      <th>8372</th>\n      <td>2020-06-07</td>\n      <td>Confirmado</td>\n      <td>Recuperado</td>\n      <td>64.0</td>\n      <td>F</td>\n      <td>4.0</td>\n      <td>1.0</td>\n      <td>3.0</td>\n      <td>GILBERTO MESTRINHO</td>\n      <td>GILBERTO MESTRINHO</td>\n      <td>LESTE</td>\n    </tr>\n    <tr>\n      <th>10784</th>\n      <td>2020-06-04</td>\n      <td>Confirmado</td>\n      <td>Recuperado</td>\n      <td>34.0</td>\n      <td>F</td>\n      <td>1.0</td>\n      <td>2.0</td>\n      <td>3.0</td>\n      <td>SAO FRANCISCO</td>\n      <td>SÃO FRANCISCO</td>\n      <td>SUL</td>\n    </tr>\n    <tr>\n      <th>11131</th>\n      <td>2020-10-15</td>\n      <td>Confirmado</td>\n      <td>Recuperado</td>\n      <td>47.0</td>\n      <td>F</td>\n      <td>3.0</td>\n      <td>1.0</td>\n      <td>1.0</td>\n      <td>LAGO AZUL</td>\n      <td>LAGO AZUL</td>\n      <td>NORTE</td>\n    </tr>\n    <tr>\n      <th>12229</th>\n      <td>2020-11-16</td>\n      <td>Confirmado</td>\n      <td>Recuperado</td>\n      <td>74.0</td>\n      <td>F</td>\n      <td>1.0</td>\n      <td>1.0</td>\n      <td>2.0</td>\n      <td>FLORES</td>\n      <td>FLORES</td>\n      <td>SUL</td>\n    </tr>\n    <tr>\n      <th>...</th>\n      <td>...</td>\n      <td>...</td>\n      <td>...</td>\n      <td>...</td>\n      <td>...</td>\n      <td>...</td>\n      <td>...</td>\n      <td>...</td>\n      <td>...</td>\n      <td>...</td>\n      <td>...</td>\n    </tr>\n    <tr>\n      <th>223293</th>\n      <td>2020-10-31</td>\n      <td>Confirmado</td>\n      <td>Recuperado</td>\n      <td>38.0</td>\n      <td>M</td>\n      <td>2.0</td>\n      <td>1.0</td>\n      <td>4.0</td>\n      <td>ALVORADA</td>\n      <td>ALVORADA</td>\n      <td>OESTE</td>\n    </tr>\n    <tr>\n      <th>223296</th>\n      <td>2020-06-11</td>\n      <td>Confirmado</td>\n      <td>Recuperado</td>\n      <td>40.0</td>\n      <td>F</td>\n      <td>3.0</td>\n      <td>1.0</td>\n      <td>1.0</td>\n      <td>CENTRO</td>\n      <td>CENTRO</td>\n      <td>SUL</td>\n    </tr>\n    <tr>\n      <th>223299</th>\n      <td>2020-01-10</td>\n      <td>Confirmado</td>\n      <td>Recuperado</td>\n      <td>54.0</td>\n      <td>F</td>\n      <td>1.0</td>\n      <td>1.0</td>\n      <td>1.0</td>\n      <td>TARUMA</td>\n      <td>TARUMÃ</td>\n      <td>OESTE</td>\n    </tr>\n    <tr>\n      <th>223302</th>\n      <td>2020-02-10</td>\n      <td>Confirmado</td>\n      <td>Recuperado</td>\n      <td>31.0</td>\n      <td>M</td>\n      <td>2.0</td>\n      <td>1.0</td>\n      <td>1.0</td>\n      <td>PAZ</td>\n      <td>DA PAZ</td>\n      <td>OESTE</td>\n    </tr>\n    <tr>\n      <th>225114</th>\n      <td>2020-02-10</td>\n      <td>Confirmado</td>\n      <td>Recuperado</td>\n      <td>52.0</td>\n      <td>F</td>\n      <td>2.0</td>\n      <td>2.0</td>\n      <td>4.0</td>\n      <td>CIDADE NOVA</td>\n      <td>CIDADE NOVA</td>\n      <td>NORTE</td>\n    </tr>\n  </tbody>\n</table>\n<p>240 rows × 11 columns</p>\n</div>"
     },
     "metadata": {},
     "execution_count": 400
    }
   ],
   "source": [
    "df"
   ]
  },
  {
   "cell_type": "code",
   "execution_count": 401,
   "metadata": {},
   "outputs": [
    {
     "output_type": "stream",
     "name": "stdout",
     "text": [
      "Total de recuperados em porcentagem 99.58333333333333%\n"
     ]
    }
   ],
   "source": [
    "recuperados  = (df._conclusao == 'Recuperado').sum()\n",
    "total        = len(df)\n",
    "porc         = recuperados / total*100\n",
    "print(\"Total de recuperados em porcentagem \"+str(porc)+\"%\")"
   ]
  },
  {
   "source": [
    "3. Os casos acometeram mais indivíduos do sexo masculino ou feminino?\n",
    "\n",
    "R = Indivíduos do sexo feminino."
   ],
   "cell_type": "markdown",
   "metadata": {}
  },
  {
   "cell_type": "code",
   "execution_count": 402,
   "metadata": {},
   "outputs": [
    {
     "output_type": "execute_result",
     "data": {
      "text/plain": [
       "F    159\n",
       "M     81\n",
       "Name: _sexo, dtype: int64"
      ]
     },
     "metadata": {},
     "execution_count": 402
    }
   ],
   "source": [
    "df['_sexo'].value_counts()"
   ]
  },
  {
   "source": [
    "4. Qual a média e desvio padrão de idade dos indivíduos que contraíram COVID-19? Qual o\n",
    "indivíduo mais jovem e o mais idoso a contraírem tal enfermidade?"
   ],
   "cell_type": "markdown",
   "metadata": {}
  },
  {
   "cell_type": "code",
   "execution_count": 403,
   "metadata": {},
   "outputs": [
    {
     "output_type": "stream",
     "name": "stdout",
     "text": [
      "A média de idade: 42.175\nDesvio padrão: 11.214323058779193\nO indivíduo mais jovem: 19.0\nO indivíduo mais idoso: 74.0\n"
     ]
    }
   ],
   "source": [
    "media_idade         = np.mean(df['_idade'])\n",
    "desvio_padrão       = np.std(df['_idade'])\n",
    "jovem                = np.min(df['_idade'])\n",
    "idoso               = np.max(df['_idade'])\n",
    "print( \"A média de idade: \"+str(media_idade)+\n",
    "       \"\\nDesvio padrão: \"+str(desvio_padrão)+\n",
    "       \"\\nO indivíduo mais jovem: \"+str(jovem)+\n",
    "       \"\\nO indivíduo mais idoso: \"+str(idoso)\n",
    "\n",
    "      )"
   ]
  },
  {
   "source": [
    "5. Qual o bairro com maior incidência de casos?"
   ],
   "cell_type": "markdown",
   "metadata": {}
  },
  {
   "cell_type": "code",
   "execution_count": 404,
   "metadata": {},
   "outputs": [
    {
     "output_type": "stream",
     "name": "stdout",
     "text": [
      "bairro com maior incidencia: SAO JOSE OPERARIO\n"
     ]
    }
   ],
   "source": [
    "bairro_maior     = df['_bairro'].value_counts().index[0]\n",
    "qtd_bairro_maior = df['_bairro'].value_counts()[0]\n",
    "print(\"bairro com maior incidencia: \"+str(bairro_maior))"
   ]
  },
  {
   "cell_type": "code",
   "execution_count": 405,
   "metadata": {},
   "outputs": [
    {
     "output_type": "stream",
     "name": "stdout",
     "text": [
      "3 bairros com maior incidencias: ['SAO JOSE OPERARIO', 'COMPENSA', 'FLORES']\n"
     ]
    }
   ],
   "source": [
    "incidencias = list(df['_bairro'].value_counts().index[:3])\n",
    "print(\"3 bairros com maior incidencias: \"+str(incidencias))"
   ]
  },
  {
   "cell_type": "code",
   "execution_count": 406,
   "metadata": {},
   "outputs": [
    {
     "output_type": "execute_result",
     "data": {
      "text/plain": [
       "       _dt_notificacao _classificacao  _conclusao  _idade _sexo  \\\n",
       "7388        2020-05-05     Confirmado  Recuperado    58.0     M   \n",
       "8372        2020-06-07     Confirmado  Recuperado    64.0     F   \n",
       "10784       2020-06-04     Confirmado  Recuperado    34.0     F   \n",
       "11131       2020-10-15     Confirmado  Recuperado    47.0     F   \n",
       "12229       2020-11-16     Confirmado  Recuperado    74.0     F   \n",
       "...                ...            ...         ...     ...   ...   \n",
       "223293      2020-10-31     Confirmado  Recuperado    38.0     M   \n",
       "223296      2020-06-11     Confirmado  Recuperado    40.0     F   \n",
       "223299      2020-01-10     Confirmado  Recuperado    54.0     F   \n",
       "223302      2020-02-10     Confirmado  Recuperado    31.0     M   \n",
       "225114      2020-02-10     Confirmado  Recuperado    52.0     F   \n",
       "\n",
       "        _teste_anticorpo  _teste_antigeno  _teste_pcr             _bairro  \\\n",
       "7388                 1.0              1.0         2.0         NOVA CIDADE   \n",
       "8372                 4.0              1.0         3.0  GILBERTO MESTRINHO   \n",
       "10784                1.0              2.0         3.0       SAO FRANCISCO   \n",
       "11131                3.0              1.0         1.0           LAGO AZUL   \n",
       "12229                1.0              1.0         2.0              FLORES   \n",
       "...                  ...              ...         ...                 ...   \n",
       "223293               2.0              1.0         4.0            ALVORADA   \n",
       "223296               3.0              1.0         1.0              CENTRO   \n",
       "223299               1.0              1.0         1.0              TARUMA   \n",
       "223302               2.0              1.0         1.0                 PAZ   \n",
       "225114               2.0              2.0         4.0         CIDADE NOVA   \n",
       "\n",
       "              _bairro_mapa _distrito  \n",
       "7388           NOVA CIDADE     NORTE  \n",
       "8372    GILBERTO MESTRINHO     LESTE  \n",
       "10784        SÃO FRANCISCO       SUL  \n",
       "11131            LAGO AZUL     NORTE  \n",
       "12229               FLORES       SUL  \n",
       "...                    ...       ...  \n",
       "223293            ALVORADA     OESTE  \n",
       "223296              CENTRO       SUL  \n",
       "223299              TARUMÃ     OESTE  \n",
       "223302              DA PAZ     OESTE  \n",
       "225114         CIDADE NOVA     NORTE  \n",
       "\n",
       "[240 rows x 11 columns]"
      ],
      "text/html": "<div>\n<style scoped>\n    .dataframe tbody tr th:only-of-type {\n        vertical-align: middle;\n    }\n\n    .dataframe tbody tr th {\n        vertical-align: top;\n    }\n\n    .dataframe thead th {\n        text-align: right;\n    }\n</style>\n<table border=\"1\" class=\"dataframe\">\n  <thead>\n    <tr style=\"text-align: right;\">\n      <th></th>\n      <th>_dt_notificacao</th>\n      <th>_classificacao</th>\n      <th>_conclusao</th>\n      <th>_idade</th>\n      <th>_sexo</th>\n      <th>_teste_anticorpo</th>\n      <th>_teste_antigeno</th>\n      <th>_teste_pcr</th>\n      <th>_bairro</th>\n      <th>_bairro_mapa</th>\n      <th>_distrito</th>\n    </tr>\n  </thead>\n  <tbody>\n    <tr>\n      <th>7388</th>\n      <td>2020-05-05</td>\n      <td>Confirmado</td>\n      <td>Recuperado</td>\n      <td>58.0</td>\n      <td>M</td>\n      <td>1.0</td>\n      <td>1.0</td>\n      <td>2.0</td>\n      <td>NOVA CIDADE</td>\n      <td>NOVA CIDADE</td>\n      <td>NORTE</td>\n    </tr>\n    <tr>\n      <th>8372</th>\n      <td>2020-06-07</td>\n      <td>Confirmado</td>\n      <td>Recuperado</td>\n      <td>64.0</td>\n      <td>F</td>\n      <td>4.0</td>\n      <td>1.0</td>\n      <td>3.0</td>\n      <td>GILBERTO MESTRINHO</td>\n      <td>GILBERTO MESTRINHO</td>\n      <td>LESTE</td>\n    </tr>\n    <tr>\n      <th>10784</th>\n      <td>2020-06-04</td>\n      <td>Confirmado</td>\n      <td>Recuperado</td>\n      <td>34.0</td>\n      <td>F</td>\n      <td>1.0</td>\n      <td>2.0</td>\n      <td>3.0</td>\n      <td>SAO FRANCISCO</td>\n      <td>SÃO FRANCISCO</td>\n      <td>SUL</td>\n    </tr>\n    <tr>\n      <th>11131</th>\n      <td>2020-10-15</td>\n      <td>Confirmado</td>\n      <td>Recuperado</td>\n      <td>47.0</td>\n      <td>F</td>\n      <td>3.0</td>\n      <td>1.0</td>\n      <td>1.0</td>\n      <td>LAGO AZUL</td>\n      <td>LAGO AZUL</td>\n      <td>NORTE</td>\n    </tr>\n    <tr>\n      <th>12229</th>\n      <td>2020-11-16</td>\n      <td>Confirmado</td>\n      <td>Recuperado</td>\n      <td>74.0</td>\n      <td>F</td>\n      <td>1.0</td>\n      <td>1.0</td>\n      <td>2.0</td>\n      <td>FLORES</td>\n      <td>FLORES</td>\n      <td>SUL</td>\n    </tr>\n    <tr>\n      <th>...</th>\n      <td>...</td>\n      <td>...</td>\n      <td>...</td>\n      <td>...</td>\n      <td>...</td>\n      <td>...</td>\n      <td>...</td>\n      <td>...</td>\n      <td>...</td>\n      <td>...</td>\n      <td>...</td>\n    </tr>\n    <tr>\n      <th>223293</th>\n      <td>2020-10-31</td>\n      <td>Confirmado</td>\n      <td>Recuperado</td>\n      <td>38.0</td>\n      <td>M</td>\n      <td>2.0</td>\n      <td>1.0</td>\n      <td>4.0</td>\n      <td>ALVORADA</td>\n      <td>ALVORADA</td>\n      <td>OESTE</td>\n    </tr>\n    <tr>\n      <th>223296</th>\n      <td>2020-06-11</td>\n      <td>Confirmado</td>\n      <td>Recuperado</td>\n      <td>40.0</td>\n      <td>F</td>\n      <td>3.0</td>\n      <td>1.0</td>\n      <td>1.0</td>\n      <td>CENTRO</td>\n      <td>CENTRO</td>\n      <td>SUL</td>\n    </tr>\n    <tr>\n      <th>223299</th>\n      <td>2020-01-10</td>\n      <td>Confirmado</td>\n      <td>Recuperado</td>\n      <td>54.0</td>\n      <td>F</td>\n      <td>1.0</td>\n      <td>1.0</td>\n      <td>1.0</td>\n      <td>TARUMA</td>\n      <td>TARUMÃ</td>\n      <td>OESTE</td>\n    </tr>\n    <tr>\n      <th>223302</th>\n      <td>2020-02-10</td>\n      <td>Confirmado</td>\n      <td>Recuperado</td>\n      <td>31.0</td>\n      <td>M</td>\n      <td>2.0</td>\n      <td>1.0</td>\n      <td>1.0</td>\n      <td>PAZ</td>\n      <td>DA PAZ</td>\n      <td>OESTE</td>\n    </tr>\n    <tr>\n      <th>225114</th>\n      <td>2020-02-10</td>\n      <td>Confirmado</td>\n      <td>Recuperado</td>\n      <td>52.0</td>\n      <td>F</td>\n      <td>2.0</td>\n      <td>2.0</td>\n      <td>4.0</td>\n      <td>CIDADE NOVA</td>\n      <td>CIDADE NOVA</td>\n      <td>NORTE</td>\n    </tr>\n  </tbody>\n</table>\n<p>240 rows × 11 columns</p>\n</div>"
     },
     "metadata": {},
     "execution_count": 406
    }
   ],
   "source": [
    "df"
   ]
  },
  {
   "source": [
    "7. Quais os tipos de testes efetuados, segundo os dados? Indique os dados de maneira quantitativa\n",
    "e percentual.\n",
    "\n"
   ],
   "cell_type": "markdown",
   "metadata": {}
  },
  {
   "cell_type": "code",
   "execution_count": 427,
   "metadata": {},
   "outputs": [
    {
     "output_type": "stream",
     "name": "stdout",
     "text": [
      "Os tipos de testes efetuados são:  ['_teste_anticorpo', '_teste_antigeno', '_teste_pcr']\n"
     ]
    }
   ],
   "source": [
    "tipos_testest = list(df.columns.str.extract(r'(^_teste.*$)', expand=False).dropna())\n",
    "\n",
    "print(\"Os tipos de testes efetuados são: \", tipos_testest)"
   ]
  }
 ]
}