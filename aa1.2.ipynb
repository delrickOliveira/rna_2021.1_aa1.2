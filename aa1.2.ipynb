{
 "cells": [
  {
   "cell_type": "code",
   "execution_count": 1,
   "metadata": {
    "pycharm": {
     "name": "#%%\n"
    }
   },
   "outputs": [],
   "source": [
    "import pandas as pd\n",
    "import numpy as np\n",
    "import matplotlib.pyplot as plt"
   ]
  },
  {
   "cell_type": "markdown",
   "metadata": {},
   "source": [
    "#### Acesso da Base de Dados no dia: 11/10/2021"
   ]
  },
  {
   "cell_type": "code",
   "execution_count": 2,
   "metadata": {},
   "outputs": [],
   "source": [
    "df = pd.read_csv(\"Manaus.csv\", sep = \";\", low_memory = False)"
   ]
  },
  {
   "cell_type": "markdown",
   "metadata": {},
   "source": [
    "# 2.1 Visão Geral dos Casos Confirmados"
   ]
  },
  {
   "cell_type": "markdown",
   "metadata": {},
   "source": [
    "#### Filtrando apenas os casos confirmados."
   ]
  },
  {
   "cell_type": "code",
   "execution_count": 3,
   "metadata": {
    "pycharm": {
     "name": "#%%\n"
    }
   },
   "outputs": [],
   "source": [
    "\n",
    "#Filtrando apenas os casos confirmados.\n",
    "filtro  = df['_classificacao'] == \"Confirmado\"\n",
    "confirmados = df[filtro]\n",
    "df = confirmados "
   ]
  },
  {
   "cell_type": "markdown",
   "metadata": {},
   "source": [
    "#### 1. Quantos atributos descrevem cada exemplo? Quais são eles?"
   ]
  },
  {
   "cell_type": "code",
   "execution_count": 4,
   "metadata": {
    "pycharm": {
     "name": "#%%\n"
    }
   },
   "outputs": [
    {
     "name": "stdout",
     "output_type": "stream",
     "text": [
      "Cada exemplo possui 39 atributos ,são eles: \n",
      "_dt_evolucao\n",
      "_dt_notificacao\n",
      "_dt_sintomas\n",
      "_classificacao\n",
      "_conclusao\n",
      "_origem\n",
      "_comorb_cardio\n",
      "_comorb_cromossomica\n",
      "_comorb_diabetes\n",
      "_comorb_hemato\n",
      "_comorb_hepatica\n",
      "_comorb_imuno\n",
      "_comorb_neurologica\n",
      "_comorb_obessidade\n",
      "_comorb_renal\n",
      "_comorb_respiratoria\n",
      "_criterio\n",
      "_etnia\n",
      "_evolução\n",
      "_idade\n",
      "_faixa etária\n",
      "_gestante\n",
      "_profiss_saude\n",
      "_raca\n",
      "_se_notificacao\n",
      "_sexo\n",
      "_sintoma_dispneia\n",
      "_sintoma_febre\n",
      "_sintoma_garganta\n",
      "_sintoma_tosse\n",
      "_sintoma_outros\n",
      "_srag\n",
      "_teste_anticorpo\n",
      "_teste_antigeno\n",
      "_teste_pcr\n",
      "_bairro\n",
      "_bairro_mapa\n",
      "_distrito\n",
      "_taxa\n",
      "\n"
     ]
    }
   ],
   "source": [
    "qtd_atributos =    len(df.columns)\n",
    "atributos     =    list(df.columns)\n",
    "lst_atributos = \"\"\n",
    "for i in atributos:\n",
    "    lst_atributos += i + \"\\n\"\n",
    "\n",
    "print(\"Cada exemplo possui \"+str(qtd_atributos)+\" atributos ,são eles: \\n\"+lst_atributos )"
   ]
  },
  {
   "cell_type": "markdown",
   "metadata": {},
   "source": [
    "#### 2. Quantos casos confirmados há em Manaus, cumulativamente?"
   ]
  },
  {
   "cell_type": "code",
   "execution_count": 5,
   "metadata": {
    "pycharm": {
     "name": "#%%\n"
    }
   },
   "outputs": [
    {
     "name": "stdout",
     "output_type": "stream",
     "text": [
      "Existem 80420 casos confirmados.\n"
     ]
    }
   ],
   "source": [
    "casos_confirmados = len(df)\n",
    "casos_confirmados\n",
    "print(\"Existem \"+str(casos_confirmados)+\" casos confirmados.\")"
   ]
  },
  {
   "cell_type": "markdown",
   "metadata": {},
   "source": [
    "#### 3-  A qual período de tempo a base de dados se refere, isto é, qual o registro mais antigo e qual o\n",
    "mais recente? Leve em conta a data de notificação."
   ]
  },
  {
   "cell_type": "code",
   "execution_count": 6,
   "metadata": {
    "pycharm": {
     "name": "#%%\n"
    }
   },
   "outputs": [
    {
     "name": "stdout",
     "output_type": "stream",
     "text": [
      "A base de dados está compreendida entre as datas, 2020-01-04 00:00:00 e 2020-12-29 00:00:00\n"
     ]
    }
   ],
   "source": [
    "df['_dt_notificacao'] = pd.to_datetime(df['_dt_notificacao'])\n",
    "dt_antiga             = df['_dt_notificacao'].min()\n",
    "dt_recente            = df['_dt_notificacao'].max()\n",
    "print(\"A base de dados está compreendida entre as datas, \"+str(dt_antiga)+\" e \"+str(dt_recente))\n"
   ]
  },
  {
   "cell_type": "markdown",
   "metadata": {},
   "source": [
    "### Para fins da análise considerada no escopo deste projeto, vamos excluir todos os atributos relativos às comorbidades, sintomas, etnia, profissão, outras datas que não a de notificação, origem e outros que não estiverem envolvidos no contexto do trabalho solicitado. Estes atributos serão considerados irrelevantes para fins de simplificação. Exclua todas as linhas em que houver dados faltantes para os atributos remanescentes."
   ]
  },
  {
   "cell_type": "code",
   "execution_count": 7,
   "metadata": {
    "pycharm": {
     "name": "#%%\n"
    }
   },
   "outputs": [],
   "source": [
    "df = df.drop(df.filter(regex='comorb|sintoma|etnia|profissão|dt_evolucao|dt_sintomas|origem|raca|gestante|srag|_profiss_saude|criterio|evolução|faixa_etaria|teste|taxa|faixa|se_notificacao').columns, axis=1).dropna()\n"
   ]
  },
  {
   "cell_type": "markdown",
   "metadata": {},
   "source": [
    "#### 1. Quantos exemplos e atributos há na base de dados após a limpeza e organização?"
   ]
  },
  {
   "cell_type": "code",
   "execution_count": 8,
   "metadata": {
    "pycharm": {
     "name": "#%%\n"
    }
   },
   "outputs": [
    {
     "name": "stdout",
     "output_type": "stream",
     "text": [
      "Existem 41675 exemplos e , 8 atributos\n"
     ]
    }
   ],
   "source": [
    "exemplos  = len(df)\n",
    "atributos = len(df.columns)\n",
    "print(\"Existem \"+str(exemplos)+\" exemplos e , \"+str(atributos)+\" atributos\")"
   ]
  },
  {
   "cell_type": "markdown",
   "metadata": {},
   "source": [
    "#### 2. Qual a porcentagem de indivíduos recuperados em relação ao todo."
   ]
  },
  {
   "cell_type": "code",
   "execution_count": 9,
   "metadata": {
    "pycharm": {
     "name": "#%%\n"
    }
   },
   "outputs": [
    {
     "name": "stdout",
     "output_type": "stream",
     "text": [
      "Total de recuperados em porcentagem 91.89202159568086%\n"
     ]
    }
   ],
   "source": [
    "recuperados  = (df._conclusao == 'Recuperado').sum()\n",
    "total        = len(df)\n",
    "porc         = recuperados / total*100\n",
    "print(\"Total de recuperados em porcentagem \"+str(porc)+\"%\")"
   ]
  },
  {
   "cell_type": "markdown",
   "metadata": {},
   "source": [
    "#### 3. Os casos acometeram mais indivíduos do sexo masculino ou feminino?\n",
    "\n",
    "R = Indivíduos do sexo feminino."
   ]
  },
  {
   "cell_type": "code",
   "execution_count": 10,
   "metadata": {
    "pycharm": {
     "name": "#%%\n"
    }
   },
   "outputs": [
    {
     "data": {
      "text/plain": [
       "F    22357\n",
       "M    19318\n",
       "Name: _sexo, dtype: int64"
      ]
     },
     "execution_count": 10,
     "metadata": {},
     "output_type": "execute_result"
    }
   ],
   "source": [
    "df['_sexo'].value_counts()"
   ]
  },
  {
   "cell_type": "markdown",
   "metadata": {},
   "source": [
    "#### 4. Qual a média e desvio padrão de idade dos indivíduos que contraíram COVID-19? Qual o indivíduo mais jovem e o mais idoso a contraírem tal enfermidade?"
   ]
  },
  {
   "cell_type": "code",
   "execution_count": 11,
   "metadata": {
    "pycharm": {
     "name": "#%%\n"
    }
   },
   "outputs": [
    {
     "name": "stdout",
     "output_type": "stream",
     "text": [
      "A média de idade: 43.47652069586083\n",
      "Desvio padrão: 17.376150335788605\n",
      "O indivíduo mais jovem: 0.0\n",
      "O indivíduo mais idoso: 120.0\n"
     ]
    }
   ],
   "source": [
    "media_idade         = np.mean(df['_idade'])\n",
    "desvio_padrão       = np.std(df['_idade'])\n",
    "jovem                = np.min(df['_idade'])\n",
    "idoso               = np.max(df['_idade'])\n",
    "print( \"A média de idade: \"+str(media_idade)+\n",
    "       \"\\nDesvio padrão: \"+str(desvio_padrão)+\n",
    "       \"\\nO indivíduo mais jovem: \"+str(jovem)+\n",
    "       \"\\nO indivíduo mais idoso: \"+str(idoso)\n",
    "\n",
    "      )"
   ]
  },
  {
   "cell_type": "markdown",
   "metadata": {},
   "source": [
    "#### 5. Qual o bairro com maior incidência de casos?"
   ]
  },
  {
   "cell_type": "code",
   "execution_count": 12,
   "metadata": {
    "pycharm": {
     "name": "#%%\n"
    }
   },
   "outputs": [
    {
     "name": "stdout",
     "output_type": "stream",
     "text": [
      "bairro com maior incidencia: SAO JOSE OPERARIO\n"
     ]
    }
   ],
   "source": [
    "bairro_maior     = df['_bairro'].value_counts().index[0]\n",
    "qtd_bairro_maior = df['_bairro'].value_counts()[0]\n",
    "print(\"bairro com maior incidencia: \"+str(bairro_maior))"
   ]
  },
  {
   "cell_type": "markdown",
   "metadata": {},
   "source": [
    "#### 6. Quais os três bairros com maior incidência de casos recuperados?"
   ]
  },
  {
   "cell_type": "code",
   "execution_count": 13,
   "metadata": {
    "pycharm": {
     "name": "#%%\n"
    }
   },
   "outputs": [
    {
     "name": "stdout",
     "output_type": "stream",
     "text": [
      "3 bairros com maior incidencias: ['SAO JOSE OPERARIO', 'JORGE TEIXEIRA', 'CIDADE NOVA']\n"
     ]
    }
   ],
   "source": [
    "incidencias = list(df['_bairro'].value_counts().index[:3])\n",
    "print(\"3 bairros com maior incidencias: \"+str(incidencias))"
   ]
  },
  {
   "cell_type": "markdown",
   "metadata": {},
   "source": [
    "#### 7. Quais os tipos de testes efetuados, segundo os dados? Indique os dados de maneira quantitativa e percentual.\n",
    "\n"
   ]
  },
  {
   "cell_type": "code",
   "execution_count": 14,
   "metadata": {
    "pycharm": {
     "name": "#%%\n"
    }
   },
   "outputs": [
    {
     "name": "stdout",
     "output_type": "stream",
     "text": [
      "Os tipos de testes efetuados são:  ['_teste_anticorpo', '_teste_antigeno', '_teste_pcr']\n",
      "Teste Anticorpo: 65051.0 testes realizados, correspondendo a 62.09882200202379 % do total\n",
      "Teste Antigeno: 9066.0 testes realizados, correspondendo a 8.654562116959735 % do total\n",
      "Teste PCR: 30637.0 testes realizados, correspondendo a 29.246615881016474 % do total\n"
     ]
    }
   ],
   "source": [
    "df = pd.read_csv(\"Manaus.csv\", sep = \";\", low_memory = False)\n",
    "#Filtrando apenas os casos confirmados.\n",
    "filtro  = df['_classificacao'] == \"Confirmado\"\n",
    "confirmados = df[filtro]\n",
    "df = confirmados \n",
    "\n",
    "tipos_testest = list(df.columns.str.extract(r'(^_teste.*$)', expand=False).dropna())\n",
    "qtd_teste_anticoropo = df['_teste_anticorpo'].sum()\n",
    "qtd_teste_antigeno   = df['_teste_antigeno'].sum()\n",
    "qtd_teste_pcr   = df['_teste_pcr'].sum()\n",
    "total_teste = qtd_teste_anticoropo+qtd_teste_antigeno+qtd_teste_pcr\n",
    "\n",
    "print(\"Os tipos de testes efetuados são: \", tipos_testest)\n",
    "print(\"Teste Anticorpo: \"+str(qtd_teste_anticoropo)+\" testes realizados, correspondendo a \"+str((qtd_teste_anticoropo/total_teste)*100)+\" % do total\")\n",
    "print(\"Teste Antigeno: \"+str(qtd_teste_antigeno)+\" testes realizados, correspondendo a \"+str((qtd_teste_antigeno/total_teste)*100)+\" % do total\")\n",
    "print(\"Teste PCR: \"+str(qtd_teste_pcr)+\" testes realizados, correspondendo a \"+str((qtd_teste_pcr/total_teste)*100)+\" % do total\")\n"
   ]
  },
  {
   "cell_type": "markdown",
   "metadata": {},
   "source": [
    "#### 8. Qual taxa de letalidade pode ser calculada a partir do conjunto de dados? Para calcular esta taxa, considere a fração do total de óbitos pelo total e casos;"
   ]
  },
  {
   "cell_type": "code",
   "execution_count": 15,
   "metadata": {
    "pycharm": {
     "name": "#%%\n"
    }
   },
   "outputs": [
    {
     "name": "stdout",
     "output_type": "stream",
     "text": [
      "Taxa de Letalidade: 4.160656553096245%\n"
     ]
    }
   ],
   "source": [
    "df = pd.read_csv(\"Manaus.csv\", sep = \";\", low_memory = False)\n",
    "#Filtrando apenas os casos confirmados.\n",
    "filtro  = df['_classificacao'] == \"Confirmado\"\n",
    "confirmados = df[filtro]\n",
    "df = confirmados \n",
    "\n",
    "taxa_letalidade = ( len(df[df['_conclusao']=='Óbito'])/len(df) )*100\n",
    "print(\"Taxa de Letalidade: \"+str(taxa_letalidade)+str(\"%\"))"
   ]
  },
  {
   "cell_type": "markdown",
   "metadata": {},
   "source": [
    "#### 9 - Qual o tipo de correlação, mediante coeficiente de correlação de Pearson, entre a idade e o número de casos? Para responder a esta pergunte, agrupe o número de casos por idade e efetue o cálculo de tal coeficiente. Indique, a partir do resultado, a natureza desta correlação, se é positiva ou negativa, e ual sua intensidade."
   ]
  },
  {
   "cell_type": "code",
   "execution_count": 16,
   "metadata": {
    "pycharm": {
     "name": "#%%\n"
    }
   },
   "outputs": [
    {
     "name": "stdout",
     "output_type": "stream",
     "text": [
      "A correlação -0.3959859763213944 nos mostra que que a idade e o número de casos não possuem uma relação linear forte.\n"
     ]
    }
   ],
   "source": [
    "dados_agrupados = df.groupby(by='_idade').size()\n",
    "dados_agrupados = dados_agrupados.reset_index(name=\"correlacao\")\n",
    "correlacao = dados_agrupados.corr()\n",
    "\n",
    "print( \"A correlação \"+str(correlacao._idade.loc['correlacao'])+\" nos mostra que que a idade e o número de casos não possuem uma relação linear forte.\")"
   ]
  },
  {
   "cell_type": "markdown",
   "metadata": {},
   "source": [
    "# 2.2 - Vizualização dos Dados\n",
    "\n",
    "\n"
   ]
  },
  {
   "cell_type": "markdown",
   "metadata": {},
   "source": [
    "#### 1. Construa um histograma denotando a quantidade de casos nos 10 bairros em que houve mais casos registrados. inclua todos os bairros remanescentes em uma categoria denominada “Outros.” Denote as informações de maneira percentual;"
   ]
  },
  {
   "cell_type": "markdown",
   "metadata": {},
   "source": [
    "Construímos um gráfico, marcando a porcentagem de casos confirmados. Verificando a soma da quantidade dos bairros, depois agrupando todos os restantes em uma categoria, alocando-os em um vetor para melhor plotagem."
   ]
  },
  {
   "cell_type": "code",
   "execution_count": 17,
   "metadata": {},
   "outputs": [],
   "source": [
    "df = df.drop(columns=['_comorb_cardio','_comorb_cromossomica','_comorb_diabetes','_comorb_hemato','_comorb_hepatica','_comorb_imuno','_comorb_neurologica','_comorb_obessidade','_comorb_renal','_comorb_respiratoria',\n",
    "'_sintoma_dispneia','_sintoma_febre','_sintoma_garganta','_sintoma_tosse','_sintoma_outros','_etnia','_evolução','_profiss_saude','_dt_evolucao','_dt_sintomas','_gestante','_raca'])"
   ]
  },
  {
   "cell_type": "code",
   "execution_count": 18,
   "metadata": {},
   "outputs": [
    {
     "data": {
      "text/plain": [
       "'nan_value = float(\"NaN\")\\ndf[\\'_conclusao\\'].replace(\"\", nan_value, inplace=True)\\ndf[\\'_conclusao\\'].isnull()\\ndf.dropna(subset = [\\'_conclusao\\'], inplace=True)'"
      ]
     },
     "execution_count": 18,
     "metadata": {},
     "output_type": "execute_result"
    }
   ],
   "source": [
    "##### removemos as linhas  vazias das colunas 'bairro', 'sexo' e 'idade'\n",
    "\n",
    "nan_value = float(\"NaN\")\n",
    "df['_bairro'].replace(\"\", nan_value, inplace=True)\n",
    "df['_bairro'].isnull()\n",
    "\n",
    "df.dropna(subset = [\"_bairro\"], inplace=True)\n",
    "bairros = df['_bairro'].value_counts()\n",
    "bairros\n",
    "\n",
    "nan_value = float(\"NaN\")\n",
    "df['_sexo'].replace(\"\", nan_value, inplace=True)\n",
    "df['_sexo'].isnull()\n",
    "\n",
    "df.dropna(subset = [\"_sexo\"], inplace=True)\n",
    "df['_sexo'].value_counts()\n",
    "    #Quantidade de dados da coluna, entre Feminino e Masculino.\n",
    "\n",
    "nan_value = float(\"NaN\")\n",
    "df['_idade'].replace(\"\", nan_value, inplace=True)\n",
    "df['_idade'].isnull()\n",
    "\n",
    "df.dropna(subset = [\"_idade\"], inplace=True)\n",
    "df['_idade'].value_counts()\n",
    "\n",
    "'''nan_value = float(\"NaN\")\n",
    "df['_conclusao'].replace(\"\", nan_value, inplace=True)\n",
    "df['_conclusao'].isnull()\n",
    "df.dropna(subset = ['_conclusao'], inplace=True)'''\n",
    "# Não removemos as linhas vazias da coluna 'conclusao', por não ter necessidade e perder grande quantidade de dados."
   ]
  },
  {
   "cell_type": "code",
   "execution_count": 19,
   "metadata": {
    "pycharm": {
     "name": "#%%\n"
    }
   },
   "outputs": [
    {
     "data": {
      "text/plain": [
       "CIDADE NOVA                   4767\n",
       "FLORES                        3007\n",
       "SAO JOSE OPERARIO             2637\n",
       "NOVO ALEIXO                   2366\n",
       "ALVORADA                      2314\n",
       "                              ... \n",
       "ZONA RUARL                       1\n",
       "DISTRITO INDUSTRUAL              1\n",
       "PRESIDENTA VARGAS                1\n",
       "CACHOERRINHA                     1\n",
       "POLO BASE N. SRA. DA SAUDE       1\n",
       "Name: _bairro, Length: 2629, dtype: int64"
      ]
     },
     "execution_count": 19,
     "metadata": {},
     "output_type": "execute_result"
    }
   ],
   "source": [
    "outro_bairros=bairros[11:].sum()\n",
    "bairros"
   ]
  },
  {
   "cell_type": "code",
   "execution_count": 20,
   "metadata": {
    "pycharm": {
     "name": "#%%\n"
    }
   },
   "outputs": [],
   "source": [
    "locais = bairros[0:10].to_frame() # Separamos os 10 com mais quantidades e criamos uma outra tabela."
   ]
  },
  {
   "cell_type": "code",
   "execution_count": 21,
   "metadata": {
    "pycharm": {
     "name": "#%%\n"
    }
   },
   "outputs": [],
   "source": [
    "locais.loc['Outros'] = [outro_bairros] #Adicionamos a soma dos outros locais na tabela"
   ]
  },
  {
   "cell_type": "code",
   "execution_count": 22,
   "metadata": {
    "pycharm": {
     "name": "#%%\n"
    }
   },
   "outputs": [
    {
     "data": {
      "text/html": [
       "<div>\n",
       "<style scoped>\n",
       "    .dataframe tbody tr th:only-of-type {\n",
       "        vertical-align: middle;\n",
       "    }\n",
       "\n",
       "    .dataframe tbody tr th {\n",
       "        vertical-align: top;\n",
       "    }\n",
       "\n",
       "    .dataframe thead th {\n",
       "        text-align: right;\n",
       "    }\n",
       "</style>\n",
       "<table border=\"1\" class=\"dataframe\">\n",
       "  <thead>\n",
       "    <tr style=\"text-align: right;\">\n",
       "      <th></th>\n",
       "      <th>_bairro</th>\n",
       "    </tr>\n",
       "  </thead>\n",
       "  <tbody>\n",
       "    <tr>\n",
       "      <th>CIDADE NOVA</th>\n",
       "      <td>4767</td>\n",
       "    </tr>\n",
       "    <tr>\n",
       "      <th>FLORES</th>\n",
       "      <td>3007</td>\n",
       "    </tr>\n",
       "    <tr>\n",
       "      <th>SAO JOSE OPERARIO</th>\n",
       "      <td>2637</td>\n",
       "    </tr>\n",
       "    <tr>\n",
       "      <th>NOVO ALEIXO</th>\n",
       "      <td>2366</td>\n",
       "    </tr>\n",
       "    <tr>\n",
       "      <th>ALVORADA</th>\n",
       "      <td>2314</td>\n",
       "    </tr>\n",
       "    <tr>\n",
       "      <th>JORGE TEIXEIRA</th>\n",
       "      <td>2294</td>\n",
       "    </tr>\n",
       "    <tr>\n",
       "      <th>CENTRO</th>\n",
       "      <td>2210</td>\n",
       "    </tr>\n",
       "    <tr>\n",
       "      <th>COMPENSA</th>\n",
       "      <td>2200</td>\n",
       "    </tr>\n",
       "    <tr>\n",
       "      <th>COROADO</th>\n",
       "      <td>2067</td>\n",
       "    </tr>\n",
       "    <tr>\n",
       "      <th>ALEIXO</th>\n",
       "      <td>2007</td>\n",
       "    </tr>\n",
       "    <tr>\n",
       "      <th>Outros</th>\n",
       "      <td>51927</td>\n",
       "    </tr>\n",
       "  </tbody>\n",
       "</table>\n",
       "</div>"
      ],
      "text/plain": [
       "                   _bairro\n",
       "CIDADE NOVA           4767\n",
       "FLORES                3007\n",
       "SAO JOSE OPERARIO     2637\n",
       "NOVO ALEIXO           2366\n",
       "ALVORADA              2314\n",
       "JORGE TEIXEIRA        2294\n",
       "CENTRO                2210\n",
       "COMPENSA              2200\n",
       "COROADO               2067\n",
       "ALEIXO                2007\n",
       "Outros               51927"
      ]
     },
     "execution_count": 22,
     "metadata": {},
     "output_type": "execute_result"
    }
   ],
   "source": [
    "locais"
   ]
  },
  {
   "cell_type": "markdown",
   "metadata": {},
   "source": [
    "Iniciamos a plotagem"
   ]
  },
  {
   "cell_type": "code",
   "execution_count": 23,
   "metadata": {
    "pycharm": {
     "name": "#%%\n"
    }
   },
   "outputs": [],
   "source": [
    "n_casos = locais['_bairro'].values.tolist()"
   ]
  },
  {
   "cell_type": "code",
   "execution_count": 24,
   "metadata": {
    "pycharm": {
     "name": "#%%\n"
    }
   },
   "outputs": [],
   "source": [
    "nome_locais = locais.index.tolist()"
   ]
  },
  {
   "cell_type": "code",
   "execution_count": 25,
   "metadata": {
    "pycharm": {
     "name": "#%%\n"
    }
   },
   "outputs": [
    {
     "data": {
      "image/png": "[encoded data removed]",
      "text/plain": [
       "<Figure size 432x288 with 1 Axes>"
      ]
     },
     "metadata": {},
     "output_type": "display_data"
    }
   ],
   "source": [
    "\n",
    "cores=['gold', 'red', 'blue', 'magenta', 'lime','lightskyblue',\n",
    "       'yellowgreen', 'tab:orange', 'tab:gray', 'tab:brown',\n",
    "        'tab:pink']\n",
    "\n",
    "# Atribuindo um título ao gráfico\n",
    "plt.title('Bairros com mais casos confirmados')\n",
    "\n",
    "plt.pie(n_casos, labels=nome_locais, colors=cores, autopct='%1.1f%%', shadow=True, startangle=90)\n",
    "\n",
    "#Adiciona Legenda\n",
    "plt.legend(nome_locais, bbox_to_anchor=(1.3, 1.1))\n",
    "\n",
    "#Centraliza o gráfico\n",
    "plt.axis('equal')\n",
    "\n",
    "#Ajusta o espaçamento para evitar o recorte do rótulo\n",
    "plt.tight_layout()\n",
    "\n",
    "plt.show()"
   ]
  },
  {
   "cell_type": "markdown",
   "metadata": {},
   "source": [
    "##### Distribuição dos 10 bairros com mais casos confirmados, incluindo demais bairros"
   ]
  },
  {
   "cell_type": "markdown",
   "metadata": {},
   "source": [
    "## ----------------------------------------------------------------------------------------------------------\n",
    "\n",
    "#### 2. Denote, por sexo, o boxplot da idade dos casos confirmados. Há outliers?"
   ]
  },
  {
   "cell_type": "code",
   "execution_count": 26,
   "metadata": {
    "pycharm": {
     "name": "#%%\n"
    }
   },
   "outputs": [
    {
     "data": {
      "text/plain": [
       "F    43798\n",
       "M    35707\n",
       "Name: _sexo, dtype: int64"
      ]
     },
     "execution_count": 26,
     "metadata": {},
     "output_type": "execute_result"
    }
   ],
   "source": [
    "df['_sexo'].value_counts()"
   ]
  },
  {
   "cell_type": "code",
   "execution_count": 27,
   "metadata": {
    "pycharm": {
     "name": "#%%\n"
    }
   },
   "outputs": [
    {
     "data": {
      "text/plain": [
       "130       F\n",
       "144       F\n",
       "153       F\n",
       "158       F\n",
       "196       F\n",
       "         ..\n",
       "243923    M\n",
       "243973    M\n",
       "243977    F\n",
       "243979    F\n",
       "243982    F\n",
       "Name: _sexo, Length: 79505, dtype: object"
      ]
     },
     "execution_count": 27,
     "metadata": {},
     "output_type": "execute_result"
    }
   ],
   "source": [
    "df['_sexo']"
   ]
  },
  {
   "cell_type": "markdown",
   "metadata": {},
   "source": [
    "        Modificamos o Dtpye da Coluna '_idade', de 'objet' para 'float', para aplicarmos o BoxPlot"
   ]
  },
  {
   "cell_type": "code",
   "execution_count": 28,
   "metadata": {
    "pycharm": {
     "name": "#%%\n"
    }
   },
   "outputs": [],
   "source": [
    "df['_idade'] = df['_idade'].astype(float, errors = 'raise')"
   ]
  },
  {
   "cell_type": "code",
   "execution_count": 29,
   "metadata": {
    "pycharm": {
     "name": "#%%\n"
    }
   },
   "outputs": [
    {
     "data": {
      "text/plain": [
       "<AxesSubplot:title={'center':'_idade'}, xlabel='_sexo'>"
      ]
     },
     "execution_count": 29,
     "metadata": {},
     "output_type": "execute_result"
    },
    {
     "data": {
      "image/png": "[encoded data removed]",
      "text/plain": [
       "<Figure size 504x648 with 1 Axes>"
      ]
     },
     "metadata": {
      "needs_background": "light"
     },
     "output_type": "display_data"
    }
   ],
   "source": [
    "df.boxplot(column=['_idade'],by='_sexo',figsize=(7,9))"
   ]
  },
  {
   "cell_type": "code",
   "execution_count": 30,
   "metadata": {
    "pycharm": {
     "name": "#%%\n"
    }
   },
   "outputs": [],
   "source": [
    "x = df.loc[df['_idade']>=150]"
   ]
  },
  {
   "cell_type": "code",
   "execution_count": 31,
   "metadata": {
    "pycharm": {
     "name": "#%%\n"
    }
   },
   "outputs": [
    {
     "data": {
      "text/plain": [
       "Int64Index([23221, 59744, 83432], dtype='int64')"
      ]
     },
     "execution_count": 31,
     "metadata": {},
     "output_type": "execute_result"
    }
   ],
   "source": [
    "x.index"
   ]
  },
  {
   "cell_type": "markdown",
   "metadata": {},
   "source": [
    "Podemos considerar remover estes dados do Dataset([23222,59745,83433]), pois estes estão com dados incorretos."
   ]
  },
  {
   "cell_type": "markdown",
   "metadata": {},
   "source": [
    "#### Como podemos ver, há muitos outliners, acumulando principalmente entre as idades próximas a 80 e 100 anos,"
   ]
  },
  {
   "cell_type": "markdown",
   "metadata": {},
   "source": [
    "# -----------------------------------------------------------------------------------------"
   ]
  },
  {
   "cell_type": "markdown",
   "metadata": {},
   "source": [
    "#### 3 - Denote em um gráfico de barras o número de novos casos por dia, considerando os 10 últimos dias existentes na base de dados;"
   ]
  },
  {
   "cell_type": "code",
   "execution_count": 32,
   "metadata": {
    "pycharm": {
     "name": "#%%\n"
    }
   },
   "outputs": [],
   "source": [
    "df['_dt_notificacao']=pd.to_datetime(df['_dt_notificacao'])\n",
    "#fazemos a conversão da coluna para Datetime"
   ]
  },
  {
   "cell_type": "markdown",
   "metadata": {},
   "source": [
    "    Realizamos a soma das datas de acordo com a data de notificação (value_counts()), realizamos a ordenacão dessas somas (sort_index()), e selecionamos os últimos 10 dias ([-10]), e aplicamos a plotagem."
   ]
  },
  {
   "cell_type": "code",
   "execution_count": 33,
   "metadata": {
    "pycharm": {
     "name": "#%%\n"
    }
   },
   "outputs": [
    {
     "data": {
      "text/plain": [
       "<AxesSubplot:title={'center':'Casos novos confirmados nos últimos 10 dias'}>"
      ]
     },
     "execution_count": 33,
     "metadata": {},
     "output_type": "execute_result"
    },
    {
     "data": {
      "image/png": "[encoded data removed]",
      "text/plain": [
       "<Figure size 432x288 with 1 Axes>"
      ]
     },
     "metadata": {
      "needs_background": "light"
     },
     "output_type": "display_data"
    }
   ],
   "source": [
    "df['_dt_notificacao'].value_counts().sort_index()[-10:].plot.bar(title = 'Casos novos confirmados nos últimos 10 dias')"
   ]
  },
  {
   "cell_type": "code",
   "execution_count": 34,
   "metadata": {
    "pycharm": {
     "name": "#%%\n"
    }
   },
   "outputs": [
    {
     "data": {
      "text/plain": [
       "290.5"
      ]
     },
     "execution_count": 34,
     "metadata": {},
     "output_type": "execute_result"
    }
   ],
   "source": [
    "df['_dt_notificacao'].value_counts().sort_index()[-10:].mean()"
   ]
  },
  {
   "cell_type": "markdown",
   "metadata": {},
   "source": [
    "#### Com o gráfico, verificamos a quantidade de novos casos, nos útimos 10 dias do DataSet, com uma média de 290 casos nesse intervalo."
   ]
  },
  {
   "cell_type": "markdown",
   "metadata": {},
   "source": [
    "# -----------------------------------------------------------------------------------------"
   ]
  },
  {
   "cell_type": "markdown",
   "metadata": {},
   "source": [
    "#### 4- Repita o gráfico anterior considerando o número de casos recuperados;"
   ]
  },
  {
   "cell_type": "markdown",
   "metadata": {},
   "source": [
    "    Realizamos a mesma ideia da questão passada: realizamos a contagem de acordo com as datas, ordenamos e separamos as 10 mais recentes."
   ]
  },
  {
   "cell_type": "code",
   "execution_count": 35,
   "metadata": {
    "pycharm": {
     "name": "#%%\n"
    }
   },
   "outputs": [
    {
     "data": {
      "text/plain": [
       "<AxesSubplot:title={'center':'Casos recuperados nos últimos 10 dias'}>"
      ]
     },
     "execution_count": 35,
     "metadata": {},
     "output_type": "execute_result"
    },
    {
     "data": {
      "image/png": "[encoded data removed]",
      "text/plain": [
       "<Figure size 432x288 with 1 Axes>"
      ]
     },
     "metadata": {
      "needs_background": "light"
     },
     "output_type": "display_data"
    }
   ],
   "source": [
    "recuperados = df.loc[df['_conclusao']=='Recuperado']\n",
    "recuperados['_dt_notificacao'].value_counts().sort_index()[-10:].plot.bar(title = 'Casos recuperados nos últimos 10 dias')"
   ]
  },
  {
   "cell_type": "code",
   "execution_count": 36,
   "metadata": {
    "pycharm": {
     "name": "#%%\n"
    }
   },
   "outputs": [
    {
     "data": {
      "text/plain": [
       "128.9"
      ]
     },
     "execution_count": 36,
     "metadata": {},
     "output_type": "execute_result"
    }
   ],
   "source": [
    "recuperados['_dt_notificacao'].value_counts().sort_index()[-10:].mean()"
   ]
  },
  {
   "cell_type": "markdown",
   "metadata": {},
   "source": [
    "#### Com o gráfico, verificamos a quantidade dos ultimos casos recuperados, nos útimos 10 dias disponiveis no DataSet, com uma média de 129 recuperados nesse intervalo."
   ]
  },
  {
   "cell_type": "markdown",
   "metadata": {},
   "source": [
    "# ------------------------------------------------------------------------------------------------------"
   ]
  },
  {
   "cell_type": "markdown",
   "metadata": {},
   "source": [
    "<h4> 5 - Construa um histograma que denote a quantidade percentual de casos por grupo etário, con-\n",
    "siderando que cada grupo contempla uma década (0 a 10 anos, 11 a 20 anos, etc.). </h4>"
   ]
  },
  {
   "cell_type": "markdown",
   "metadata": {},
   "source": [
    "Para a averiguação do resultado do histograma será preenchida a coluna da faixa etária\n",
    "com o resultado da função cut do pandas colocando como bins os valores que iniciam\n",
    "os intervalos sugeridos, ignorando o membro a direita dos grupos.\n",
    "> Ex: `[0,11]` irá colocar em um grupo `{0,1,2,3,4,5,6,7,8,9,10}`"
   ]
  },
  {
   "cell_type": "code",
   "execution_count": 37,
   "metadata": {
    "pycharm": {
     "name": "#%%\n"
    }
   },
   "outputs": [
    {
     "name": "stdout",
     "output_type": "stream",
     "text": [
      "O total de registros é 79500\n",
      "\n",
      "_faixa etária\n",
      "0 a 10 anos        2551\n",
      "11 a 20 anos       3873\n",
      "21 a 30 anos      12231\n",
      "31 a 40 anos      18917\n",
      "41 a 50 anos      18200\n",
      "51 a 60 anos      12310\n",
      "61 a 70 anos       6808\n",
      "71 a 80 anos       3114\n",
      "81 a 90 anos       1219\n",
      "91 a 100 anos       259\n",
      "101 a 110 anos       11\n",
      "111 a 120 anos        7\n",
      "Name: _dt_notificacao, dtype: int64\n",
      "\n",
      "2551 representa 0.03 do total\n",
      "3873 representa 0.05 do total\n",
      "12231 representa 0.15 do total\n",
      "18917 representa 0.24 do total\n",
      "18200 representa 0.23 do total\n",
      "12310 representa 0.15 do total\n",
      "6808 representa 0.09 do total\n",
      "3114 representa 0.04 do total\n",
      "1219 representa 0.02 do total\n",
      "259 representa 0.00 do total\n",
      "11 representa 0.00 do total\n",
      "7 representa 0.00 do total\n"
     ]
    }
   ],
   "source": [
    "bins = [0]\n",
    "labels = []\n",
    "max_age = 130\n",
    "\n",
    "#conversão da coluna idade para tipo inteiro\n",
    "\n",
    "df['_idade'] = df['_idade'].astype(int)\n",
    "filtered_df = df[df['_idade'] <= max_age]\n",
    "int_age = filtered_df['_idade']\n",
    "\n",
    "#construção da lista de bins\n",
    "for i in range(11,max_age,10):\n",
    "        bins.append(i)\n",
    "\n",
    "#construção da lista de labels a partir dos valores dos bins\n",
    "for i in bins[:-1]:\n",
    "    if i == 0:\n",
    "        labels.append(\"{} a {} anos\".format(i, i+10))\n",
    "    else:\n",
    "        labels.append(\"{} a {} anos\".format(i, i+9))\n",
    "\n",
    "#substituindo os valores da coluna existente de faixa etária pelos valores desejados\n",
    "df['_faixa etária'] = pd.cut(int_age , bins=bins, labels=labels, right=False)\n",
    "\n",
    "#agrupando os dados pelas faixas etárias semelhantes\n",
    "age_range_group = df.groupby(\"_faixa etária\")['_dt_notificacao'].count()\n",
    "\n",
    "total_qtd = age_range_group.sum()\n",
    "print(\"O total de registros é {}\".format(total_qtd), end=\"\\n\\n\")\n",
    "print(age_range_group,end=\"\\n\\n\")\n",
    "for i in age_range_group:\n",
    "    print(\"{} representa {:.2f} do total\".format(i, i/total_qtd))"
   ]
  },
  {
   "cell_type": "markdown",
   "metadata": {},
   "source": [
    "<h4>Aqui está a construção do histograma a partir da coluna de idade<h4>"
   ]
  },
  {
   "cell_type": "code",
   "execution_count": 38,
   "metadata": {
    "pycharm": {
     "name": "#%%\n"
    }
   },
   "outputs": [
    {
     "data": {
      "image/png": "[encoded data removed]",
      "text/plain": [
       "<Figure size 432x288 with 1 Axes>"
      ]
     },
     "metadata": {
      "needs_background": "light"
     },
     "output_type": "display_data"
    }
   ],
   "source": [
    "from matplotlib.ticker import PercentFormatter\n",
    "\n",
    "\n",
    "plt.hist(int_age, bins=bins, color='#0504aa',alpha=0.7, rwidth=0.85, density=True)\n",
    "plt.gca().yaxis.set_major_formatter(PercentFormatter(0.1))\n",
    "plt.xticks(np.arange(0, bins[-1], 10))\n",
    "plt.yticks(np.arange(0,0.03,0.005))\n",
    "plt.title(\"Quantidade percentual de casos por grupo etário\")\n",
    "plt.show()"
   ]
  },
  {
   "cell_type": "markdown",
   "metadata": {},
   "source": [
    "#### 6 - Elabore um gráfico que mostra o cumulativo de casos notificados ao longo do tempo;"
   ]
  },
  {
   "cell_type": "markdown",
   "metadata": {},
   "source": [
    "    Nesta atividade, selecionamos a coluna das datas de notificação, realizamos a soma dos casos nas respectivas datas. E realizmos a ordenação dos mesmos (sort_index()), logo em seguida utilizamos a função cumsum(), para realizar a soma acumulada de acordo com a ordem das datas."
   ]
  },
  {
   "cell_type": "code",
   "execution_count": 39,
   "metadata": {
    "pycharm": {
     "name": "#%%\n"
    }
   },
   "outputs": [
    {
     "data": {
      "image/png": "[encoded data removed]",
      "text/plain": [
       "<Figure size 1080x432 with 1 Axes>"
      ]
     },
     "metadata": {
      "needs_background": "light"
     },
     "output_type": "display_data"
    }
   ],
   "source": [
    "xxx = df['_dt_notificacao'].value_counts().sort_index().cumsum().plot(title = 'Casos Acumulados',figsize=(15,6))"
   ]
  },
  {
   "cell_type": "markdown",
   "metadata": {},
   "source": [
    "#### Acumulado de casos confirmados"
   ]
  },
  {
   "cell_type": "markdown",
   "metadata": {},
   "source": [
    "# ---------------------------------------------------------------------------------------"
   ]
  },
  {
   "cell_type": "markdown",
   "metadata": {},
   "source": [
    "#### 7- Faça um gráfico do tipo scatterplot que denote a idade versus o número total de casos registrado para aquela idade. Aproveite o processamento fetuado para o cálculo da correlação. É possível observar alguma tendência?\n"
   ]
  },
  {
   "cell_type": "markdown",
   "metadata": {},
   "source": [
    "Para essa questão será aproveitado o processamento feito na questão 5"
   ]
  },
  {
   "cell_type": "code",
   "execution_count": 40,
   "metadata": {
    "pycharm": {
     "name": "#%%\n"
    }
   },
   "outputs": [
    {
     "name": "stdout",
     "output_type": "stream",
     "text": [
      "Quantidade de casos por idade\n",
      "_idade\n",
      "38     2154\n",
      "40     2106\n",
      "39     2051\n",
      "41     2038\n",
      "37     2021\n",
      "42     2016\n",
      "43     1966\n",
      "35     1948\n",
      "44     1883\n",
      "36     1867\n",
      "45     1845\n",
      "46     1816\n",
      "34     1807\n",
      "48     1699\n",
      "32     1691\n",
      "47     1689\n",
      "49     1682\n",
      "33     1671\n",
      "31     1601\n",
      "50     1566\n",
      "51     1491\n",
      "52     1439\n",
      "29     1431\n",
      "28     1403\n",
      "53     1402\n",
      "30     1381\n",
      "27     1352\n",
      "55     1316\n",
      "26     1312\n",
      "25     1285\n",
      "54     1271\n",
      "56     1225\n",
      "24     1185\n",
      "57     1167\n",
      "58     1089\n",
      "23     1062\n",
      "59      971\n",
      "22      961\n",
      "60      939\n",
      "61      879\n",
      "21      859\n",
      "63      796\n",
      "62      794\n",
      "20      789\n",
      "64      730\n",
      "0       708\n",
      "65      687\n",
      "66      684\n",
      "67      650\n",
      "19      590\n",
      "69      553\n",
      "70      521\n",
      "68      514\n",
      "71      450\n",
      "18      435\n",
      "72      435\n",
      "17      398\n",
      "73      348\n",
      "16      341\n",
      "75      337\n",
      "1       333\n",
      "15      326\n",
      "74      322\n",
      "76      296\n",
      "14      284\n",
      "77      262\n",
      "13      255\n",
      "12      232\n",
      "78      229\n",
      "11      223\n",
      "80      218\n",
      "79      217\n",
      "2       210\n",
      "10      197\n",
      "7       175\n",
      "82      174\n",
      "81      172\n",
      "5       170\n",
      "3       165\n",
      "4       159\n",
      "9       157\n",
      "83      154\n",
      "84      148\n",
      "6       143\n",
      "8       134\n",
      "85      121\n",
      "86      111\n",
      "87      105\n",
      "89       86\n",
      "88       78\n",
      "90       70\n",
      "91       69\n",
      "92       54\n",
      "95       28\n",
      "93       25\n",
      "96       25\n",
      "94       24\n",
      "98       12\n",
      "97       10\n",
      "99       10\n",
      "120       3\n",
      "106       2\n",
      "105       2\n",
      "104       2\n",
      "102       2\n",
      "101       2\n",
      "100       2\n",
      "109       1\n",
      "112       1\n",
      "114       1\n",
      "118       1\n",
      "119       1\n",
      "130       1\n"
     ]
    }
   ],
   "source": [
    "#Valores de idades únicas\n",
    "ages = int_age.sort_values().unique()\n",
    "\n",
    "#Agrupamento e contagem de quantitativo por idade\n",
    "age_group_count = filtered_df.groupby(\"_idade\")['_dt_notificacao'].count()\n",
    "print(\"Quantidade de casos por idade\")\n",
    "print(age_group_count.sort_values(ascending=False).to_string())\n"
   ]
  },
  {
   "cell_type": "markdown",
   "metadata": {},
   "source": [
    "#### Plotting scatterplot"
   ]
  },
  {
   "cell_type": "code",
   "execution_count": 41,
   "metadata": {},
   "outputs": [
    {
     "data": {
      "image/png": "[encoded data removed]",
      "text/plain": [
       "<Figure size 432x288 with 1 Axes>"
      ]
     },
     "metadata": {
      "needs_background": "light"
     },
     "output_type": "display_data"
    }
   ],
   "source": [
    "plt.scatter(ages, age_group_count)\n",
    "plt.xticks(np.arange(0,ages[-1]+1,10))\n",
    "plt.title(\"Quantidade de casos por idade\")\n",
    "plt.show()"
   ]
  },
  {
   "cell_type": "markdown",
   "metadata": {},
   "source": [
    "Foi observada que a faixa etária de 30 a 50 anos contém mais casos"
   ]
  },
  {
   "cell_type": "markdown",
   "metadata": {},
   "source": [
    "### 2.3 - Tipos de Tarefas"
   ]
  },
  {
   "cell_type": "markdown",
   "metadata": {},
   "source": [
    "#### 1- Uma tarefa de classificação mediante Aprendizado Supervisionado que poderia ser feita com esta base de dados. Qual seria o atributo-alvo? Quais métricas de desempenho poderiam ser aplicadas? Que tipo de validação seria apropriado?"
   ]
  },
  {
   "cell_type": "markdown",
   "metadata": {},
   "source": [
    "A tarefa seria predizer se o paciente irá ter uma evolução positiva **(recuperação)** ou irá vir a **óbito** a partir dos dados. "
   ]
  },
  {
   "cell_type": "markdown",
   "metadata": {},
   "source": [
    "Os atributos preditores seriam: \n",
    ">_comorb_cardio, _comorb_cromossomica, _comorb_diabetes, _comorb_hemato, _comorb_hepatica, _comorb_imuno, _comorb_neurologica, _comorb_obesidade, _comorb_renal, _comorb_respiratória, _idade, _gestante , _raca, _bairro, _sexo, _sintoma_dispneia, _sintoma_febre, _sintoma_garganta, _sintoma_tosse, _sintoma_outros, _bairro, _distrito"
   ]
  },
  {
   "cell_type": "markdown",
   "metadata": {},
   "source": [
    "o atributo alvo seria:\n",
    ">_conclusao"
   ]
  },
  {
   "cell_type": "markdown",
   "metadata": {},
   "source": [
    " \n",
    "Com relação as métricas de validação poderiam ser utilizadas: \n",
    "> Acurácia, Precisão, Revocação, F1 score.\n"
   ]
  },
  {
   "cell_type": "markdown",
   "metadata": {},
   "source": [
    "Por lidar com questões relacionadas a vida do paciente e medidas visando preservá-la seria interessante utilizar um método de validação mais robusto como a Validação Kfold."
   ]
  },
  {
   "cell_type": "markdown",
   "metadata": {},
   "source": [
    "#### 2 -  Uma tarefa de regressão mediante Aprendizado Supervisionado que poderia ser feita com esta base de dados. Qual seria o atributo-alvo? Quais tributos preditores a equipe considera relevantes para o cenário?"
   ]
  },
  {
   "cell_type": "markdown",
   "metadata": {},
   "source": [
    "Predizer a taxa de recuperação do paciente a partir dos dados apresentados"
   ]
  },
  {
   "cell_type": "markdown",
   "metadata": {},
   "source": [
    "O atributo alvo seria: \n",
    ">taxa"
   ]
  },
  {
   "cell_type": "markdown",
   "metadata": {},
   "source": [
    "Os atributos preditores relevantes para o cenário seriam: \n",
    ">_comorb_cardio, _comorb_cromossomica, _comorb_diabetes, _comorb_hemato, _comorb_hepatica, _comorb_imuno, _comorb_neurologica, _comorb_obesidade, _comorb_renal, _comorb_respiratória, _idade, _gestante , _raca, _bairro, _sexo, _sintoma_dispneia, _sintoma_febre, _sintoma_garganta, _sintoma_tosse, _sintoma_outros, _bairro, _distrito"
   ]
  },
  {
   "cell_type": "markdown",
   "metadata": {},
   "source": [
    "E a métrica de desempenho utilizada seria o MSE (Mean Squared Error)"
   ]
  }
 ],
 "metadata": {
  "kernelspec": {
   "display_name": "Python 3",
   "language": "python",
   "name": "python3"
  },
  "language_info": {
   "codemirror_mode": {
    "name": "ipython",
    "version": 3
   },
   "file_extension": ".py",
   "mimetype": "text/x-python",
   "name": "python",
   "nbconvert_exporter": "python",
   "pygments_lexer": "ipython3",
   "version": "3.8.8"
  }
 },
 "nbformat": 4,
 "nbformat_minor": 2
}