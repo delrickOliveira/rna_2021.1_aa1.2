{
 "metadata": {
  "language_info": {
   "codemirror_mode": {
    "name": "ipython",
    "version": 3
   },
   "file_extension": ".py",
   "mimetype": "text/x-python",
   "name": "python",
   "nbconvert_exporter": "python",
   "pygments_lexer": "ipython3",
   "version": "3.7.6"
  },
  "orig_nbformat": 2,
  "kernelspec": {
   "name": "python37664bitanaconda3virtualenvc4f10d036b4248298dfa9162fbf8c7a8",
   "display_name": "Python 3.7.6 64-bit ('anaconda3': virtualenv)",
   "language": "python"
  }
 },
 "nbformat": 4,
 "nbformat_minor": 2,
 "cells": [
  {
   "cell_type": "code",
   "execution_count": 97,
   "metadata": {},
   "outputs": [],
   "source": [
    "import pandas as pd\n",
    "import numpy as np"
   ]
  },
  {
   "cell_type": "code",
   "execution_count": 98,
   "metadata": {},
   "outputs": [],
   "source": [
    "df = pd.read_csv(\"Manaus.csv\", sep = \";\", low_memory = False)\n",
    "#Filtrando apenas os casos confirmados.\n",
    "filtro  = df['_classificacao'] == \"Confirmado\"\n",
    "confirmados = df[filtro]\n",
    "df = confirmados "
   ]
  },
  {
   "source": [
    "#Filtrando apenas os casos confirmados."
   ],
   "cell_type": "markdown",
   "metadata": {}
  },
  {
   "cell_type": "code",
   "execution_count": 99,
   "metadata": {},
   "outputs": [
    {
     "output_type": "execute_result",
     "data": {
      "text/plain": [
       "            _dt_evolucao   _dt_notificacao      _dt_sintomas _classificacao  \\\n",
       "130     02/03/2020 00:00  23/02/2020 00:00  15/02/2020 00:00     Confirmado   \n",
       "144     01/03/2020 00:00  28/02/2020 00:00  26/02/2020 00:00     Confirmado   \n",
       "153     05/04/2020 00:00  02/03/2020 00:00  23/02/2020 00:00     Confirmado   \n",
       "158     14/03/2020 00:00  02/03/2020 00:00  29/02/2020 00:00     Confirmado   \n",
       "196     14/03/2020 00:00  11/03/2020 00:00  09/03/2020 00:00     Confirmado   \n",
       "...                  ...               ...               ...            ...   \n",
       "243970               NaN  31/03/2020 00:00  28/03/2020 00:00     Confirmado   \n",
       "243973               NaN  07/04/2020 00:00  30/03/2020 00:00     Confirmado   \n",
       "243977               NaN  15/04/2020 00:00  07/04/2020 00:00     Confirmado   \n",
       "243979               NaN  20/04/2020 00:00  01/04/2020 00:00     Confirmado   \n",
       "243982               NaN  22/04/2020 00:00  13/04/2020 00:00     Confirmado   \n",
       "\n",
       "        _conclusao           _origem _comorb_cardio _comorb_cromossomica  \\\n",
       "130     Recuperado        SIVEP, GAL            NaN                  NaN   \n",
       "144     Recuperado        SIVEP, GAL            NaN                  NaN   \n",
       "153     Recuperado  SIVEP, eSUS VE,             NaN                  NaN   \n",
       "158     Recuperado  SIVEP, eSUS VE,             Sim                  NaN   \n",
       "196     Recuperado        SIVEP, GAL            NaN                  NaN   \n",
       "...            ...               ...            ...                  ...   \n",
       "243970         NaN               GAL            NaN                  NaN   \n",
       "243973         NaN               GAL            NaN                  NaN   \n",
       "243977         NaN               GAL            NaN                  NaN   \n",
       "243979         NaN               GAL            NaN                  NaN   \n",
       "243982         NaN               GAL            NaN                  NaN   \n",
       "\n",
       "       _comorb_diabetes _comorb_hemato  ... _sintoma_tosse _sintoma_outros  \\\n",
       "130                 NaN            NaN  ...            Sim             Sim   \n",
       "144                 NaN            NaN  ...            Sim             Sim   \n",
       "153                 NaN            NaN  ...            Sim             Sim   \n",
       "158                 NaN            NaN  ...            Sim             Sim   \n",
       "196                 NaN            NaN  ...            Sim             Sim   \n",
       "...                 ...            ...  ...            ...             ...   \n",
       "243970              NaN            NaN  ...            NaN             NaN   \n",
       "243973              NaN            NaN  ...            NaN             NaN   \n",
       "243977              NaN            NaN  ...            NaN             NaN   \n",
       "243979              NaN            NaN  ...            NaN             NaN   \n",
       "243982              NaN            NaN  ...            NaN             NaN   \n",
       "\n",
       "                               _srag _teste_anticorpo _teste_antigeno  \\\n",
       "130            SRAG não especificado              NaN             NaN   \n",
       "144     Vírus Sincicial Respiratório              NaN             NaN   \n",
       "153            SRAG não especificado              1.0             NaN   \n",
       "158            SRAG não especificado              2.0             NaN   \n",
       "196            SRAG não especificado              NaN             NaN   \n",
       "...                              ...              ...             ...   \n",
       "243970                           NaN              NaN             NaN   \n",
       "243973                           NaN              NaN             NaN   \n",
       "243977                           NaN              NaN             NaN   \n",
       "243979                           NaN              NaN             NaN   \n",
       "243982                           NaN              NaN             NaN   \n",
       "\n",
       "       _teste_pcr              _bairro         _bairro_mapa _distrito  \\\n",
       "130           1.0            MAUAZINHO            MAUAZINHO     LESTE   \n",
       "144           1.0          NOVO ALEIXO          NOVO ALEIXO     NORTE   \n",
       "153           NaN  PRACA 14 DE JANEIRO  PRAÇA 14 DE JANEIRO       SUL   \n",
       "158           NaN               FLORES               FLORES       SUL   \n",
       "196           2.0          CIDADE NOVA          CIDADE NOVA     NORTE   \n",
       "...           ...                  ...                  ...       ...   \n",
       "243970        1.0                  NaN                  NaN       NaN   \n",
       "243973        1.0          NOVO ISRAEL          NOVO ISRAEL     NORTE   \n",
       "243977        1.0       Nova Esperança       NOVA ESPERANÇA     OESTE   \n",
       "243979        1.0         Adrianópolis         ADRIANÓPOLIS       SUL   \n",
       "243982        1.0               FLORES               FLORES       SUL   \n",
       "\n",
       "              _taxa  \n",
       "130      0,35040998  \n",
       "144     0,085452557  \n",
       "153     0,861920359  \n",
       "158     0,198306463  \n",
       "196     0,068152389  \n",
       "...             ...  \n",
       "243970          NaN  \n",
       "243973  0,490725292  \n",
       "243977  0,466526709  \n",
       "243979   0,99960016  \n",
       "243982  0,198306463  \n",
       "\n",
       "[80420 rows x 39 columns]"
      ],
      "text/html": "<div>\n<style scoped>\n    .dataframe tbody tr th:only-of-type {\n        vertical-align: middle;\n    }\n\n    .dataframe tbody tr th {\n        vertical-align: top;\n    }\n\n    .dataframe thead th {\n        text-align: right;\n    }\n</style>\n<table border=\"1\" class=\"dataframe\">\n  <thead>\n    <tr style=\"text-align: right;\">\n      <th></th>\n      <th>_dt_evolucao</th>\n      <th>_dt_notificacao</th>\n      <th>_dt_sintomas</th>\n      <th>_classificacao</th>\n      <th>_conclusao</th>\n      <th>_origem</th>\n      <th>_comorb_cardio</th>\n      <th>_comorb_cromossomica</th>\n      <th>_comorb_diabetes</th>\n      <th>_comorb_hemato</th>\n      <th>...</th>\n      <th>_sintoma_tosse</th>\n      <th>_sintoma_outros</th>\n      <th>_srag</th>\n      <th>_teste_anticorpo</th>\n      <th>_teste_antigeno</th>\n      <th>_teste_pcr</th>\n      <th>_bairro</th>\n      <th>_bairro_mapa</th>\n      <th>_distrito</th>\n      <th>_taxa</th>\n    </tr>\n  </thead>\n  <tbody>\n    <tr>\n      <th>130</th>\n      <td>02/03/2020 00:00</td>\n      <td>23/02/2020 00:00</td>\n      <td>15/02/2020 00:00</td>\n      <td>Confirmado</td>\n      <td>Recuperado</td>\n      <td>SIVEP, GAL</td>\n      <td>NaN</td>\n      <td>NaN</td>\n      <td>NaN</td>\n      <td>NaN</td>\n      <td>...</td>\n      <td>Sim</td>\n      <td>Sim</td>\n      <td>SRAG não especificado</td>\n      <td>NaN</td>\n      <td>NaN</td>\n      <td>1.0</td>\n      <td>MAUAZINHO</td>\n      <td>MAUAZINHO</td>\n      <td>LESTE</td>\n      <td>0,35040998</td>\n    </tr>\n    <tr>\n      <th>144</th>\n      <td>01/03/2020 00:00</td>\n      <td>28/02/2020 00:00</td>\n      <td>26/02/2020 00:00</td>\n      <td>Confirmado</td>\n      <td>Recuperado</td>\n      <td>SIVEP, GAL</td>\n      <td>NaN</td>\n      <td>NaN</td>\n      <td>NaN</td>\n      <td>NaN</td>\n      <td>...</td>\n      <td>Sim</td>\n      <td>Sim</td>\n      <td>Vírus Sincicial Respiratório</td>\n      <td>NaN</td>\n      <td>NaN</td>\n      <td>1.0</td>\n      <td>NOVO ALEIXO</td>\n      <td>NOVO ALEIXO</td>\n      <td>NORTE</td>\n      <td>0,085452557</td>\n    </tr>\n    <tr>\n      <th>153</th>\n      <td>05/04/2020 00:00</td>\n      <td>02/03/2020 00:00</td>\n      <td>23/02/2020 00:00</td>\n      <td>Confirmado</td>\n      <td>Recuperado</td>\n      <td>SIVEP, eSUS VE,</td>\n      <td>NaN</td>\n      <td>NaN</td>\n      <td>NaN</td>\n      <td>NaN</td>\n      <td>...</td>\n      <td>Sim</td>\n      <td>Sim</td>\n      <td>SRAG não especificado</td>\n      <td>1.0</td>\n      <td>NaN</td>\n      <td>NaN</td>\n      <td>PRACA 14 DE JANEIRO</td>\n      <td>PRAÇA 14 DE JANEIRO</td>\n      <td>SUL</td>\n      <td>0,861920359</td>\n    </tr>\n    <tr>\n      <th>158</th>\n      <td>14/03/2020 00:00</td>\n      <td>02/03/2020 00:00</td>\n      <td>29/02/2020 00:00</td>\n      <td>Confirmado</td>\n      <td>Recuperado</td>\n      <td>SIVEP, eSUS VE,</td>\n      <td>Sim</td>\n      <td>NaN</td>\n      <td>NaN</td>\n      <td>NaN</td>\n      <td>...</td>\n      <td>Sim</td>\n      <td>Sim</td>\n      <td>SRAG não especificado</td>\n      <td>2.0</td>\n      <td>NaN</td>\n      <td>NaN</td>\n      <td>FLORES</td>\n      <td>FLORES</td>\n      <td>SUL</td>\n      <td>0,198306463</td>\n    </tr>\n    <tr>\n      <th>196</th>\n      <td>14/03/2020 00:00</td>\n      <td>11/03/2020 00:00</td>\n      <td>09/03/2020 00:00</td>\n      <td>Confirmado</td>\n      <td>Recuperado</td>\n      <td>SIVEP, GAL</td>\n      <td>NaN</td>\n      <td>NaN</td>\n      <td>NaN</td>\n      <td>NaN</td>\n      <td>...</td>\n      <td>Sim</td>\n      <td>Sim</td>\n      <td>SRAG não especificado</td>\n      <td>NaN</td>\n      <td>NaN</td>\n      <td>2.0</td>\n      <td>CIDADE NOVA</td>\n      <td>CIDADE NOVA</td>\n      <td>NORTE</td>\n      <td>0,068152389</td>\n    </tr>\n    <tr>\n      <th>...</th>\n      <td>...</td>\n      <td>...</td>\n      <td>...</td>\n      <td>...</td>\n      <td>...</td>\n      <td>...</td>\n      <td>...</td>\n      <td>...</td>\n      <td>...</td>\n      <td>...</td>\n      <td>...</td>\n      <td>...</td>\n      <td>...</td>\n      <td>...</td>\n      <td>...</td>\n      <td>...</td>\n      <td>...</td>\n      <td>...</td>\n      <td>...</td>\n      <td>...</td>\n      <td>...</td>\n    </tr>\n    <tr>\n      <th>243970</th>\n      <td>NaN</td>\n      <td>31/03/2020 00:00</td>\n      <td>28/03/2020 00:00</td>\n      <td>Confirmado</td>\n      <td>NaN</td>\n      <td>GAL</td>\n      <td>NaN</td>\n      <td>NaN</td>\n      <td>NaN</td>\n      <td>NaN</td>\n      <td>...</td>\n      <td>NaN</td>\n      <td>NaN</td>\n      <td>NaN</td>\n      <td>NaN</td>\n      <td>NaN</td>\n      <td>1.0</td>\n      <td>NaN</td>\n      <td>NaN</td>\n      <td>NaN</td>\n      <td>NaN</td>\n    </tr>\n    <tr>\n      <th>243973</th>\n      <td>NaN</td>\n      <td>07/04/2020 00:00</td>\n      <td>30/03/2020 00:00</td>\n      <td>Confirmado</td>\n      <td>NaN</td>\n      <td>GAL</td>\n      <td>NaN</td>\n      <td>NaN</td>\n      <td>NaN</td>\n      <td>NaN</td>\n      <td>...</td>\n      <td>NaN</td>\n      <td>NaN</td>\n      <td>NaN</td>\n      <td>NaN</td>\n      <td>NaN</td>\n      <td>1.0</td>\n      <td>NOVO ISRAEL</td>\n      <td>NOVO ISRAEL</td>\n      <td>NORTE</td>\n      <td>0,490725292</td>\n    </tr>\n    <tr>\n      <th>243977</th>\n      <td>NaN</td>\n      <td>15/04/2020 00:00</td>\n      <td>07/04/2020 00:00</td>\n      <td>Confirmado</td>\n      <td>NaN</td>\n      <td>GAL</td>\n      <td>NaN</td>\n      <td>NaN</td>\n      <td>NaN</td>\n      <td>NaN</td>\n      <td>...</td>\n      <td>NaN</td>\n      <td>NaN</td>\n      <td>NaN</td>\n      <td>NaN</td>\n      <td>NaN</td>\n      <td>1.0</td>\n      <td>Nova Esperança</td>\n      <td>NOVA ESPERANÇA</td>\n      <td>OESTE</td>\n      <td>0,466526709</td>\n    </tr>\n    <tr>\n      <th>243979</th>\n      <td>NaN</td>\n      <td>20/04/2020 00:00</td>\n      <td>01/04/2020 00:00</td>\n      <td>Confirmado</td>\n      <td>NaN</td>\n      <td>GAL</td>\n      <td>NaN</td>\n      <td>NaN</td>\n      <td>NaN</td>\n      <td>NaN</td>\n      <td>...</td>\n      <td>NaN</td>\n      <td>NaN</td>\n      <td>NaN</td>\n      <td>NaN</td>\n      <td>NaN</td>\n      <td>1.0</td>\n      <td>Adrianópolis</td>\n      <td>ADRIANÓPOLIS</td>\n      <td>SUL</td>\n      <td>0,99960016</td>\n    </tr>\n    <tr>\n      <th>243982</th>\n      <td>NaN</td>\n      <td>22/04/2020 00:00</td>\n      <td>13/04/2020 00:00</td>\n      <td>Confirmado</td>\n      <td>NaN</td>\n      <td>GAL</td>\n      <td>NaN</td>\n      <td>NaN</td>\n      <td>NaN</td>\n      <td>NaN</td>\n      <td>...</td>\n      <td>NaN</td>\n      <td>NaN</td>\n      <td>NaN</td>\n      <td>NaN</td>\n      <td>NaN</td>\n      <td>1.0</td>\n      <td>FLORES</td>\n      <td>FLORES</td>\n      <td>SUL</td>\n      <td>0,198306463</td>\n    </tr>\n  </tbody>\n</table>\n<p>80420 rows × 39 columns</p>\n</div>"
     },
     "metadata": {},
     "execution_count": 99
    }
   ],
   "source": [
    "df"
   ]
  },
  {
   "source": [
    "1. Quantos atributos descrevem cada exemplo? Quais são eles?"
   ],
   "cell_type": "markdown",
   "metadata": {}
  },
  {
   "cell_type": "code",
   "execution_count": 100,
   "metadata": {},
   "outputs": [
    {
     "output_type": "stream",
     "name": "stdout",
     "text": [
      "Cada exemplo possui 39 atributos ,são eles: \n_dt_evolucao\n_dt_notificacao\n_dt_sintomas\n_classificacao\n_conclusao\n_origem\n_comorb_cardio\n_comorb_cromossomica\n_comorb_diabetes\n_comorb_hemato\n_comorb_hepatica\n_comorb_imuno\n_comorb_neurologica\n_comorb_obessidade\n_comorb_renal\n_comorb_respiratoria\n_criterio\n_etnia\n_evolução\n_idade\n_faixa etária\n_gestante\n_profiss_saude\n_raca\n_se_notificacao\n_sexo\n_sintoma_dispneia\n_sintoma_febre\n_sintoma_garganta\n_sintoma_tosse\n_sintoma_outros\n_srag\n_teste_anticorpo\n_teste_antigeno\n_teste_pcr\n_bairro\n_bairro_mapa\n_distrito\n_taxa\n\n"
     ]
    }
   ],
   "source": [
    "qtd_atributos =    len(df.columns)\n",
    "atributos     =    list(df.columns)\n",
    "lst_atributos = \"\"\n",
    "for i in atributos:\n",
    "    lst_atributos += i + \"\\n\"\n",
    "\n",
    "print(\"Cada exemplo possui \"+str(qtd_atributos)+\" atributos ,são eles: \\n\"+lst_atributos )"
   ]
  },
  {
   "source": [
    "2. Quantos casos confirmados há em Manaus, cumulativamente?"
   ],
   "cell_type": "markdown",
   "metadata": {}
  },
  {
   "cell_type": "code",
   "execution_count": 101,
   "metadata": {},
   "outputs": [
    {
     "output_type": "stream",
     "name": "stdout",
     "text": [
      "Existem 80420 casos confirmados.\n"
     ]
    }
   ],
   "source": [
    "casos_confirmados = len(df)\n",
    "casos_confirmados\n",
    "print(\"Existem \"+str(casos_confirmados)+\" casos confirmados.\")"
   ]
  },
  {
   "source": [
    "3-  A qual período de tempo a base de dados se refere, isto é, qual o registro mais antigo e qual o\n",
    "mais recente? Leve em conta a data de notificação."
   ],
   "cell_type": "markdown",
   "metadata": {}
  },
  {
   "cell_type": "code",
   "execution_count": 102,
   "metadata": {},
   "outputs": [
    {
     "output_type": "stream",
     "name": "stdout",
     "text": [
      "A base de dados está compreendida entre as datas, 2020-01-04 00:00:00 e 2020-12-29 00:00:00\n"
     ]
    }
   ],
   "source": [
    "df['_dt_notificacao'] = pd.to_datetime(df['_dt_notificacao'])\n",
    "dt_antiga             = df['_dt_notificacao'].min()\n",
    "dt_recente            = df['_dt_notificacao'].max()\n",
    "print(\"A base de dados está compreendida entre as datas, \"+str(dt_antiga)+\" e \"+str(dt_recente))\n"
   ]
  },
  {
   "source": [
    "Para fins da análise considerada no escopo deste projeto, vamos excluir todos os atributos relativos\n",
    "às comorbidades, sintomas, etnia, profissão, outras datas que não a de notificação, origem e outros\n",
    "que não estiverem envolvidos no contexto do trabalho solicitado. Estes atributos serão considerados\n",
    "irrelevantes para fins de simplificação. Exclua todas as linhas em que houver dados faltantes para os\n",
    "atributos remanescentes."
   ],
   "cell_type": "markdown",
   "metadata": {}
  },
  {
   "cell_type": "code",
   "execution_count": 103,
   "metadata": {},
   "outputs": [],
   "source": [
    "df = df.drop(df.filter(regex='comorb|sintoma|etnia|profissão|dt_evolucao|dt_sintomas|origem|raca|gestante|srag|_profiss_saude|criterio|evolução|faixa_etaria|teste|taxa|faixa|se_notificacao').columns, axis=1).dropna()\n"
   ]
  },
  {
   "source": [
    "1. Quantos exemplos e atributos há na base de dados após a limpeza e organização?"
   ],
   "cell_type": "markdown",
   "metadata": {}
  },
  {
   "cell_type": "code",
   "execution_count": 104,
   "metadata": {},
   "outputs": [
    {
     "output_type": "stream",
     "name": "stdout",
     "text": [
      "Existem 41675 exemplos e , 8 atributos\n"
     ]
    }
   ],
   "source": [
    "exemplos  = len(df)\n",
    "atributos = len(df.columns)\n",
    "print(\"Existem \"+str(exemplos)+\" exemplos e , \"+str(atributos)+\" atributos\")"
   ]
  },
  {
   "cell_type": "code",
   "execution_count": 105,
   "metadata": {},
   "outputs": [
    {
     "output_type": "execute_result",
     "data": {
      "text/plain": [
       "       _dt_notificacao _classificacao  _conclusao  _idade _sexo  \\\n",
       "130         2020-02-23     Confirmado  Recuperado    12.0     F   \n",
       "144         2020-02-28     Confirmado  Recuperado    39.0     F   \n",
       "153         2020-02-03     Confirmado  Recuperado     2.0     F   \n",
       "158         2020-02-03     Confirmado  Recuperado    71.0     F   \n",
       "196         2020-11-03     Confirmado  Recuperado    46.0     F   \n",
       "...                ...            ...         ...     ...   ...   \n",
       "225148      2020-10-14     Confirmado  Recuperado    42.0     F   \n",
       "225149      2020-12-09     Confirmado  Recuperado    23.0     F   \n",
       "225153      2020-08-10     Confirmado  Recuperado    48.0     F   \n",
       "225159      2020-11-27     Confirmado  Recuperado    55.0     M   \n",
       "225161      2020-11-23     Confirmado  Recuperado    43.0     F   \n",
       "\n",
       "                    _bairro         _bairro_mapa _distrito  \n",
       "130               MAUAZINHO            MAUAZINHO     LESTE  \n",
       "144             NOVO ALEIXO          NOVO ALEIXO     NORTE  \n",
       "153     PRACA 14 DE JANEIRO  PRAÇA 14 DE JANEIRO       SUL  \n",
       "158                  FLORES               FLORES       SUL  \n",
       "196             CIDADE NOVA          CIDADE NOVA     NORTE  \n",
       "...                     ...                  ...       ...  \n",
       "225148         CAMPOS SALES               TARUMÃ     OESTE  \n",
       "225149               ALEIXO               ALEIXO       SUL  \n",
       "225153   MORRO DA LIBERDADE   MORRO DA LIBERDADE       SUL  \n",
       "225159               FLORES               FLORES       SUL  \n",
       "225161        SAO FRANCISCO        SÃO FRANCISCO       SUL  \n",
       "\n",
       "[41675 rows x 8 columns]"
      ],
      "text/html": "<div>\n<style scoped>\n    .dataframe tbody tr th:only-of-type {\n        vertical-align: middle;\n    }\n\n    .dataframe tbody tr th {\n        vertical-align: top;\n    }\n\n    .dataframe thead th {\n        text-align: right;\n    }\n</style>\n<table border=\"1\" class=\"dataframe\">\n  <thead>\n    <tr style=\"text-align: right;\">\n      <th></th>\n      <th>_dt_notificacao</th>\n      <th>_classificacao</th>\n      <th>_conclusao</th>\n      <th>_idade</th>\n      <th>_sexo</th>\n      <th>_bairro</th>\n      <th>_bairro_mapa</th>\n      <th>_distrito</th>\n    </tr>\n  </thead>\n  <tbody>\n    <tr>\n      <th>130</th>\n      <td>2020-02-23</td>\n      <td>Confirmado</td>\n      <td>Recuperado</td>\n      <td>12.0</td>\n      <td>F</td>\n      <td>MAUAZINHO</td>\n      <td>MAUAZINHO</td>\n      <td>LESTE</td>\n    </tr>\n    <tr>\n      <th>144</th>\n      <td>2020-02-28</td>\n      <td>Confirmado</td>\n      <td>Recuperado</td>\n      <td>39.0</td>\n      <td>F</td>\n      <td>NOVO ALEIXO</td>\n      <td>NOVO ALEIXO</td>\n      <td>NORTE</td>\n    </tr>\n    <tr>\n      <th>153</th>\n      <td>2020-02-03</td>\n      <td>Confirmado</td>\n      <td>Recuperado</td>\n      <td>2.0</td>\n      <td>F</td>\n      <td>PRACA 14 DE JANEIRO</td>\n      <td>PRAÇA 14 DE JANEIRO</td>\n      <td>SUL</td>\n    </tr>\n    <tr>\n      <th>158</th>\n      <td>2020-02-03</td>\n      <td>Confirmado</td>\n      <td>Recuperado</td>\n      <td>71.0</td>\n      <td>F</td>\n      <td>FLORES</td>\n      <td>FLORES</td>\n      <td>SUL</td>\n    </tr>\n    <tr>\n      <th>196</th>\n      <td>2020-11-03</td>\n      <td>Confirmado</td>\n      <td>Recuperado</td>\n      <td>46.0</td>\n      <td>F</td>\n      <td>CIDADE NOVA</td>\n      <td>CIDADE NOVA</td>\n      <td>NORTE</td>\n    </tr>\n    <tr>\n      <th>...</th>\n      <td>...</td>\n      <td>...</td>\n      <td>...</td>\n      <td>...</td>\n      <td>...</td>\n      <td>...</td>\n      <td>...</td>\n      <td>...</td>\n    </tr>\n    <tr>\n      <th>225148</th>\n      <td>2020-10-14</td>\n      <td>Confirmado</td>\n      <td>Recuperado</td>\n      <td>42.0</td>\n      <td>F</td>\n      <td>CAMPOS SALES</td>\n      <td>TARUMÃ</td>\n      <td>OESTE</td>\n    </tr>\n    <tr>\n      <th>225149</th>\n      <td>2020-12-09</td>\n      <td>Confirmado</td>\n      <td>Recuperado</td>\n      <td>23.0</td>\n      <td>F</td>\n      <td>ALEIXO</td>\n      <td>ALEIXO</td>\n      <td>SUL</td>\n    </tr>\n    <tr>\n      <th>225153</th>\n      <td>2020-08-10</td>\n      <td>Confirmado</td>\n      <td>Recuperado</td>\n      <td>48.0</td>\n      <td>F</td>\n      <td>MORRO DA LIBERDADE</td>\n      <td>MORRO DA LIBERDADE</td>\n      <td>SUL</td>\n    </tr>\n    <tr>\n      <th>225159</th>\n      <td>2020-11-27</td>\n      <td>Confirmado</td>\n      <td>Recuperado</td>\n      <td>55.0</td>\n      <td>M</td>\n      <td>FLORES</td>\n      <td>FLORES</td>\n      <td>SUL</td>\n    </tr>\n    <tr>\n      <th>225161</th>\n      <td>2020-11-23</td>\n      <td>Confirmado</td>\n      <td>Recuperado</td>\n      <td>43.0</td>\n      <td>F</td>\n      <td>SAO FRANCISCO</td>\n      <td>SÃO FRANCISCO</td>\n      <td>SUL</td>\n    </tr>\n  </tbody>\n</table>\n<p>41675 rows × 8 columns</p>\n</div>"
     },
     "metadata": {},
     "execution_count": 105
    }
   ],
   "source": [
    "df"
   ]
  },
  {
   "cell_type": "code",
   "execution_count": 106,
   "metadata": {},
   "outputs": [
    {
     "output_type": "stream",
     "name": "stdout",
     "text": [
      "Total de recuperados em porcentagem 91.89202159568086%\n"
     ]
    }
   ],
   "source": [
    "recuperados  = (df._conclusao == 'Recuperado').sum()\n",
    "total        = len(df)\n",
    "porc         = recuperados / total*100\n",
    "print(\"Total de recuperados em porcentagem \"+str(porc)+\"%\")"
   ]
  },
  {
   "source": [
    "3. Os casos acometeram mais indivíduos do sexo masculino ou feminino?\n",
    "\n",
    "R = Indivíduos do sexo feminino."
   ],
   "cell_type": "markdown",
   "metadata": {}
  },
  {
   "cell_type": "code",
   "execution_count": 107,
   "metadata": {},
   "outputs": [
    {
     "output_type": "execute_result",
     "data": {
      "text/plain": [
       "F    22357\n",
       "M    19318\n",
       "Name: _sexo, dtype: int64"
      ]
     },
     "metadata": {},
     "execution_count": 107
    }
   ],
   "source": [
    "df['_sexo'].value_counts()"
   ]
  },
  {
   "source": [
    "4. Qual a média e desvio padrão de idade dos indivíduos que contraíram COVID-19? Qual o\n",
    "indivíduo mais jovem e o mais idoso a contraírem tal enfermidade?"
   ],
   "cell_type": "markdown",
   "metadata": {}
  },
  {
   "cell_type": "code",
   "execution_count": 108,
   "metadata": {},
   "outputs": [
    {
     "output_type": "stream",
     "name": "stdout",
     "text": [
      "A média de idade: 43.47652069586083\nDesvio padrão: 17.376150335788605\nO indivíduo mais jovem: 0.0\nO indivíduo mais idoso: 120.0\n"
     ]
    }
   ],
   "source": [
    "media_idade         = np.mean(df['_idade'])\n",
    "desvio_padrão       = np.std(df['_idade'])\n",
    "jovem                = np.min(df['_idade'])\n",
    "idoso               = np.max(df['_idade'])\n",
    "print( \"A média de idade: \"+str(media_idade)+\n",
    "       \"\\nDesvio padrão: \"+str(desvio_padrão)+\n",
    "       \"\\nO indivíduo mais jovem: \"+str(jovem)+\n",
    "       \"\\nO indivíduo mais idoso: \"+str(idoso)\n",
    "\n",
    "      )"
   ]
  },
  {
   "source": [
    "5. Qual o bairro com maior incidência de casos?"
   ],
   "cell_type": "markdown",
   "metadata": {}
  },
  {
   "cell_type": "code",
   "execution_count": 109,
   "metadata": {},
   "outputs": [
    {
     "output_type": "stream",
     "name": "stdout",
     "text": [
      "bairro com maior incidencia: SAO JOSE OPERARIO\n"
     ]
    }
   ],
   "source": [
    "bairro_maior     = df['_bairro'].value_counts().index[0]\n",
    "qtd_bairro_maior = df['_bairro'].value_counts()[0]\n",
    "print(\"bairro com maior incidencia: \"+str(bairro_maior))"
   ]
  },
  {
   "cell_type": "code",
   "execution_count": 110,
   "metadata": {},
   "outputs": [
    {
     "output_type": "stream",
     "name": "stdout",
     "text": [
      "3 bairros com maior incidencias: ['SAO JOSE OPERARIO', 'JORGE TEIXEIRA', 'CIDADE NOVA']\n"
     ]
    }
   ],
   "source": [
    "incidencias = list(df['_bairro'].value_counts().index[:3])\n",
    "print(\"3 bairros com maior incidencias: \"+str(incidencias))"
   ]
  },
  {
   "source": [
    "7. Quais os tipos de testes efetuados, segundo os dados? Indique os dados de maneira quantitativa\n",
    "e percentual.\n",
    "\n"
   ],
   "cell_type": "markdown",
   "metadata": {}
  },
  {
   "cell_type": "code",
   "execution_count": 111,
   "metadata": {},
   "outputs": [],
   "source": [
    "tipos_testest = list(df.columns.str.extract(r'(^_teste.*$)', expand=False).dropna())\n",
    "qtd_teste_anticoropo = df['_teste_anticorpo'].sum()\n",
    "qtd_teste_antigeno   = df['_teste_antigeno'].sum()\n",
    "qtd_teste_pcr   = df['_teste_pcr'].sum()\n",
    "total_teste = qtd_teste_anticoropo+qtd_teste_antigeno+qtd_teste_pcr\n",
    "\n",
    "print(\"Os tipos de testes efetuados são: \", tipos_testest)\n",
    "print(\"Teste Anticorpo: \"+str(qtd_teste_anticoropo)+\" testes realizados, correspondendo a \"+str((qtd_teste_anticoropo/total_teste)*100)+\" % do total\")\n",
    "print(\"Teste Antigeno: \"+str(qtd_teste_antigeno)+\" testes realizados, correspondendo a \"+str((qtd_teste_antigeno/total_teste)*100)+\" % do total\")\n",
    "print(\"Teste PCR: \"+str(qtd_teste_pcr)+\" testes realizados, correspondendo a \"+str((qtd_teste_pcr/total_teste)*100)+\" % do total\")\n"
   ]
  },
  {
   "source": [
    "8. Qual taxa de letalidade pode ser calculada a partir do conjunto de dados? Para calcular esta\n",
    "taxa, considere a fração do total de óbitos pelo total de casos;"
   ],
   "cell_type": "markdown",
   "metadata": {}
  },
  {
   "cell_type": "code",
   "execution_count": 133,
   "metadata": {},
   "outputs": [
    {
     "output_type": "stream",
     "name": "stdout",
     "text": [
      "Taxa de Letalidade: 4.160656553096245%\n"
     ]
    }
   ],
   "source": [
    "df = pd.read_csv(\"Manaus.csv\", sep = \";\", low_memory = False)\n",
    "#Filtrando apenas os casos confirmados.\n",
    "filtro  = df['_classificacao'] == \"Confirmado\"\n",
    "confirmados = df[filtro]\n",
    "df = confirmados \n",
    "\n",
    "taxa_letalidade = ( len(df[df['_conclusao']=='Óbito'])/len(df) )*100\n",
    "print(\"Taxa de Letalidade: \"+str(taxa_letalidade)+str(\"%\"))"
   ]
  },
  {
   "source": [
    "9 - Qual o tipo de correlação, mediante coeficiente de correlação de Pearson, entre a idade e o\n",
    "número de casos? Para responder a esta pergunte, agrupe o número de casos por idade e efetue\n",
    "o cálculo de tal coeficiente. Indique, a partir do resultado, a natureza desta correlação, se é\n",
    "positiva ou negativa, e qual sua intensidade."
   ],
   "cell_type": "markdown",
   "metadata": {}
  },
  {
   "cell_type": "code",
   "execution_count": 183,
   "metadata": {},
   "outputs": [
    {
     "output_type": "stream",
     "name": "stdout",
     "text": [
      "A correlação -0.3959859763213943 nos mostra que que a idade e o número de casos não possuem uma relação linear forte.\n"
     ]
    }
   ],
   "source": [
    "dados_agrupados = df.groupby(by='_idade').size()\n",
    "dados_agrupados = dados_agrupados.reset_index(name=\"correlacao\")\n",
    "correlacao = dados_agrupados.corr()\n",
    "\n",
    "print( \"A correlação \"+str(correlacao._idade.loc['correlacao'])+\" nos mostra que que a idade e o número de casos não possuem uma relação linear forte.\")\n"
   ]
  }
 ]
}