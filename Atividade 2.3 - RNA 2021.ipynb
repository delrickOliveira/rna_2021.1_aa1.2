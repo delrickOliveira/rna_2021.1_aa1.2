{
 "cells": [
  {
   "cell_type": "markdown",
   "id": "24732523",
   "metadata": {},
   "source": [
    "# Atividade 2.3\n"
   ]
  },
  {
   "cell_type": "markdown",
   "id": "e2e0e4a1",
   "metadata": {},
   "source": [
    "### Importanto bibliotecas e acessando a Base de Dados"
   ]
  },
  {
   "cell_type": "markdown",
   "id": "5fa47f91",
   "metadata": {},
   "source": [
    "! Base de Dados do dia: 11/10/2021"
   ]
  },
  {
   "cell_type": "code",
   "execution_count": 2,
   "id": "2018a6d8",
   "metadata": {},
   "outputs": [
    {
     "name": "stderr",
     "output_type": "stream",
     "text": [
      "c:\\programdata\\miniconda3\\lib\\site-packages\\IPython\\core\\interactiveshell.py:3441: DtypeWarning: Columns (0,6,7,8,9,10,11,12,13,14,15,16,17,18,19,22,23,24,26,27,28,29,30,31,32,33,34) have mixed types.Specify dtype option on import or set low_memory=False.\n",
      "  exec(code_obj, self.user_global_ns, self.user_ns)\n"
     ]
    }
   ],
   "source": [
    "\n",
    "\n",
    "import pandas as pd\n",
    "import numpy as np\n",
    "import matplotlib.pyplot as plt\n",
    "\n",
    "\n",
    "### Abrindo o DataSet\n",
    "#### Modificações Iniciais da Base\n",
    "\n",
    "data = pd.read_csv('Manaus.csv',sep=';', header=None, skiprows=0)"
   ]
  },
  {
   "cell_type": "code",
   "execution_count": 3,
   "id": "a3d729ae",
   "metadata": {},
   "outputs": [],
   "source": [
    "data.columns = data.iloc[0]"
   ]
  },
  {
   "cell_type": "code",
   "execution_count": null,
   "id": "b84e01f0",
   "metadata": {},
   "outputs": [],
   "source": []
  },
  {
   "cell_type": "code",
   "execution_count": 4,
   "id": "e4ead6a8",
   "metadata": {},
   "outputs": [],
   "source": [
    "data = data.drop(0)"
   ]
  },
  {
   "cell_type": "code",
   "execution_count": 5,
   "id": "87b69900",
   "metadata": {},
   "outputs": [
    {
     "data": {
      "text/html": [
       "<div>\n",
       "<style scoped>\n",
       "    .dataframe tbody tr th:only-of-type {\n",
       "        vertical-align: middle;\n",
       "    }\n",
       "\n",
       "    .dataframe tbody tr th {\n",
       "        vertical-align: top;\n",
       "    }\n",
       "\n",
       "    .dataframe thead th {\n",
       "        text-align: right;\n",
       "    }\n",
       "</style>\n",
       "<table border=\"1\" class=\"dataframe\">\n",
       "  <thead>\n",
       "    <tr style=\"text-align: right;\">\n",
       "      <th></th>\n",
       "      <th>_dt_evolucao</th>\n",
       "      <th>_dt_notificacao</th>\n",
       "      <th>_dt_sintomas</th>\n",
       "      <th>_classificacao</th>\n",
       "      <th>_conclusao</th>\n",
       "      <th>_origem</th>\n",
       "      <th>_comorb_cardio</th>\n",
       "      <th>_comorb_cromossomica</th>\n",
       "      <th>_comorb_diabetes</th>\n",
       "      <th>_comorb_hemato</th>\n",
       "      <th>...</th>\n",
       "      <th>_sintoma_tosse</th>\n",
       "      <th>_sintoma_outros</th>\n",
       "      <th>_srag</th>\n",
       "      <th>_teste_anticorpo</th>\n",
       "      <th>_teste_antigeno</th>\n",
       "      <th>_teste_pcr</th>\n",
       "      <th>_bairro</th>\n",
       "      <th>_bairro_mapa</th>\n",
       "      <th>_distrito</th>\n",
       "      <th>_taxa</th>\n",
       "    </tr>\n",
       "  </thead>\n",
       "  <tbody>\n",
       "    <tr>\n",
       "      <th>1</th>\n",
       "      <td>25/01/2020 00:00</td>\n",
       "      <td>03/01/2020 00:00</td>\n",
       "      <td>01/01/2020 00:00</td>\n",
       "      <td>Descartado</td>\n",
       "      <td>Recuperado</td>\n",
       "      <td>SIVEP,</td>\n",
       "      <td>NaN</td>\n",
       "      <td>NaN</td>\n",
       "      <td>NaN</td>\n",
       "      <td>NaN</td>\n",
       "      <td>...</td>\n",
       "      <td>Sim</td>\n",
       "      <td>Sim</td>\n",
       "      <td>SRAG não especificado</td>\n",
       "      <td>NaN</td>\n",
       "      <td>NaN</td>\n",
       "      <td>NaN</td>\n",
       "      <td>TARUMA</td>\n",
       "      <td>TARUMÃ</td>\n",
       "      <td>OESTE</td>\n",
       "      <td>0,243042897</td>\n",
       "    </tr>\n",
       "    <tr>\n",
       "      <th>2</th>\n",
       "      <td>03/01/2020 00:00</td>\n",
       "      <td>03/01/2020 00:00</td>\n",
       "      <td>01/01/2020 00:00</td>\n",
       "      <td>Descartado</td>\n",
       "      <td>Óbito</td>\n",
       "      <td>SIVEP,</td>\n",
       "      <td>NaN</td>\n",
       "      <td>NaN</td>\n",
       "      <td>NaN</td>\n",
       "      <td>NaN</td>\n",
       "      <td>...</td>\n",
       "      <td>Sim</td>\n",
       "      <td>Sim</td>\n",
       "      <td>Influenza B</td>\n",
       "      <td>NaN</td>\n",
       "      <td>NaN</td>\n",
       "      <td>NaN</td>\n",
       "      <td>TARUMA-ACU</td>\n",
       "      <td>TARUMÃ-AÇÚ</td>\n",
       "      <td>OESTE</td>\n",
       "      <td>0,684931507</td>\n",
       "    </tr>\n",
       "    <tr>\n",
       "      <th>3</th>\n",
       "      <td>05/01/2020 00:00</td>\n",
       "      <td>03/01/2020 00:00</td>\n",
       "      <td>03/01/2020 00:00</td>\n",
       "      <td>Descartado</td>\n",
       "      <td>Óbito</td>\n",
       "      <td>SIVEP,</td>\n",
       "      <td>NaN</td>\n",
       "      <td>NaN</td>\n",
       "      <td>NaN</td>\n",
       "      <td>NaN</td>\n",
       "      <td>...</td>\n",
       "      <td>Sim</td>\n",
       "      <td>Sim</td>\n",
       "      <td>SRAG não especificado</td>\n",
       "      <td>NaN</td>\n",
       "      <td>NaN</td>\n",
       "      <td>NaN</td>\n",
       "      <td>JORGE TEIXEIRA</td>\n",
       "      <td>JORGE TEIXEIRA</td>\n",
       "      <td>LESTE</td>\n",
       "      <td>0,073137374</td>\n",
       "    </tr>\n",
       "    <tr>\n",
       "      <th>4</th>\n",
       "      <td>16/01/2020 00:00</td>\n",
       "      <td>08/01/2020 00:00</td>\n",
       "      <td>04/01/2020 00:00</td>\n",
       "      <td>Descartado</td>\n",
       "      <td>Óbito</td>\n",
       "      <td>SIVEP,</td>\n",
       "      <td>NaN</td>\n",
       "      <td>NaN</td>\n",
       "      <td>NaN</td>\n",
       "      <td>NaN</td>\n",
       "      <td>...</td>\n",
       "      <td>Sim</td>\n",
       "      <td>Sim</td>\n",
       "      <td>SRAG não especificado</td>\n",
       "      <td>NaN</td>\n",
       "      <td>NaN</td>\n",
       "      <td>NaN</td>\n",
       "      <td>FLORES</td>\n",
       "      <td>FLORES</td>\n",
       "      <td>SUL</td>\n",
       "      <td>0,198306463</td>\n",
       "    </tr>\n",
       "    <tr>\n",
       "      <th>5</th>\n",
       "      <td>11/01/2020 00:00</td>\n",
       "      <td>08/01/2020 00:00</td>\n",
       "      <td>05/01/2020 00:00</td>\n",
       "      <td>Descartado</td>\n",
       "      <td>Recuperado</td>\n",
       "      <td>SIVEP,</td>\n",
       "      <td>NaN</td>\n",
       "      <td>NaN</td>\n",
       "      <td>NaN</td>\n",
       "      <td>NaN</td>\n",
       "      <td>...</td>\n",
       "      <td>Sim</td>\n",
       "      <td>Sim</td>\n",
       "      <td>SRAG não especificado</td>\n",
       "      <td>NaN</td>\n",
       "      <td>NaN</td>\n",
       "      <td>NaN</td>\n",
       "      <td>CIDADE DE DEUS</td>\n",
       "      <td>CIDADE DE DEUS</td>\n",
       "      <td>NORTE</td>\n",
       "      <td>0,117699678</td>\n",
       "    </tr>\n",
       "  </tbody>\n",
       "</table>\n",
       "<p>5 rows × 39 columns</p>\n",
       "</div>"
      ],
      "text/plain": [
       "0      _dt_evolucao   _dt_notificacao      _dt_sintomas _classificacao  \\\n",
       "1  25/01/2020 00:00  03/01/2020 00:00  01/01/2020 00:00     Descartado   \n",
       "2  03/01/2020 00:00  03/01/2020 00:00  01/01/2020 00:00     Descartado   \n",
       "3  05/01/2020 00:00  03/01/2020 00:00  03/01/2020 00:00     Descartado   \n",
       "4  16/01/2020 00:00  08/01/2020 00:00  04/01/2020 00:00     Descartado   \n",
       "5  11/01/2020 00:00  08/01/2020 00:00  05/01/2020 00:00     Descartado   \n",
       "\n",
       "0  _conclusao  _origem _comorb_cardio _comorb_cromossomica _comorb_diabetes  \\\n",
       "1  Recuperado  SIVEP,             NaN                  NaN              NaN   \n",
       "2       Óbito  SIVEP,             NaN                  NaN              NaN   \n",
       "3       Óbito  SIVEP,             NaN                  NaN              NaN   \n",
       "4       Óbito  SIVEP,             NaN                  NaN              NaN   \n",
       "5  Recuperado  SIVEP,             NaN                  NaN              NaN   \n",
       "\n",
       "0 _comorb_hemato  ... _sintoma_tosse _sintoma_outros                  _srag  \\\n",
       "1            NaN  ...            Sim             Sim  SRAG não especificado   \n",
       "2            NaN  ...            Sim             Sim            Influenza B   \n",
       "3            NaN  ...            Sim             Sim  SRAG não especificado   \n",
       "4            NaN  ...            Sim             Sim  SRAG não especificado   \n",
       "5            NaN  ...            Sim             Sim  SRAG não especificado   \n",
       "\n",
       "0 _teste_anticorpo _teste_antigeno _teste_pcr         _bairro    _bairro_mapa  \\\n",
       "1              NaN             NaN        NaN          TARUMA          TARUMÃ   \n",
       "2              NaN             NaN        NaN      TARUMA-ACU      TARUMÃ-AÇÚ   \n",
       "3              NaN             NaN        NaN  JORGE TEIXEIRA  JORGE TEIXEIRA   \n",
       "4              NaN             NaN        NaN          FLORES          FLORES   \n",
       "5              NaN             NaN        NaN  CIDADE DE DEUS  CIDADE DE DEUS   \n",
       "\n",
       "0 _distrito        _taxa  \n",
       "1     OESTE  0,243042897  \n",
       "2     OESTE  0,684931507  \n",
       "3     LESTE  0,073137374  \n",
       "4       SUL  0,198306463  \n",
       "5     NORTE  0,117699678  \n",
       "\n",
       "[5 rows x 39 columns]"
      ]
     },
     "execution_count": 5,
     "metadata": {},
     "output_type": "execute_result"
    }
   ],
   "source": [
    "data.head()"
   ]
  },
  {
   "cell_type": "code",
   "execution_count": 6,
   "id": "e4dee3ac",
   "metadata": {},
   "outputs": [
    {
     "name": "stdout",
     "output_type": "stream",
     "text": [
      "<class 'pandas.core.frame.DataFrame'>\n",
      "Int64Index: 243984 entries, 1 to 243984\n",
      "Data columns (total 39 columns):\n",
      " #   Column                Non-Null Count   Dtype \n",
      "---  ------                --------------   ----- \n",
      " 0   _dt_evolucao          119011 non-null  object\n",
      " 1   _dt_notificacao       243913 non-null  object\n",
      " 2   _dt_sintomas          235760 non-null  object\n",
      " 3   _classificacao        243984 non-null  object\n",
      " 4   _conclusao            180928 non-null  object\n",
      " 5   _origem               243984 non-null  object\n",
      " 6   _comorb_cardio        13686 non-null   object\n",
      " 7   _comorb_cromossomica  527 non-null     object\n",
      " 8   _comorb_diabetes      9981 non-null    object\n",
      " 9   _comorb_hemato        175 non-null     object\n",
      " 10  _comorb_hepatica      135 non-null     object\n",
      " 11  _comorb_imuno         1805 non-null    object\n",
      " 12  _comorb_neurologica   542 non-null     object\n",
      " 13  _comorb_obessidade    573 non-null     object\n",
      " 14  _comorb_renal         1098 non-null    object\n",
      " 15  _comorb_respiratoria  5722 non-null    object\n",
      " 16  _criterio             13084 non-null   object\n",
      " 17  _etnia                42 non-null      object\n",
      " 18  _evolução             21578 non-null   object\n",
      " 19  _idade                243913 non-null  object\n",
      " 20  _faixa etária         243913 non-null  object\n",
      " 21  _gestante             1775 non-null    object\n",
      " 22  _profiss_saude        16590 non-null   object\n",
      " 23  _raca                 213506 non-null  object\n",
      " 24  _se_notificacao       243913 non-null  object\n",
      " 25  _sexo                 243497 non-null  object\n",
      " 26  _sintoma_dispneia     59038 non-null   object\n",
      " 27  _sintoma_febre        107189 non-null  object\n",
      " 28  _sintoma_garganta     73809 non-null   object\n",
      " 29  _sintoma_tosse        112833 non-null  object\n",
      " 30  _sintoma_outros       97691 non-null   object\n",
      " 31  _srag                 14092 non-null   object\n",
      " 32  _teste_anticorpo      138919 non-null  object\n",
      " 33  _teste_antigeno       23196 non-null   object\n",
      " 34  _teste_pcr            58306 non-null   object\n",
      " 35  _bairro               240419 non-null  object\n",
      " 36  _bairro_mapa          230641 non-null  object\n",
      " 37  _distrito             230641 non-null  object\n",
      " 38  _taxa                 230641 non-null  object\n",
      "dtypes: object(39)\n",
      "memory usage: 74.5+ MB\n"
     ]
    }
   ],
   "source": [
    "data.info()"
   ]
  },
  {
   "cell_type": "markdown",
   "id": "ca1be728",
   "metadata": {},
   "source": [
    "#### Removendo Casos que não são confirmados"
   ]
  },
  {
   "cell_type": "code",
   "execution_count": 7,
   "id": "cf0dea07",
   "metadata": {},
   "outputs": [
    {
     "data": {
      "text/plain": [
       "Int64Index([     1,      2,      3,      4,      5,      6,      7,      8,\n",
       "                 9,     10,\n",
       "            ...\n",
       "            243970, 243972, 243973, 243975, 243976, 243977, 243979, 243981,\n",
       "            243982, 243984],\n",
       "           dtype='int64', length=163564)"
      ]
     },
     "execution_count": 7,
     "metadata": {},
     "output_type": "execute_result"
    }
   ],
   "source": [
    "x = data.loc[data['_classificacao']!='Confirmado']\n",
    "\n",
    "x.index"
   ]
  },
  {
   "cell_type": "code",
   "execution_count": 8,
   "id": "97bc0688",
   "metadata": {},
   "outputs": [],
   "source": [
    "data = data.drop(x.index)"
   ]
  },
  {
   "cell_type": "code",
   "execution_count": 9,
   "id": "e2d68355",
   "metadata": {},
   "outputs": [
    {
     "data": {
      "text/plain": [
       "Confirmado    80420\n",
       "Name: _classificacao, dtype: int64"
      ]
     },
     "execution_count": 9,
     "metadata": {},
     "output_type": "execute_result"
    }
   ],
   "source": [
    "data['_classificacao'].value_counts()"
   ]
  },
  {
   "cell_type": "code",
   "execution_count": null,
   "id": "9a91754b",
   "metadata": {},
   "outputs": [],
   "source": []
  },
  {
   "cell_type": "code",
   "execution_count": 10,
   "id": "d5ccae5c",
   "metadata": {},
   "outputs": [],
   "source": [
    "data = data.drop(columns=['_comorb_cardio','_comorb_cromossomica','_comorb_diabetes','_comorb_hemato','_comorb_hepatica','_comorb_imuno','_comorb_neurologica','_comorb_obessidade','_comorb_renal','_comorb_respiratoria',\n",
    "'_sintoma_dispneia','_sintoma_febre','_sintoma_garganta','_sintoma_tosse','_sintoma_outros','_etnia','_evolução','_profiss_saude','_dt_evolucao','_dt_sintomas','_gestante','_raca'])"
   ]
  },
  {
   "cell_type": "code",
   "execution_count": 11,
   "id": "3e6147c3",
   "metadata": {},
   "outputs": [
    {
     "data": {
      "text/html": [
       "<div>\n",
       "<style scoped>\n",
       "    .dataframe tbody tr th:only-of-type {\n",
       "        vertical-align: middle;\n",
       "    }\n",
       "\n",
       "    .dataframe tbody tr th {\n",
       "        vertical-align: top;\n",
       "    }\n",
       "\n",
       "    .dataframe thead th {\n",
       "        text-align: right;\n",
       "    }\n",
       "</style>\n",
       "<table border=\"1\" class=\"dataframe\">\n",
       "  <thead>\n",
       "    <tr style=\"text-align: right;\">\n",
       "      <th></th>\n",
       "      <th>_dt_notificacao</th>\n",
       "      <th>_classificacao</th>\n",
       "      <th>_conclusao</th>\n",
       "      <th>_origem</th>\n",
       "      <th>_criterio</th>\n",
       "      <th>_idade</th>\n",
       "      <th>_faixa etária</th>\n",
       "      <th>_se_notificacao</th>\n",
       "      <th>_sexo</th>\n",
       "      <th>_srag</th>\n",
       "      <th>_teste_anticorpo</th>\n",
       "      <th>_teste_antigeno</th>\n",
       "      <th>_teste_pcr</th>\n",
       "      <th>_bairro</th>\n",
       "      <th>_bairro_mapa</th>\n",
       "      <th>_distrito</th>\n",
       "      <th>_taxa</th>\n",
       "    </tr>\n",
       "  </thead>\n",
       "  <tbody>\n",
       "    <tr>\n",
       "      <th>131</th>\n",
       "      <td>23/02/2020 00:00</td>\n",
       "      <td>Confirmado</td>\n",
       "      <td>Recuperado</td>\n",
       "      <td>SIVEP, GAL</td>\n",
       "      <td>Laboratorial</td>\n",
       "      <td>12</td>\n",
       "      <td>10a - 14a</td>\n",
       "      <td>9</td>\n",
       "      <td>F</td>\n",
       "      <td>SRAG não especificado</td>\n",
       "      <td>NaN</td>\n",
       "      <td>NaN</td>\n",
       "      <td>1</td>\n",
       "      <td>MAUAZINHO</td>\n",
       "      <td>MAUAZINHO</td>\n",
       "      <td>LESTE</td>\n",
       "      <td>0,35040998</td>\n",
       "    </tr>\n",
       "    <tr>\n",
       "      <th>145</th>\n",
       "      <td>28/02/2020 00:00</td>\n",
       "      <td>Confirmado</td>\n",
       "      <td>Recuperado</td>\n",
       "      <td>SIVEP, GAL</td>\n",
       "      <td>Laboratorial</td>\n",
       "      <td>39</td>\n",
       "      <td>30a - 39a</td>\n",
       "      <td>9</td>\n",
       "      <td>F</td>\n",
       "      <td>Vírus Sincicial Respiratório</td>\n",
       "      <td>NaN</td>\n",
       "      <td>NaN</td>\n",
       "      <td>1</td>\n",
       "      <td>NOVO ALEIXO</td>\n",
       "      <td>NOVO ALEIXO</td>\n",
       "      <td>NORTE</td>\n",
       "      <td>0,085452557</td>\n",
       "    </tr>\n",
       "    <tr>\n",
       "      <th>154</th>\n",
       "      <td>02/03/2020 00:00</td>\n",
       "      <td>Confirmado</td>\n",
       "      <td>Recuperado</td>\n",
       "      <td>SIVEP, eSUS VE,</td>\n",
       "      <td>Laboratorial</td>\n",
       "      <td>2</td>\n",
       "      <td>1a - 4a</td>\n",
       "      <td>10</td>\n",
       "      <td>F</td>\n",
       "      <td>SRAG não especificado</td>\n",
       "      <td>1</td>\n",
       "      <td>NaN</td>\n",
       "      <td>NaN</td>\n",
       "      <td>PRACA 14 DE JANEIRO</td>\n",
       "      <td>PRAÇA 14 DE JANEIRO</td>\n",
       "      <td>SUL</td>\n",
       "      <td>0,861920359</td>\n",
       "    </tr>\n",
       "    <tr>\n",
       "      <th>159</th>\n",
       "      <td>02/03/2020 00:00</td>\n",
       "      <td>Confirmado</td>\n",
       "      <td>Recuperado</td>\n",
       "      <td>SIVEP, eSUS VE,</td>\n",
       "      <td>Laboratorial</td>\n",
       "      <td>71</td>\n",
       "      <td>70a - 79a</td>\n",
       "      <td>10</td>\n",
       "      <td>F</td>\n",
       "      <td>SRAG não especificado</td>\n",
       "      <td>2</td>\n",
       "      <td>NaN</td>\n",
       "      <td>NaN</td>\n",
       "      <td>FLORES</td>\n",
       "      <td>FLORES</td>\n",
       "      <td>SUL</td>\n",
       "      <td>0,198306463</td>\n",
       "    </tr>\n",
       "    <tr>\n",
       "      <th>197</th>\n",
       "      <td>11/03/2020 00:00</td>\n",
       "      <td>Confirmado</td>\n",
       "      <td>Recuperado</td>\n",
       "      <td>SIVEP, GAL</td>\n",
       "      <td>Clínico</td>\n",
       "      <td>46</td>\n",
       "      <td>40a - 49a</td>\n",
       "      <td>11</td>\n",
       "      <td>F</td>\n",
       "      <td>SRAG não especificado</td>\n",
       "      <td>NaN</td>\n",
       "      <td>NaN</td>\n",
       "      <td>2</td>\n",
       "      <td>CIDADE NOVA</td>\n",
       "      <td>CIDADE NOVA</td>\n",
       "      <td>NORTE</td>\n",
       "      <td>0,068152389</td>\n",
       "    </tr>\n",
       "  </tbody>\n",
       "</table>\n",
       "</div>"
      ],
      "text/plain": [
       "0     _dt_notificacao _classificacao  _conclusao           _origem  \\\n",
       "131  23/02/2020 00:00     Confirmado  Recuperado        SIVEP, GAL   \n",
       "145  28/02/2020 00:00     Confirmado  Recuperado        SIVEP, GAL   \n",
       "154  02/03/2020 00:00     Confirmado  Recuperado  SIVEP, eSUS VE,    \n",
       "159  02/03/2020 00:00     Confirmado  Recuperado  SIVEP, eSUS VE,    \n",
       "197  11/03/2020 00:00     Confirmado  Recuperado        SIVEP, GAL   \n",
       "\n",
       "0       _criterio _idade _faixa etária _se_notificacao _sexo  \\\n",
       "131  Laboratorial     12     10a - 14a               9     F   \n",
       "145  Laboratorial     39     30a - 39a               9     F   \n",
       "154  Laboratorial      2       1a - 4a              10     F   \n",
       "159  Laboratorial     71     70a - 79a              10     F   \n",
       "197       Clínico     46     40a - 49a              11     F   \n",
       "\n",
       "0                           _srag _teste_anticorpo _teste_antigeno _teste_pcr  \\\n",
       "131         SRAG não especificado              NaN             NaN          1   \n",
       "145  Vírus Sincicial Respiratório              NaN             NaN          1   \n",
       "154         SRAG não especificado                1             NaN        NaN   \n",
       "159         SRAG não especificado                2             NaN        NaN   \n",
       "197         SRAG não especificado              NaN             NaN          2   \n",
       "\n",
       "0                _bairro         _bairro_mapa _distrito        _taxa  \n",
       "131            MAUAZINHO            MAUAZINHO     LESTE   0,35040998  \n",
       "145          NOVO ALEIXO          NOVO ALEIXO     NORTE  0,085452557  \n",
       "154  PRACA 14 DE JANEIRO  PRAÇA 14 DE JANEIRO       SUL  0,861920359  \n",
       "159               FLORES               FLORES       SUL  0,198306463  \n",
       "197          CIDADE NOVA          CIDADE NOVA     NORTE  0,068152389  "
      ]
     },
     "execution_count": 11,
     "metadata": {},
     "output_type": "execute_result"
    }
   ],
   "source": [
    "data.head()"
   ]
  },
  {
   "cell_type": "code",
   "execution_count": 12,
   "id": "3a19f5f6",
   "metadata": {},
   "outputs": [],
   "source": [
    "#data.dropna(subset=['_dt_notificacao','_classificacao','_conclusao','_origem','_criterio','_idade','_faixa etária','_se_notificacao','_sexo','_srag','_teste_anticorpo','_teste_antigeno','_teste_pcr','_bairro','_bairro_mapa','_distrito','_taxa'],inplace=True)"
   ]
  },
  {
   "cell_type": "code",
   "execution_count": null,
   "id": "9f0a554c",
   "metadata": {},
   "outputs": [],
   "source": []
  },
  {
   "cell_type": "code",
   "execution_count": 13,
   "id": "69b9acb4",
   "metadata": {},
   "outputs": [
    {
     "name": "stdout",
     "output_type": "stream",
     "text": [
      "<class 'pandas.core.frame.DataFrame'>\n",
      "Int64Index: 80420 entries, 131 to 243983\n",
      "Data columns (total 17 columns):\n",
      " #   Column            Non-Null Count  Dtype \n",
      "---  ------            --------------  ----- \n",
      " 0   _dt_notificacao   80395 non-null  object\n",
      " 1   _classificacao    80420 non-null  object\n",
      " 2   _conclusao        42774 non-null  object\n",
      " 3   _origem           80420 non-null  object\n",
      " 4   _criterio         8842 non-null   object\n",
      " 5   _idade            80395 non-null  object\n",
      " 6   _faixa etária     80395 non-null  object\n",
      " 7   _se_notificacao   80395 non-null  object\n",
      " 8   _sexo             80301 non-null  object\n",
      " 9   _srag             9095 non-null   object\n",
      " 10  _teste_anticorpo  52177 non-null  object\n",
      " 11  _teste_antigeno   8342 non-null   object\n",
      " 12  _teste_pcr        23308 non-null  object\n",
      " 13  _bairro           79649 non-null  object\n",
      " 14  _bairro_mapa      76699 non-null  object\n",
      " 15  _distrito         76699 non-null  object\n",
      " 16  _taxa             76699 non-null  object\n",
      "dtypes: object(17)\n",
      "memory usage: 11.0+ MB\n"
     ]
    }
   ],
   "source": [
    "data.info()"
   ]
  },
  {
   "cell_type": "markdown",
   "id": "93f9f50b",
   "metadata": {},
   "source": [
    "###### REMOVENDO LINHAS SEM BAIRROS IDENTIFICADOS "
   ]
  },
  {
   "cell_type": "code",
   "execution_count": 14,
   "id": "2ad646c8",
   "metadata": {},
   "outputs": [
    {
     "data": {
      "text/plain": [
       "131       False\n",
       "145       False\n",
       "154       False\n",
       "159       False\n",
       "197       False\n",
       "          ...  \n",
       "243971     True\n",
       "243974    False\n",
       "243978    False\n",
       "243980    False\n",
       "243983    False\n",
       "Name: _bairro, Length: 80420, dtype: bool"
      ]
     },
     "execution_count": 14,
     "metadata": {},
     "output_type": "execute_result"
    }
   ],
   "source": [
    "nan_value = float(\"NaN\")\n",
    "data['_bairro'].replace(\"\", nan_value, inplace=True)\n",
    "data['_bairro'].isnull()"
   ]
  },
  {
   "cell_type": "code",
   "execution_count": 15,
   "id": "d5bc7cdf",
   "metadata": {},
   "outputs": [
    {
     "data": {
      "text/plain": [
       "CIDADE NOVA                 4767\n",
       "FLORES                      3007\n",
       "SAO JOSE OPERARIO           2637\n",
       "NOVO ALEIXO                 2366\n",
       "ALVORADA                    2314\n",
       "                            ... \n",
       "VIEIRA LVES                    1\n",
       "ARCO IRIS                      1\n",
       "NOSSA SENHOR ADAS GRAÇAS       1\n",
       "CONJ CIDADE NOVA II            1\n",
       "COLÔNIA ANTONIO ALEIXO         1\n",
       "Name: _bairro, Length: 2629, dtype: int64"
      ]
     },
     "execution_count": 15,
     "metadata": {},
     "output_type": "execute_result"
    }
   ],
   "source": [
    "data.dropna(subset = [\"_bairro\"], inplace=True)\n",
    "bairros = data['_bairro'].value_counts()\n",
    "bairros"
   ]
  },
  {
   "cell_type": "code",
   "execution_count": 36,
   "id": "6a9511be",
   "metadata": {},
   "outputs": [
    {
     "data": {
      "text/plain": [
       "131       False\n",
       "145       False\n",
       "154       False\n",
       "159       False\n",
       "197       False\n",
       "          ...  \n",
       "243924    False\n",
       "243974    False\n",
       "243978    False\n",
       "243980    False\n",
       "243983    False\n",
       "Name: _sexo, Length: 79649, dtype: bool"
      ]
     },
     "execution_count": 36,
     "metadata": {},
     "output_type": "execute_result"
    }
   ],
   "source": [
    "nan_value = float(\"NaN\")\n",
    "data['_sexo'].replace(\"\", nan_value, inplace=True)\n",
    "data['_sexo'].isnull()"
   ]
  },
  {
   "cell_type": "code",
   "execution_count": 37,
   "id": "fa6e5f08",
   "metadata": {},
   "outputs": [
    {
     "data": {
      "text/plain": [
       "F    43805\n",
       "M    35725\n",
       "Name: _sexo, dtype: int64"
      ]
     },
     "execution_count": 37,
     "metadata": {},
     "output_type": "execute_result"
    }
   ],
   "source": [
    "data.dropna(subset = [\"_sexo\"], inplace=True)\n",
    "bairros = data['_sexo'].value_counts()"
   ]
  },
  {
   "cell_type": "code",
   "execution_count": 69,
   "id": "ac113dd8",
   "metadata": {},
   "outputs": [
    {
     "data": {
      "text/plain": [
       "131       False\n",
       "145       False\n",
       "154       False\n",
       "159       False\n",
       "197       False\n",
       "          ...  \n",
       "243924    False\n",
       "243974    False\n",
       "243978    False\n",
       "243980    False\n",
       "243983    False\n",
       "Name: _idade, Length: 79530, dtype: bool"
      ]
     },
     "execution_count": 69,
     "metadata": {},
     "output_type": "execute_result"
    }
   ],
   "source": [
    "nan_value = float(\"NaN\")\n",
    "data['_idade'].replace(\"\", nan_value, inplace=True)\n",
    "data['_idade'].isnull()"
   ]
  },
  {
   "cell_type": "code",
   "execution_count": 70,
   "id": "196558bc",
   "metadata": {},
   "outputs": [],
   "source": [
    "data.dropna(subset = [\"_idade\"], inplace=True)\n",
    "bairros = data['_idade'].value_counts()"
   ]
  },
  {
   "cell_type": "markdown",
   "id": "7f830c66",
   "metadata": {},
   "source": [
    "### Ordem com 10 Bairros com mais casos confirmados"
   ]
  },
  {
   "cell_type": "code",
   "execution_count": 16,
   "id": "0a3a9e1a",
   "metadata": {},
   "outputs": [],
   "source": [
    "outro_bairros=bairros[11:].sum()"
   ]
  },
  {
   "cell_type": "code",
   "execution_count": 17,
   "id": "7953e6e8",
   "metadata": {},
   "outputs": [],
   "source": [
    "locais = bairros[0:10].to_frame()"
   ]
  },
  {
   "cell_type": "code",
   "execution_count": 18,
   "id": "657516ea",
   "metadata": {},
   "outputs": [],
   "source": [
    "locais.loc['Outros'] = [outro_bairros]"
   ]
  },
  {
   "cell_type": "code",
   "execution_count": 19,
   "id": "541bf36a",
   "metadata": {},
   "outputs": [
    {
     "data": {
      "text/html": [
       "<div>\n",
       "<style scoped>\n",
       "    .dataframe tbody tr th:only-of-type {\n",
       "        vertical-align: middle;\n",
       "    }\n",
       "\n",
       "    .dataframe tbody tr th {\n",
       "        vertical-align: top;\n",
       "    }\n",
       "\n",
       "    .dataframe thead th {\n",
       "        text-align: right;\n",
       "    }\n",
       "</style>\n",
       "<table border=\"1\" class=\"dataframe\">\n",
       "  <thead>\n",
       "    <tr style=\"text-align: right;\">\n",
       "      <th></th>\n",
       "      <th>_bairro</th>\n",
       "    </tr>\n",
       "  </thead>\n",
       "  <tbody>\n",
       "    <tr>\n",
       "      <th>CIDADE NOVA</th>\n",
       "      <td>4767</td>\n",
       "    </tr>\n",
       "    <tr>\n",
       "      <th>FLORES</th>\n",
       "      <td>3007</td>\n",
       "    </tr>\n",
       "    <tr>\n",
       "      <th>SAO JOSE OPERARIO</th>\n",
       "      <td>2637</td>\n",
       "    </tr>\n",
       "    <tr>\n",
       "      <th>NOVO ALEIXO</th>\n",
       "      <td>2366</td>\n",
       "    </tr>\n",
       "    <tr>\n",
       "      <th>ALVORADA</th>\n",
       "      <td>2314</td>\n",
       "    </tr>\n",
       "    <tr>\n",
       "      <th>JORGE TEIXEIRA</th>\n",
       "      <td>2294</td>\n",
       "    </tr>\n",
       "    <tr>\n",
       "      <th>CENTRO</th>\n",
       "      <td>2210</td>\n",
       "    </tr>\n",
       "    <tr>\n",
       "      <th>COMPENSA</th>\n",
       "      <td>2200</td>\n",
       "    </tr>\n",
       "    <tr>\n",
       "      <th>COROADO</th>\n",
       "      <td>2067</td>\n",
       "    </tr>\n",
       "    <tr>\n",
       "      <th>ALEIXO</th>\n",
       "      <td>2007</td>\n",
       "    </tr>\n",
       "    <tr>\n",
       "      <th>Outros</th>\n",
       "      <td>51927</td>\n",
       "    </tr>\n",
       "  </tbody>\n",
       "</table>\n",
       "</div>"
      ],
      "text/plain": [
       "                   _bairro\n",
       "CIDADE NOVA           4767\n",
       "FLORES                3007\n",
       "SAO JOSE OPERARIO     2637\n",
       "NOVO ALEIXO           2366\n",
       "ALVORADA              2314\n",
       "JORGE TEIXEIRA        2294\n",
       "CENTRO                2210\n",
       "COMPENSA              2200\n",
       "COROADO               2067\n",
       "ALEIXO                2007\n",
       "Outros               51927"
      ]
     },
     "execution_count": 19,
     "metadata": {},
     "output_type": "execute_result"
    }
   ],
   "source": [
    "locais"
   ]
  },
  {
   "cell_type": "code",
   "execution_count": 20,
   "id": "75a63d62",
   "metadata": {},
   "outputs": [],
   "source": [
    "n_casos = locais['_bairro'].values.tolist()"
   ]
  },
  {
   "cell_type": "code",
   "execution_count": 21,
   "id": "81a10305",
   "metadata": {},
   "outputs": [],
   "source": [
    "nome_locais = locais.index.tolist()"
   ]
  },
  {
   "cell_type": "code",
   "execution_count": 30,
   "id": "454eaa0d",
   "metadata": {},
   "outputs": [
    {
     "data": {
      "image/png": "[encoded data removed]",
      "text/plain": [
       "<Figure size 432x288 with 1 Axes>"
      ]
     },
     "metadata": {},
     "output_type": "display_data"
    }
   ],
   "source": [
    "\n",
    "cores=['gold', 'red', 'blue', 'magenta', 'green','lightskyblue', 'yellowgreen']\n",
    "\n",
    "# Atribuindo um título ao gráfico\n",
    "plt.title('Bairros com mais casos confirmados')\n",
    "\n",
    "plt.pie(n_casos, labels=nome_locais, colors=cores, autopct='%1.1f%%', shadow=True, startangle=90)\n",
    "\n",
    "#Adiciona Legenda\n",
    "plt.legend(nome_locais, bbox_to_anchor=(1.3, 1.1))\n",
    "\n",
    "#Centraliza o gráfico\n",
    "plt.axis('equal')\n",
    "\n",
    "#Ajusta o espaçamento para evitar o recorte do rótulo\n",
    "plt.tight_layout()\n",
    "\n",
    "plt.show()"
   ]
  },
  {
   "cell_type": "markdown",
   "id": "f1219f78",
   "metadata": {},
   "source": [
    "### 2.2.1 - Distribuição dos 10 bairros com mais casos confirmados, incluindo demais bairros"
   ]
  },
  {
   "cell_type": "markdown",
   "id": "966b7267",
   "metadata": {},
   "source": [
    "## ----------------------------------------------------------------------------------------------------------\n",
    "#### Atividade 2.2.2"
   ]
  },
  {
   "cell_type": "code",
   "execution_count": 31,
   "id": "4b8144be",
   "metadata": {},
   "outputs": [
    {
     "data": {
      "text/plain": [
       "F    43805\n",
       "M    35725\n",
       "Name: _sexo, dtype: int64"
      ]
     },
     "execution_count": 31,
     "metadata": {},
     "output_type": "execute_result"
    }
   ],
   "source": [
    "data['_sexo'].value_counts()"
   ]
  },
  {
   "cell_type": "code",
   "execution_count": 77,
   "id": "f1005677",
   "metadata": {},
   "outputs": [
    {
     "data": {
      "text/plain": [
       "131       1\n",
       "145       1\n",
       "154       1\n",
       "159       1\n",
       "197       1\n",
       "         ..\n",
       "243924    0\n",
       "243974    0\n",
       "243978    1\n",
       "243980    1\n",
       "243983    1\n",
       "Name: _sexo, Length: 79505, dtype: object"
      ]
     },
     "execution_count": 77,
     "metadata": {},
     "output_type": "execute_result"
    }
   ],
   "source": [
    "data['_sexo']"
   ]
  },
  {
   "cell_type": "code",
   "execution_count": 100,
   "id": "758c9498",
   "metadata": {},
   "outputs": [
    {
     "name": "stdout",
     "output_type": "stream",
     "text": [
      "<class 'pandas.core.frame.DataFrame'>\n",
      "Int64Index: 79505 entries, 131 to 243983\n",
      "Data columns (total 17 columns):\n",
      " #   Column            Non-Null Count  Dtype  \n",
      "---  ------            --------------  -----  \n",
      " 0   _dt_notificacao   79505 non-null  object \n",
      " 1   _classificacao    79505 non-null  object \n",
      " 2   _conclusao        42685 non-null  object \n",
      " 3   _origem           79505 non-null  object \n",
      " 4   _criterio         8823 non-null   object \n",
      " 5   _idade            79505 non-null  float64\n",
      " 6   _faixa etária     79505 non-null  object \n",
      " 7   _se_notificacao   79505 non-null  object \n",
      " 8   _sexo             79505 non-null  object \n",
      " 9   _srag             9074 non-null   object \n",
      " 10  _teste_anticorpo  51969 non-null  object \n",
      " 11  _teste_antigeno   8331 non-null   object \n",
      " 12  _teste_pcr        22621 non-null  object \n",
      " 13  _bairro           79505 non-null  object \n",
      " 14  _bairro_mapa      76559 non-null  object \n",
      " 15  _distrito         76559 non-null  object \n",
      " 16  _taxa             76559 non-null  object \n",
      "dtypes: float64(1), object(16)\n",
      "memory usage: 10.9+ MB\n"
     ]
    }
   ],
   "source": [
    "data.info()\n"
   ]
  },
  {
   "cell_type": "markdown",
   "id": "d612fe07",
   "metadata": {},
   "source": [
    "        Modificamos o Dtpye da Coluna '_idade', de 'objet' para 'float', para aplicarmos o BoxPlot"
   ]
  },
  {
   "cell_type": "code",
   "execution_count": 99,
   "id": "8af0b5c8",
   "metadata": {},
   "outputs": [],
   "source": [
    "data['_idade'] = data['_idade'].astype(float, errors = 'raise')"
   ]
  },
  {
   "cell_type": "code",
   "execution_count": 109,
   "id": "c0ed479f",
   "metadata": {},
   "outputs": [
    {
     "data": {
      "text/plain": [
       "<AxesSubplot:title={'center':'_idade'}, xlabel='_sexo'>"
      ]
     },
     "execution_count": 109,
     "metadata": {},
     "output_type": "execute_result"
    },
    {
     "data": {
      "image/png": "[encoded data removed]",
      "text/plain": [
       "<Figure size 504x648 with 1 Axes>"
      ]
     },
     "metadata": {
      "needs_background": "light"
     },
     "output_type": "display_data"
    }
   ],
   "source": [
    "data.boxplot(column=['_idade'],by='_sexo',figsize=(7,9))"
   ]
  },
  {
   "cell_type": "code",
   "execution_count": 120,
   "id": "957a8333",
   "metadata": {},
   "outputs": [],
   "source": [
    "x = data.loc[data['_idade']>=150]"
   ]
  },
  {
   "cell_type": "code",
   "execution_count": 121,
   "id": "e4e67743",
   "metadata": {},
   "outputs": [
    {
     "data": {
      "text/plain": [
       "Int64Index([23222, 59745, 83433], dtype='int64')"
      ]
     },
     "execution_count": 121,
     "metadata": {},
     "output_type": "execute_result"
    }
   ],
   "source": [
    "x.index"
   ]
  },
  {
   "cell_type": "code",
   "execution_count": 119,
   "id": "e4ad56ec",
   "metadata": {},
   "outputs": [
    {
     "data": {
      "text/plain": [
       "360.0"
      ]
     },
     "execution_count": 119,
     "metadata": {},
     "output_type": "execute_result"
    }
   ],
   "source": [
    "data['_idade'][23222]"
   ]
  },
  {
   "cell_type": "markdown",
   "id": "0487064b",
   "metadata": {},
   "source": [
    "#### Como podemos ver, há muitos outliners, principalmente nas idades próximas a 80 anos.\n",
    "#### Vemos 3 dados, com idades maiores que 150 anos, ou seja, provavelmente são dados incorretos."
   ]
  },
  {
   "cell_type": "markdown",
   "id": "2dce542d",
   "metadata": {},
   "source": [
    "# -----------------------------------------------------------------------------------------"
   ]
  },
  {
   "cell_type": "code",
   "execution_count": null,
   "id": "73ad6ebd",
   "metadata": {},
   "outputs": [],
   "source": []
  }
 ],
 "metadata": {
  "kernelspec": {
   "display_name": "Python 3 (ipykernel)",
   "language": "python",
   "name": "python3"
  },
  "language_info": {
   "codemirror_mode": {
    "name": "ipython",
    "version": 3
   },
   "file_extension": ".py",
   "mimetype": "text/x-python",
   "name": "python",
   "nbconvert_exporter": "python",
   "pygments_lexer": "ipython3",
   "version": "3.8.5"
  }
 },
 "nbformat": 4,
 "nbformat_minor": 5
}
